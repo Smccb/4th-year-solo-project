{
 "cells": [
  {
   "cell_type": "code",
   "execution_count": 9,
   "metadata": {},
   "outputs": [],
   "source": [
    "#example based on https://keras.io/guides/working_with_rnns/\n",
    "import numpy as np\n",
    "import tensorflow as tf\n",
    "from tensorflow.keras.models import Sequential\n",
    "from tensorflow.keras.layers import Embedding, LSTM, Dense\n",
    "from tensorflow.keras.preprocessing.text import Tokenizer\n",
    "from tensorflow.keras.preprocessing.sequence import pad_sequences\n",
    "from tensorflow.keras.utils import to_categorical\n",
    "import pandas as pd"
   ]
  },
  {
   "cell_type": "code",
   "execution_count": 10,
   "metadata": {},
   "outputs": [],
   "source": [
    "from time import time\n",
    "\n",
    "#from sklearn.datasets import fetch_20newsgroups\n",
    "from sklearn.feature_extraction.text import TfidfVectorizer\n",
    "\n",
    "categories = [\n",
    "    \"neutral\",\n",
    "    \"negative\",\n",
    "    \"positive\",\n",
    "]\n",
    "\n",
    "data_train = pd.read_json(\"train.jsonl\", lines=True)"
   ]
  },
  {
   "cell_type": "code",
   "execution_count": 13,
   "metadata": {},
   "outputs": [
    {
     "data": {
      "text/html": [
       "<div>\n",
       "<style scoped>\n",
       "    .dataframe tbody tr th:only-of-type {\n",
       "        vertical-align: middle;\n",
       "    }\n",
       "\n",
       "    .dataframe tbody tr th {\n",
       "        vertical-align: top;\n",
       "    }\n",
       "\n",
       "    .dataframe thead th {\n",
       "        text-align: right;\n",
       "    }\n",
       "</style>\n",
       "<table border=\"1\" class=\"dataframe\">\n",
       "  <thead>\n",
       "    <tr style=\"text-align: right;\">\n",
       "      <th></th>\n",
       "      <th>mention</th>\n",
       "      <th>polarity</th>\n",
       "      <th>from</th>\n",
       "      <th>to</th>\n",
       "      <th>sentence</th>\n",
       "      <th>id</th>\n",
       "    </tr>\n",
       "  </thead>\n",
       "  <tbody>\n",
       "    <tr>\n",
       "      <th>0</th>\n",
       "      <td>Winner</td>\n",
       "      <td>0</td>\n",
       "      <td>0</td>\n",
       "      <td>6</td>\n",
       "      <td>Winner wrote that she had a 30-minute private ...</td>\n",
       "      <td>allsides_1000_401_25_Reality Leigh Winner_0_6</td>\n",
       "    </tr>\n",
       "    <tr>\n",
       "      <th>1</th>\n",
       "      <td>She</td>\n",
       "      <td>-1</td>\n",
       "      <td>0</td>\n",
       "      <td>3</td>\n",
       "      <td>She also recently referred to President Trump ...</td>\n",
       "      <td>allsides_1000_401_3_Reality Leigh Winner_0_3</td>\n",
       "    </tr>\n",
       "    <tr>\n",
       "      <th>2</th>\n",
       "      <td>President Trump</td>\n",
       "      <td>-1</td>\n",
       "      <td>30</td>\n",
       "      <td>45</td>\n",
       "      <td>She also recently referred to President Trump ...</td>\n",
       "      <td>allsides_1000_401_3_’ Trump_30_45</td>\n",
       "    </tr>\n",
       "    <tr>\n",
       "      <th>3</th>\n",
       "      <td>Hillary Clinton</td>\n",
       "      <td>-1</td>\n",
       "      <td>0</td>\n",
       "      <td>15</td>\n",
       "      <td>Hillary Clinton blamed the Democratic National...</td>\n",
       "      <td>allsides_1018_408_1_Hillary Clinton_2_17</td>\n",
       "    </tr>\n",
       "    <tr>\n",
       "      <th>4</th>\n",
       "      <td>Facebook</td>\n",
       "      <td>-1</td>\n",
       "      <td>58</td>\n",
       "      <td>66</td>\n",
       "      <td>Hillary Clinton blamed the Democratic National...</td>\n",
       "      <td>allsides_1018_408_1_Facebook_60_68</td>\n",
       "    </tr>\n",
       "  </tbody>\n",
       "</table>\n",
       "</div>"
      ],
      "text/plain": [
       "           mention  polarity  from  to  \\\n",
       "0           Winner         0     0   6   \n",
       "1              She        -1     0   3   \n",
       "2  President Trump        -1    30  45   \n",
       "3  Hillary Clinton        -1     0  15   \n",
       "4         Facebook        -1    58  66   \n",
       "\n",
       "                                            sentence  \\\n",
       "0  Winner wrote that she had a 30-minute private ...   \n",
       "1  She also recently referred to President Trump ...   \n",
       "2  She also recently referred to President Trump ...   \n",
       "3  Hillary Clinton blamed the Democratic National...   \n",
       "4  Hillary Clinton blamed the Democratic National...   \n",
       "\n",
       "                                              id  \n",
       "0  allsides_1000_401_25_Reality Leigh Winner_0_6  \n",
       "1   allsides_1000_401_3_Reality Leigh Winner_0_3  \n",
       "2              allsides_1000_401_3_’ Trump_30_45  \n",
       "3       allsides_1018_408_1_Hillary Clinton_2_17  \n",
       "4             allsides_1018_408_1_Facebook_60_68  "
      ]
     },
     "execution_count": 13,
     "metadata": {},
     "output_type": "execute_result"
    }
   ],
   "source": [
    "data_train = pd.read_json(\"train.jsonl\", lines=True)\n",
    "data_test = pd.read_json(\"test.jsonl\", lines=True)\n",
    "data_train.head()\n",
    "#data_test.head()"
   ]
  },
  {
   "cell_type": "code",
   "execution_count": null,
   "metadata": {},
   "outputs": [],
   "source": [
    "x_train = data_train.sentence\n",
    "y_train = data_train.polarity\n",
    "\n",
    "x_test = data_test.sentence\n",
    "y_test = data_test.polarity"
   ]
  },
  {
   "cell_type": "code",
   "execution_count": 12,
   "metadata": {},
   "outputs": [
    {
     "name": "stdout",
     "output_type": "stream",
     "text": [
      "              precision    recall  f1-score   support\n",
      "\n",
      "          -1       0.61      0.61      0.61       294\n",
      "           0       0.72      0.60      0.65       386\n",
      "           1       0.36      0.55      0.44       123\n",
      "\n",
      "    accuracy                           0.60       803\n",
      "   macro avg       0.56      0.59      0.57       803\n",
      "weighted avg       0.63      0.60      0.60       803\n",
      "\n"
     ]
    }
   ],
   "source": [
    "# SVM model\n",
    "vectorizer = TfidfVectorizer()\n",
    "x_train= vectorizer.fit_transform(x_train)\n",
    "x_test= vectorizer.transform(x_test)\n",
    "\n",
    "from sklearn.svm import SVC\n",
    "svc = SVC(random_state=1)\n",
    "\n",
    "svc.fit(x_train, y_train)\n",
    "predictions = svc.predict(x_test)\n",
    "\n",
    "from sklearn.metrics import classification_report\n",
    "report = classification_report(predictions, y_test)\n",
    "\n",
    "print(report)"
   ]
  },
  {
   "cell_type": "code",
   "execution_count": 11,
   "metadata": {},
   "outputs": [
    {
     "name": "stdout",
     "output_type": "stream",
     "text": [
      "              precision    recall  f1-score   support\n",
      "\n",
      "           0       0.54      0.59      0.56       269\n",
      "           1       0.68      0.57      0.62       385\n",
      "           2       0.38      0.48      0.42       149\n",
      "\n",
      "    accuracy                           0.56       803\n",
      "   macro avg       0.53      0.54      0.53       803\n",
      "weighted avg       0.58      0.56      0.56       803\n",
      "\n"
     ]
    }
   ],
   "source": [
    "# xgboost model\n",
    "\n",
    "import xgboost\n",
    "from sklearn.preprocessing import LabelEncoder\n",
    "\n",
    "xgb_dt = xgboost.XGBClassifier(random_state=1)\n",
    "encoder = LabelEncoder()\n",
    "y_train = encoder.fit_transform(y_train)\n",
    "y_test = encoder.transform(y_test)\n",
    "xgb_dt.fit(x_train, y_train)\n",
    "predictions = xgb_dt.predict(x_test)\n",
    "\n",
    "from sklearn.metrics import classification_report\n",
    "report = classification_report(predictions, y_test)\n",
    "print(report)"
   ]
  }
 ],
 "metadata": {
  "kernelspec": {
   "display_name": ".venv",
   "language": "python",
   "name": "python3"
  },
  "language_info": {
   "codemirror_mode": {
    "name": "ipython",
    "version": 3
   },
   "file_extension": ".py",
   "mimetype": "text/x-python",
   "name": "python",
   "nbconvert_exporter": "python",
   "pygments_lexer": "ipython3",
   "version": "3.10.14"
  }
 },
 "nbformat": 4,
 "nbformat_minor": 2
}
