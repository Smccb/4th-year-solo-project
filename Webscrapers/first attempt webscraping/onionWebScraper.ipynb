{
 "cells": [
  {
   "cell_type": "code",
   "execution_count": 1,
   "metadata": {},
   "outputs": [
    {
     "name": "stdout",
     "output_type": "stream",
     "text": [
      "The Onion Article Scraper\n",
      "By Pigeonburger <https://github.com/pigeonburger>, 2021\n",
      "--------------------------\n",
      "Scanning sitemap.......\n",
      "Found 50463 articles\n"
     ]
    }
   ],
   "source": [
    "import re\n",
    "import time\n",
    "import requests\n",
    "from threading import Thread\n",
    "from bs4 import BeautifulSoup\n",
    "\n",
    "headers = {\n",
    "    'User-Agent': 'Mozilla/5.0 (Windows NT 10.0; Win64; x64; rv:94.0) Gecko/20100101 Firefox/94.0'\n",
    "}\n",
    "\n",
    "def parse_sitemap():\n",
    "    global urls\n",
    "    print('Scanning sitemap.......')\n",
    "    base = 'https://www.theonion.com'\n",
    "    r = requests.get(base+'/sitemap', headers=headers)\n",
    "    soup = BeautifulSoup(r.text, 'html.parser')\n",
    "    months = soup.find_all('a', class_='js_sitemap-month')\n",
    "\n",
    "    urls = []\n",
    "    for month in months:\n",
    "        t = Thread(target=get_sitemap_links, args=(month,))\n",
    "        t.daemon = True\n",
    "        t.start()\n",
    "        time.sleep(0.1)\n",
    "        \n",
    "        print(f'Found {len(urls)} articles', end='\\r')\n",
    "    print()\n",
    "    return urls\n",
    "\n",
    "def get_sitemap_links(month):\n",
    "    base = 'https://www.theonion.com'\n",
    "    month_url = base+month['href']\n",
    "    r = requests.get(month_url, headers=headers)\n",
    "    soup = BeautifulSoup(r.text, 'html.parser')\n",
    "    article_links = [i.find('a')['href'] for i in soup.find_all('h4', class_='js_sitemap-article')]\n",
    "    urls.extend(article_links)\n",
    "\n",
    "def get_article_content(url):\n",
    "    r = requests.get(url, headers=headers)\n",
    "    soup = BeautifulSoup(r.text, 'html.parser')\n",
    "    try:\n",
    "        title = soup.find('h1', class_='bBLibw').encode_contents().decode('utf-8')\n",
    "\n",
    "        content = soup.find('div', class_='js_post-content').find_all('p')\n",
    "        if content == []:\n",
    "            h = None\n",
    "        article_content = [re.sub('<[^<]+?>', '', i.encode_contents().decode('utf-8')) for i in content]\n",
    "        article_content.insert(0, title)\n",
    "        h = '\\n\\n'.join(article_content)\n",
    "    except:\n",
    "        h = None\n",
    "    \n",
    "    if h != None:\n",
    "        print(f'Fetched {urls.index(url) + 1} of {len(urls)} articles......', end='\\r')\n",
    "        with open('theonioncontent.txt', 'a+', encoding='utf-8') as contentfile:\n",
    "            contentfile.write('<|startoftext|>'+h+'<|endoftext|>\\n')\n",
    "\n",
    "def main():\n",
    "    global urls\n",
    "    urls = parse_sitemap()\n",
    "    for url in urls:\n",
    "        t = Thread(target=get_article_content, args=(url,))\n",
    "        t.daemon = True\n",
    "        t.start()\n",
    "        time.sleep(0.1)\n",
    "    print(f'\\nDone scraping articles.')\n",
    "\n",
    "print('The Onion Article Scraper')\n",
    "print('By Pigeonburger <https://github.com/pigeonburger>, 2021')\n",
    "print('--------------------------')\n",
    "main()"
   ]
  }
 ],
 "metadata": {
  "kernelspec": {
   "display_name": ".venv",
   "language": "python",
   "name": "python3"
  },
  "language_info": {
   "codemirror_mode": {
    "name": "ipython",
    "version": 3
   },
   "file_extension": ".py",
   "mimetype": "text/x-python",
   "name": "python",
   "nbconvert_exporter": "python",
   "pygments_lexer": "ipython3",
   "version": "3.11.0"
  }
 },
 "nbformat": 4,
 "nbformat_minor": 2
}
