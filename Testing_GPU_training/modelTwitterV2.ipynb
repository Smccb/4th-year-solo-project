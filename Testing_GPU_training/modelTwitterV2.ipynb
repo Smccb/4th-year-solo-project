{
 "cells": [
  {
   "cell_type": "code",
   "execution_count": 4,
   "metadata": {},
   "outputs": [
    {
     "name": "stdout",
     "output_type": "stream",
     "text": [
      "Num GPUs Available:  1\n"
     ]
    }
   ],
   "source": [
    "import tensorflow as tf\n",
    "print(\"Num GPUs Available: \", len(tf.config.experimental.list_physical_devices('GPU')))\n"
   ]
  },
  {
   "cell_type": "code",
   "execution_count": 4,
   "metadata": {},
   "outputs": [],
   "source": [
    "import numpy as np\n",
    "import tensorflow as tf\n",
    "\n",
    "from tensorflow.keras.models import Sequential\n",
    "from tensorflow.keras.layers import Embedding, LSTM, Dense\n",
    "from tensorflow.keras.preprocessing.text import Tokenizer\n",
    "from tensorflow.keras.preprocessing.sequence import pad_sequences\n",
    "from tensorflow.keras.utils import to_categorical\n",
    "import pandas as pd"
   ]
  },
  {
   "cell_type": "code",
   "execution_count": 5,
   "metadata": {},
   "outputs": [
    {
     "name": "stdout",
     "output_type": "stream",
     "text": [
      "Number of rows for each value in the 'isSarcastic' column:\n",
      "isSarcastic\n",
      "0    21292\n",
      "1    18488\n",
      "Name: count, dtype: int64\n"
     ]
    }
   ],
   "source": [
    "import pandas as pd\n",
    "\n",
    "# Read the dataset\n",
    "dataset = pd.read_json(\"data_without_hashtags.json\")\n",
    "\n",
    "# Assuming \"is_sarcastic\" is the column you're interested in\n",
    "sarcastic_counts = dataset['isSarcastic'].value_counts()\n",
    "\n",
    "# Display the result\n",
    "print(\"Number of rows for each value in the 'isSarcastic' column:\")\n",
    "print(sarcastic_counts)"
   ]
  },
  {
   "cell_type": "code",
   "execution_count": 6,
   "metadata": {},
   "outputs": [
    {
     "data": {
      "image/png": "[encoded data removed]",
      "text/plain": [
       "<Figure size 640x480 with 1 Axes>"
      ]
     },
     "metadata": {},
     "output_type": "display_data"
    }
   ],
   "source": [
    "import matplotlib.pyplot as plt\n",
    "\n",
    "text_data = dataset['text']\n",
    "\n",
    "# Calculate sentence lengths\n",
    "sentence_lengths = [len(sequence) for sequence in text_data]\n",
    "\n",
    "# Plot histogram\n",
    "plt.hist(sentence_lengths, bins=50)\n",
    "plt.title('Distribution of Sequence Lengths')\n",
    "plt.xlabel('Number of Words (in sequences)')\n",
    "plt.ylabel('Frequency')\n",
    "plt.show()"
   ]
  },
  {
   "cell_type": "code",
   "execution_count": 7,
   "metadata": {},
   "outputs": [
    {
     "name": "stdout",
     "output_type": "stream",
     "text": [
      "Shape of X_train: (31824, 138)\n",
      "Shape of X_test: (7956, 138)\n"
     ]
    }
   ],
   "source": [
    "import pandas as pd\n",
    "from sklearn.model_selection import train_test_split\n",
    "from keras.preprocessing.text import Tokenizer\n",
    "##from keras.preprocessing.sequence import pad_sequences\n",
    "from keras.utils import to_categorical\n",
    "\n",
    "# Read the dataset\n",
    "#dataset = pd.read_json(\"data_without_hashtags.json\")\n",
    "\n",
    "# Split the dataset into training and testing sets\n",
    "X_train, X_test, y_train, y_test = train_test_split(dataset['text'], dataset['isSarcastic'], test_size=0.2, random_state=42)\n",
    "\n",
    "# Tokenize and vectorize the training text data using Tokenizer and pad_sequences\n",
    "max_length = 138\n",
    "tokenizer = Tokenizer()\n",
    "tokenizer.fit_on_texts(X_train)\n",
    "X_train = tokenizer.texts_to_sequences(X_train)\n",
    "X_train = pad_sequences(X_train, maxlen=max_length)\n",
    "\n",
    "y_train_categorical = to_categorical(y_train, num_classes=2)\n",
    "\n",
    "# Display the shapes of the resulting matrices\n",
    "print(\"Shape of X_train:\", X_train.shape)\n",
    "\n",
    "# Tokenize and vectorize the testing text data using the same Tokenizer\n",
    "X_test = tokenizer.texts_to_sequences(X_test)\n",
    "X_test = pad_sequences(X_test, maxlen=max_length)\n",
    "\n",
    "# Display the shape of X_test\n",
    "print(\"Shape of X_test:\", X_test.shape)"
   ]
  },
  {
   "cell_type": "code",
   "execution_count": 8,
   "metadata": {},
   "outputs": [
    {
     "name": "stdout",
     "output_type": "stream",
     "text": [
      "Model: \"sequential\"\n",
      "_________________________________________________________________\n",
      " Layer (type)                Output Shape              Param #   \n",
      "=================================================================\n",
      " embedding (Embedding)       (None, 138, 100)          3221100   \n",
      "                                                                 \n",
      " cu_dnnlstm (CuDNNLSTM)      (None, 150)               151200    \n",
      "                                                                 \n",
      " dense (Dense)               (None, 1)                 151       \n",
      "                                                                 \n",
      "=================================================================\n",
      "Total params: 3,372,451\n",
      "Trainable params: 3,372,451\n",
      "Non-trainable params: 0\n",
      "_________________________________________________________________\n"
     ]
    }
   ],
   "source": [
    "from keras.layers import CuDNNLSTM\n",
    "from keras.models import Sequential\n",
    "from keras.layers import Embedding, LSTM, Dense\n",
    "\n",
    "embedding_dim = 100\n",
    "\n",
    "# Define the vocabulary size based on the actual number of unique words in the training data\n",
    "vocab_size = len(tokenizer.word_index) + 1\n",
    "\n",
    "max_length = 138\n",
    "\n",
    "m1 = Sequential()\n",
    "m1.add(Embedding(input_dim=vocab_size, output_dim=embedding_dim, input_length=max_length))\n",
    "m1.add(CuDNNLSTM(units=150))  # Use CuDNNLSTM instead of LSTM\n",
    "m1.add(Dense(units=1, activation='sigmoid'))\n",
    "\n",
    "m1.compile(optimizer='adam', loss='binary_crossentropy', metrics=['accuracy'])\n",
    "m1.summary()\n"
   ]
  },
  {
   "cell_type": "code",
   "execution_count": 9,
   "metadata": {},
   "outputs": [
    {
     "name": "stdout",
     "output_type": "stream",
     "text": [
      "Epoch 1/10\n",
      "498/498 [==============================] - 12s 18ms/step - loss: 0.5443 - accuracy: 0.7128 - val_loss: 0.4801 - val_accuracy: 0.7646\n",
      "Epoch 2/10\n",
      "498/498 [==============================] - 8s 17ms/step - loss: 0.3488 - accuracy: 0.8468 - val_loss: 0.4939 - val_accuracy: 0.7700\n",
      "Epoch 3/10\n",
      "498/498 [==============================] - 8s 17ms/step - loss: 0.2326 - accuracy: 0.9060 - val_loss: 0.5793 - val_accuracy: 0.7489\n",
      "Epoch 4/10\n",
      "498/498 [==============================] - 9s 17ms/step - loss: 0.1632 - accuracy: 0.9348 - val_loss: 0.7480 - val_accuracy: 0.7359\n",
      "Epoch 5/10\n",
      "498/498 [==============================] - 9s 17ms/step - loss: 0.1186 - accuracy: 0.9526 - val_loss: 0.7536 - val_accuracy: 0.7384\n",
      "Epoch 6/10\n",
      "498/498 [==============================] - 9s 17ms/step - loss: 0.0906 - accuracy: 0.9648 - val_loss: 0.9814 - val_accuracy: 0.7353\n",
      "Epoch 7/10\n",
      "498/498 [==============================] - 8s 17ms/step - loss: 0.0716 - accuracy: 0.9720 - val_loss: 1.0457 - val_accuracy: 0.7279\n",
      "Epoch 8/10\n",
      "498/498 [==============================] - 9s 17ms/step - loss: 0.0600 - accuracy: 0.9763 - val_loss: 1.1323 - val_accuracy: 0.7332\n",
      "Epoch 9/10\n",
      "498/498 [==============================] - 9s 17ms/step - loss: 0.0484 - accuracy: 0.9811 - val_loss: 1.1921 - val_accuracy: 0.7226\n",
      "Epoch 10/10\n",
      "498/498 [==============================] - 9s 17ms/step - loss: 0.0410 - accuracy: 0.9845 - val_loss: 1.3866 - val_accuracy: 0.7278\n",
      "249/249 [==============================] - 1s 5ms/step - loss: 1.3866 - accuracy: 0.7278\n",
      "Loss: 1.3865902423858643, Accuracy: 72.78%\n"
     ]
    }
   ],
   "source": [
    "# Train the model\n",
    "m1.fit(X_train, y_train, epochs=10, batch_size=64, validation_data=(X_test, y_test))\n",
    "\n",
    "# Evaluate the model\n",
    "loss, accuracy = m1.evaluate(X_test, y_test)\n",
    "print(f'Loss: {loss}, Accuracy: {accuracy * 100:.2f}%')"
   ]
  },
  {
   "cell_type": "code",
   "execution_count": 10,
   "metadata": {},
   "outputs": [
    {
     "name": "stdout",
     "output_type": "stream",
     "text": [
      "249/249 [==============================] - 1s 5ms/step\n",
      "Precision: 0.6835\n",
      "Recall: 0.7677\n"
     ]
    }
   ],
   "source": [
    "from sklearn.metrics import precision_score, recall_score\n",
    "\n",
    "# Predict on validation data\n",
    "y_val_pred_prob_m1 = m1.predict(X_test)\n",
    "y_val_pred_m1 = (y_val_pred_prob_m1 > 0.5).astype(int)  # Threshold for binary classification\n",
    "\n",
    "# Assuming y_test is in binary format (0 or 1)\n",
    "y_val_true_m1 = y_test\n",
    "\n",
    "# Calculate precision and recall for binary classification\n",
    "precision_m1 = precision_score(y_val_true_m1, y_val_pred_m1)\n",
    "recall_m1 = recall_score(y_val_true_m1, y_val_pred_m1)\n",
    "\n",
    "# print the results\n",
    "print(f'Precision: {precision_m1:.4f}')\n",
    "print(f'Recall: {recall_m1:.4f}')"
   ]
  },
  {
   "cell_type": "code",
   "execution_count": 11,
   "metadata": {},
   "outputs": [],
   "source": [
    "#this had to be implemented this way because the pickle and joblib librays that where previously used use a unroll function in for dumping models however this is unsuported with the CuDNNLSTM version\n",
    "\n",
    "import joblib\n",
    "\n",
    "# Save the model architecture\n",
    "with open('model_cudnn_lstm_architecture.joblib', 'wb') as f:\n",
    "    joblib.dump(m1.to_json(), f)\n",
    "\n",
    "# Save the model weights\n",
    "m1.save_weights('model_cudnn_lstm_weights.h5')\n",
    "\n"
   ]
  },
  {
   "cell_type": "code",
   "execution_count": 12,
   "metadata": {},
   "outputs": [],
   "source": [
    "from keras.models import model_from_json\n",
    "import joblib\n",
    "\n",
    "# Load the model architecture\n",
    "with open('model_cudnn_lstm_architecture.joblib', 'rb') as f:\n",
    "    model_json = joblib.load(f)\n",
    "\n",
    "m1_loaded = model_from_json(model_json)\n",
    "\n",
    "# Load the model weights\n",
    "m1_loaded.load_weights('model_cudnn_lstm_weights.h5')\n"
   ]
  },
  {
   "cell_type": "code",
   "execution_count": 13,
   "metadata": {},
   "outputs": [
    {
     "name": "stdout",
     "output_type": "stream",
     "text": [
      "1/1 [==============================] - 0s 134ms/step\n",
      "The model predicts that the input is sarcastic.\n",
      "Predicted Probabilities: [[0.58644634]]\n",
      "User input not sarcastic here\n"
     ]
    }
   ],
   "source": [
    "#run saved model for prediciton\n",
    "\n",
    "from keras.preprocessing.text import Tokenizer\n",
    "tokenizer = Tokenizer()\n",
    "max_length = 138\n",
    "\n",
    "# Function to preprocess user input and make a prediction\n",
    "def predict_sarcasm(user_input, model, tokenizer, max_length, threshold=0.5):\n",
    "    # Tokenize and preprocess user input\n",
    "    user_input_sequence = tokenizer.texts_to_sequences([user_input])\n",
    "    user_input_padded = pad_sequences(user_input_sequence, maxlen=max_length)\n",
    "\n",
    "    # Make prediction\n",
    "    prediction_prob = model.predict(user_input_padded)\n",
    "    predicted_label = 1 if prediction_prob[0, 0] > threshold else 0\n",
    "\n",
    "    return predicted_label, prediction_prob\n",
    "\n",
    "# Example usage:\n",
    "user_input = input(\"Enter a sentence: \")\n",
    "\n",
    "# Call the predict_sarcasm function with a custom threshold (e.g., 0.3)\n",
    "predicted_label, predicted_prob = predict_sarcasm(user_input, m1_loaded, tokenizer, max_length, threshold=0.3)\n",
    "\n",
    "# Display the prediction\n",
    "if predicted_label == 1:\n",
    "    print(\"The model predicts that the input is sarcastic.\")\n",
    "else:\n",
    "    print(\"The model predicts that the input is not sarcastic.\")\n",
    "\n",
    "# Optional: Display the predicted probabilities\n",
    "print(\"Predicted Probabilities:\", predicted_prob)\n",
    "print(\"User input\", user_input)"
   ]
  }
 ],
 "metadata": {
  "kernelspec": {
   "display_name": "Python 3",
   "language": "python",
   "name": "python3"
  },
  "language_info": {
   "codemirror_mode": {
    "name": "ipython",
    "version": 3
   },
   "file_extension": ".py",
   "mimetype": "text/x-python",
   "name": "python",
   "nbconvert_exporter": "python",
   "pygments_lexer": "ipython3",
   "version": "3.10.13"
  }
 },
 "nbformat": 4,
 "nbformat_minor": 2
}
