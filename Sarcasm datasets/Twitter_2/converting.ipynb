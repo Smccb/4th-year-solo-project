{
 "cells": [
  {
   "cell_type": "code",
   "execution_count": 5,
   "metadata": {},
   "outputs": [
    {
     "name": "stdout",
     "output_type": "stream",
     "text": [
      "Processing line: TrainSen\t0\t@0430yes i hope youre lurking rn. i want to listen to hallucination & wanna love you again live someday, pretty please?! 😭 😭 😭\n",
      "\n"
     ]
    },
    {
     "ename": "IndexError",
     "evalue": "list index out of range",
     "output_type": "error",
     "traceback": [
      "\u001b[1;31m---------------------------------------------------------------------------\u001b[0m",
      "\u001b[1;31mIndexError\u001b[0m                                Traceback (most recent call last)",
      "Cell \u001b[1;32mIn[5], line 32\u001b[0m\n\u001b[0;32m     30\u001b[0m \u001b[38;5;28mprint\u001b[39m(\u001b[38;5;124m\"\u001b[39m\u001b[38;5;124mProcessing line:\u001b[39m\u001b[38;5;124m\"\u001b[39m, line)\n\u001b[0;32m     31\u001b[0m \u001b[38;5;66;03m# Process each line\u001b[39;00m\n\u001b[1;32m---> 32\u001b[0m data \u001b[38;5;241m=\u001b[39m \u001b[43mprocess_line\u001b[49m\u001b[43m(\u001b[49m\u001b[43mline\u001b[49m\u001b[43m)\u001b[49m\n\u001b[0;32m     33\u001b[0m \u001b[38;5;66;03m# Append processed data to output list\u001b[39;00m\n\u001b[0;32m     34\u001b[0m output\u001b[38;5;241m.\u001b[39mappend(data)\n",
      "Cell \u001b[1;32mIn[5], line 9\u001b[0m, in \u001b[0;36mprocess_line\u001b[1;34m(line)\u001b[0m\n\u001b[0;32m      6\u001b[0m parts \u001b[38;5;241m=\u001b[39m line\u001b[38;5;241m.\u001b[39msplit(\u001b[38;5;124m'\u001b[39m\u001b[38;5;130;01m\\t\u001b[39;00m\u001b[38;5;124m'\u001b[39m)\n\u001b[0;32m      8\u001b[0m \u001b[38;5;66;03m# Extract sentiment and text\u001b[39;00m\n\u001b[1;32m----> 9\u001b[0m sentiment \u001b[38;5;241m=\u001b[39m \u001b[43mparts\u001b[49m\u001b[43m[\u001b[49m\u001b[38;5;241;43m0\u001b[39;49m\u001b[43m]\u001b[49m\u001b[38;5;241;43m.\u001b[39;49m\u001b[43msplit\u001b[49m\u001b[43m(\u001b[49m\u001b[43m)\u001b[49m\u001b[43m[\u001b[49m\u001b[38;5;241;43m1\u001b[39;49m\u001b[43m]\u001b[49m  \u001b[38;5;66;03m# Extract sentiment from section 1\u001b[39;00m\n\u001b[0;32m     10\u001b[0m text \u001b[38;5;241m=\u001b[39m parts[\u001b[38;5;241m1\u001b[39m]  \u001b[38;5;66;03m# Extract text from section 2\u001b[39;00m\n\u001b[0;32m     12\u001b[0m \u001b[38;5;66;03m# Remove 'TrainSen' from the sentiment\u001b[39;00m\n",
      "\u001b[1;31mIndexError\u001b[0m: list index out of range"
     ]
    }
   ],
   "source": [
    "import json\n",
    "\n",
    "# Function to process each line in the input file\n",
    "def process_line(line):\n",
    "    # Split the line by tabs\n",
    "    parts = line.split('\\t')\n",
    "    \n",
    "    # Extract sentiment and text\n",
    "    sentiment = parts[0].split()[1]  # Extract sentiment from section 1\n",
    "    text = parts[1]  # Extract text from section 2\n",
    "    \n",
    "    # Remove 'TrainSen' from the sentiment\n",
    "    sentiment = sentiment.replace('TrainSen', '')\n",
    "    \n",
    "    # Construct dictionary\n",
    "    data = {\n",
    "        'text': text.strip(),\n",
    "        'isSarcastic': sentiment.strip()\n",
    "    }\n",
    "    \n",
    "    return data\n",
    "\n",
    "# Read input file and process each line\n",
    "input_file = 'Train_v1.txt'\n",
    "output = []\n",
    "\n",
    "\n",
    "with open(input_file, 'r', encoding='utf-8') as file:\n",
    "    for line in file:\n",
    "        print(\"Processing line:\", line)\n",
    "        # Process each line\n",
    "        data = process_line(line)\n",
    "        # Append processed data to output list\n",
    "        output.append(data)\n",
    "\n",
    "\n",
    "# Write output to JSON file\n",
    "output_file = 'output.json'\n",
    "with open(output_file, 'w') as file:\n",
    "    json.dump(output, file, indent=4)\n",
    "\n",
    "print(\"Data processed and saved to\", output_file)\n",
    "\n"
   ]
  },
  {
   "cell_type": "code",
   "execution_count": 6,
   "metadata": {},
   "outputs": [
    {
     "name": "stdout",
     "output_type": "stream",
     "text": [
      "Data processed and saved to output.json\n"
     ]
    }
   ],
   "source": [
    "import json\n",
    "\n",
    "# Function to process each line in the input file\n",
    "def process_line(line):\n",
    "    # Split the line by tabs\n",
    "    parts = line.split('\\t')\n",
    "    \n",
    "    # Check if the line contains at least 2 parts\n",
    "    if len(parts) < 2:\n",
    "        # Handle the case where the line doesn't have enough parts\n",
    "        return None\n",
    "    \n",
    "    # Extract sentiment and text\n",
    "    sentiment = parts[0].split()[1] if len(parts[0].split()) > 1 else \"\"  # Extract sentiment from section 1\n",
    "    text = parts[1]  # Extract text from section 2\n",
    "    \n",
    "    # Remove 'TrainSen' from the sentiment\n",
    "    sentiment = sentiment.replace('TrainSen', '')\n",
    "    \n",
    "    # Construct dictionary\n",
    "    data = {\n",
    "        'text': text.strip(),\n",
    "        'isSarcastic': sentiment.strip()\n",
    "    }\n",
    "    \n",
    "    return data\n",
    "\n",
    "# Read input file and process each line\n",
    "input_file = 'Train_v1.txt'\n",
    "output = []\n",
    "\n",
    "with open(input_file, 'r', encoding='utf-8') as file:\n",
    "    for line in file:\n",
    "        # Process each line\n",
    "        data = process_line(line)\n",
    "        \n",
    "        # Check if data is None (indicating line should be skipped)\n",
    "        if data is not None:\n",
    "            # Append processed data to output list\n",
    "            output.append(data)\n",
    "\n",
    "# Write output to JSON file\n",
    "output_file = 'output.json'\n",
    "with open(output_file, 'w') as file:\n",
    "    json.dump(output, file, indent=4)\n",
    "\n",
    "print(\"Data processed and saved to\", output_file)\n"
   ]
  },
  {
   "cell_type": "code",
   "execution_count": 11,
   "metadata": {},
   "outputs": [
    {
     "name": "stdout",
     "output_type": "stream",
     "text": [
      "Data processed and saved to output.json\n"
     ]
    }
   ],
   "source": [
    "import json\n",
    "\n",
    "# Function to process each line in the input file\n",
    "def process_line(line):\n",
    "    # Split the line by tabs\n",
    "    parts = line.split('\\t')\n",
    "    \n",
    "    # Check if the line contains at least 2 parts\n",
    "    if len(parts) < 2:\n",
    "        # Handle the case where the line doesn't have enough parts\n",
    "        return None\n",
    "    \n",
    "    # Extract sentiment and text\n",
    "    sentiment = parts[0].split()[1] if len(parts[0].split()) > 1 else \"\"  # Extract sentiment from section 1\n",
    "    text = parts[2]  # Extract text from section 2\n",
    "    \n",
    "    # Remove 'TrainSen' from the sentiment\n",
    "    sentiment = parts[1]\n",
    "    \n",
    "    # Construct dictionary\n",
    "    data = {\n",
    "        'text': text.strip(),\n",
    "        'isSarcastic': sentiment.strip()\n",
    "    }\n",
    "    \n",
    "    return data\n",
    "\n",
    "# Read input file and process each line\n",
    "input_file = 'Train_v1.txt'\n",
    "output = []\n",
    "\n",
    "with open(input_file, 'r', encoding='utf-8') as file:\n",
    "    for line in file:\n",
    "        # Process each line\n",
    "        data = process_line(line)\n",
    "        \n",
    "        # Check if data is None (indicating line should be skipped)\n",
    "        if data is not None:\n",
    "            # Append processed data to output list\n",
    "            output.append(data)\n",
    "\n",
    "# Write output to JSON file\n",
    "output_file = 'output.json'\n",
    "with open(output_file, 'w') as file:\n",
    "    json.dump(output, file, indent=4)\n",
    "\n",
    "print(\"Data processed and saved to\", output_file)\n"
   ]
  },
  {
   "cell_type": "code",
   "execution_count": null,
   "metadata": {},
   "outputs": [],
   "source": []
  },
  {
   "cell_type": "code",
   "execution_count": 8,
   "metadata": {},
   "outputs": [
    {
     "name": "stdout",
     "output_type": "stream",
     "text": [
      "Data without double quotes and with numerical isSarcastic values has been written to data_without_quotes.json\n"
     ]
    }
   ],
   "source": [
    "import re\n",
    "import json\n",
    "\n",
    "# Read the data from the JSON file\n",
    "input_file = 'output.json'\n",
    "\n",
    "with open(input_file, 'r') as f:\n",
    "    data = json.load(f)\n",
    "\n",
    "# Define the pattern to search for double quotes\n",
    "double_quote_pattern = r'\\\"'\n",
    "\n",
    "# Iterate through the data and remove the double quotes from text\n",
    "for item in data:\n",
    "    text = item['text']\n",
    "    text = re.sub(double_quote_pattern, '', text)\n",
    "    item['text'] = text.strip()\n",
    "\n",
    "    # Convert \"isSarcastic\" values to integers\n",
    "    item['isSarcastic'] = int(item['isSarcastic'])\n",
    "\n",
    "# Write the updated data to a new JSON file\n",
    "output_file = 'data_without_quotes.json'\n",
    "with open(output_file, 'w') as f:\n",
    "    json.dump(data, f, indent=4)\n",
    "\n",
    "print(\"Data without double quotes and with numerical isSarcastic values has been written to\", output_file)\n"
   ]
  },
  {
   "cell_type": "code",
   "execution_count": 10,
   "metadata": {},
   "outputs": [
    {
     "name": "stdout",
     "output_type": "stream",
     "text": [
      "Data without double quotes and with numerical isSarcastic values has been written to data_without_quotes.json\n"
     ]
    }
   ],
   "source": [
    "import json\n",
    "import re\n",
    "\n",
    "# Read the data from the JSON file\n",
    "input_file = 'output.json'\n",
    "\n",
    "with open(input_file, 'r') as f:\n",
    "    data = json.load(f)\n",
    "\n",
    "# Define the pattern to search for double quotes\n",
    "double_quote_pattern = r'\"'\n",
    "\n",
    "# Iterate through the data and remove the double quotes from text\n",
    "for item in data:\n",
    "    text = item['text']\n",
    "    text = re.sub(double_quote_pattern, '', text)\n",
    "    item['text'] = text.strip()\n",
    "\n",
    "    # Convert \"isSarcastic\" values to integers\n",
    "    item['isSarcastic'] = int(item['isSarcastic'])\n",
    "\n",
    "# Write the updated data to a new JSON file\n",
    "output_file = 'data_without_quotes.json'\n",
    "with open(output_file, 'w', encoding='utf-8') as f:\n",
    "    json.dump(data, f, ensure_ascii=False, indent=4)\n",
    "\n",
    "print(\"Data without double quotes and with numerical isSarcastic values has been written to\", output_file)\n"
   ]
  },
  {
   "cell_type": "code",
   "execution_count": null,
   "metadata": {},
   "outputs": [],
   "source": [
    "import json\n",
    "import re\n",
    "\n",
    "# Read the data from the JSON file\n",
    "input_file = 'data_without_quotes.json'\n",
    "\n",
    "with open(input_file, 'r') as f:\n",
    "    data = json.load(f)\n",
    "\n",
    "# Define the patterns to search for within quotes\n",
    "patterns = [\n",
    "    r'#sarcasm\\b',\n",
    "    r'#not\\b',\n",
    "    r'#Not\\b',\n",
    "    r'#sarcastic\\b'\n",
    "]\n",
    "\n",
    "# Iterate through the data and remove the matched patterns from text columns within quotes\n",
    "for item in data:\n",
    "    text = item['text']\n",
    "    for pattern in patterns:\n",
    "        # Add quotes to the pattern to match within quotes\n",
    "        text = re.sub(f'\"{pattern}\"', '', text)\n",
    "    item['text'] = text.strip()\n",
    "\n",
    "    # Convert \"isSarcastic\" values to integers\n",
    "    item['isSarcastic'] = int(item['isSarcastic'])\n",
    "\n",
    "# Write the updated data to a new JSON file\n",
    "output_file = 'filteredData_twitter.json'\n",
    "with open(output_file, 'w', encoding='utf-8') as f:\n",
    "    json.dump(data, f, ensure_ascii=False, indent=4)\n",
    "\n",
    "print(\"Data without specified hashtags within quotes has been written to\", output_file)\n"
   ]
  }
 ],
 "metadata": {
  "kernelspec": {
   "display_name": ".venv",
   "language": "python",
   "name": "python3"
  },
  "language_info": {
   "codemirror_mode": {
    "name": "ipython",
    "version": 3
   },
   "file_extension": ".py",
   "mimetype": "text/x-python",
   "name": "python",
   "nbconvert_exporter": "python",
   "pygments_lexer": "ipython3",
   "version": "3.11.0"
  }
 },
 "nbformat": 4,
 "nbformat_minor": 2
}
