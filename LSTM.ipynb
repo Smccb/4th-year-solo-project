{
  "cells": [
    {
      "cell_type": "code",
      "execution_count": 18,
      "metadata": {
        "id": "-X3mdwuC7a-a"
      },
      "outputs": [],
      "source": [
        "#example based on https://keras.io/guides/working_with_rnns/\n",
        "import numpy as np\n",
        "import tensorflow as tf\n",
        "from tensorflow.keras.models import Sequential\n",
        "from tensorflow.keras.layers import Embedding, LSTM, Dense\n",
        "from tensorflow.keras.preprocessing.text import Tokenizer\n",
        "from tensorflow.keras.preprocessing.sequence import pad_sequences\n",
        "from tensorflow.keras.utils import to_categorical\n",
        "import pandas as pd"
      ]
    },
    {
      "cell_type": "code",
      "execution_count": 19,
      "metadata": {
        "colab": {
          "base_uri": "https://localhost:8080/",
          "height": 53
        },
        "id": "eHITUVFMWbvv",
        "outputId": "dda6f08d-a26c-4746-885b-8e9ac00ec571"
      },
      "outputs": [],
      "source": [
        "# Load data\n",
        "#dataset link https://www.kaggle.com/datasets/fhamborg/news-articles-sentiment\n",
        "data_train = pd.read_json(\"train.jsonl\", lines=True)\n",
        "data_test = pd.read_json(\"test.jsonl\", lines=True)\n",
        "#data_train.head()\n",
        "data_test.head()\n",
        "\n",
        "x_train = data_train.sentence\n",
        "y_train = data_train.polarity\n",
        "\n",
        "x_test = data_test.sentence\n",
        "y_test = data_test.polarity"
      ]
    },
    {
      "cell_type": "code",
      "execution_count": 20,
      "metadata": {
        "colab": {
          "base_uri": "https://localhost:8080/"
        },
        "id": "6S7BKPiw5fqW",
        "outputId": "6b61defc-9480-45fa-90c8-1f69c090941a"
      },
      "outputs": [
        {
          "name": "stdout",
          "output_type": "stream",
          "text": [
            "8739 Training\n",
            "803 Test\n"
          ]
        }
      ],
      "source": [
        "print(len(data_train), \"Training\")\n",
        "print(len(data_test), \"Test\")"
      ]
    },
    {
      "cell_type": "code",
      "execution_count": 21,
      "metadata": {
        "id": "NRjewLjJYPjU"
      },
      "outputs": [],
      "source": [
        "# Preparing sentence and label for training\n",
        "X_train = data_train['sentence']\n",
        "y_train = data_train['polarity']\n",
        "\n",
        "tokenizer = Tokenizer()\n",
        "tokenizer.fit_on_texts(X_train)\n",
        "X_train = tokenizer.texts_to_sequences(X_train)\n",
        "X_train = pad_sequences(X_train, maxlen=max_length)\n",
        "\n",
        "y_train_categorical = to_categorical(y_train, num_classes=3)"
      ]
    },
    {
      "cell_type": "code",
      "execution_count": 22,
      "metadata": {
        "colab": {
          "base_uri": "https://localhost:8080/"
        },
        "id": "WRBHB_VJvbwu",
        "outputId": "b8d5e539-1f1f-44b9-b80e-0ea4427463b0"
      },
      "outputs": [
        {
          "name": "stdout",
          "output_type": "stream",
          "text": [
            "19585\n"
          ]
        }
      ],
      "source": [
        "v_size = len(tokenizer.word_index) + 1\n",
        "print(v_size)"
      ]
    },
    {
      "cell_type": "code",
      "execution_count": 24,
      "metadata": {
        "id": "uK4sT67BaBxf"
      },
      "outputs": [],
      "source": [
        "# Testing data prep\n",
        "X_val = data_test['sentence']\n",
        "y_val = data_test['polarity']\n",
        "\n",
        "X_val = tokenizer.texts_to_sequences(X_val)\n",
        "X_val = pad_sequences(X_val, maxlen=max_length)\n",
        "\n",
        "# Convert labels to categorical (if not already in one-hot encoding)\n",
        "y_val_categorical = to_categorical(y_val, num_classes=3)"
      ]
    },
    {
      "cell_type": "code",
      "execution_count": 25,
      "metadata": {
        "colab": {
          "base_uri": "https://localhost:8080/"
        },
        "id": "ZUmg-a08ZeME",
        "outputId": "53ba208b-0633-4cfb-8ac8-c5338551cb2d"
      },
      "outputs": [
        {
          "name": "stdout",
          "output_type": "stream",
          "text": [
            "Number of rows with polarity -1: 3316\n",
            "Number of rows with polarity 0: 3028\n",
            "Number of rows with polarity 1: 2395\n"
          ]
        }
      ],
      "source": [
        "#check dataset for all polarity options to see if there is an unbalanced level of training data\n",
        "\n",
        "df = pd.read_json('train.jsonl', lines=True)\n",
        "rows_with_precision_minus_one = df[df['polarity'] == -1]\n",
        "# Get the count of rows with precision -1\n",
        "count_precision_minus_one = len(rows_with_precision_minus_one)\n",
        "print(f\"Number of rows with polarity -1: {count_precision_minus_one}\")\n",
        "\n",
        "rows_with_precision_minus_one = df[df['polarity'] == 0]\n",
        "# Get the count of rows with precision 0\n",
        "count_precision_minus_one = len(rows_with_precision_minus_one)\n",
        "print(f\"Number of rows with polarity 0: {count_precision_minus_one}\")\n",
        "\n",
        "rows_with_precision_minus_one = df[df['polarity'] == 1]\n",
        "# Get the count of rows with precision 1\n",
        "count_precision_minus_one = len(rows_with_precision_minus_one)\n",
        "print(f\"Number of rows with polarity 1: {count_precision_minus_one}\")"
      ]
    },
    {
      "cell_type": "markdown",
      "metadata": {
        "id": "51U7lCl5Y66p"
      },
      "source": [
        "Slight bias will resamlpe the dataset os they have more similar spread of polarity\n"
      ]
    },
    {
      "cell_type": "code",
      "execution_count": 27,
      "metadata": {
        "colab": {
          "base_uri": "https://localhost:8080/"
        },
        "id": "Xr-5IFRDa1eg",
        "outputId": "778987a5-fe09-4fb2-ef05-0e1dc0a22bc7"
      },
      "outputs": [
        {
          "name": "stdout",
          "output_type": "stream",
          "text": [
            "polarity\n",
            " 1    3028\n",
            " 0    3028\n",
            "-1    3028\n",
            "Name: count, dtype: int64\n"
          ]
        }
      ],
      "source": [
        "#resample data, oversampling\n",
        "from sklearn.utils import resample\n",
        "import pandas as pd\n",
        "\n",
        "# Assuming your DataFrame is named 'df'\n",
        "# Replace 'your_dataset.csv' with the actual file path or name\n",
        "df = pd.read_json('train.jsonl', lines=True)\n",
        "\n",
        "# Separate classes\n",
        "df_class_minus_one = df[df['polarity'] == -1]\n",
        "df_class_0 = df[df['polarity'] == 0]\n",
        "df_class_1 = df[df['polarity'] == 1]\n",
        "\n",
        "# Oversample minority classes (class -1 and class 1 in this case)\n",
        "df_class_minus_one_oversampled = resample(df_class_minus_one, replace=True, n_samples=len(df_class_0), random_state=42)\n",
        "df_class_1_oversampled = resample(df_class_1, replace=True, n_samples=len(df_class_0), random_state=42)\n",
        "\n",
        "# Combine oversampled minority classes with majority class\n",
        "df_oversampled = pd.concat([df_class_minus_one_oversampled, df_class_0, df_class_1_oversampled])\n",
        "\n",
        "# Shuffle the dataframe to mix the classes\n",
        "df_oversampled = df_oversampled.sample(frac=1, random_state=42)\n",
        "\n",
        "# Display the counts after oversampling\n",
        "print(df_oversampled['polarity'].value_counts())\n"
      ]
    },
    {
      "cell_type": "code",
      "execution_count": 28,
      "metadata": {
        "id": "4r1PjBADbRBe"
      },
      "outputs": [],
      "source": [
        "#now retrain a new model and tokenise and split the data\n",
        "max_length = 200\n",
        "\n",
        "x_predict = df_oversampled['sentence']\n",
        "y_label = df_oversampled['polarity']\n",
        "\n",
        "tokenizer = Tokenizer()\n",
        "tokenizer.fit_on_texts(x_predict)\n",
        "x_predict = tokenizer.texts_to_sequences(x_predict)\n",
        "x_predict = pad_sequences(x_predict, maxlen=max_length)"
      ]
    },
    {
      "cell_type": "code",
      "execution_count": 29,
      "metadata": {
        "colab": {
          "base_uri": "https://localhost:8080/"
        },
        "id": "l0SKvNCzb8PF",
        "outputId": "080b38f0-40cf-496e-85ff-f3bf31781840"
      },
      "outputs": [
        {
          "name": "stdout",
          "output_type": "stream",
          "text": [
            "7267 Training sequences\n",
            "1817 Validation sequences\n",
            "7267 Training sequences\n",
            "1817 Validation sequences\n"
          ]
        }
      ],
      "source": [
        "#splitting over sampled data into a training and testing sets\n",
        "from sklearn.model_selection import train_test_split\n",
        "\n",
        "# Split the data into training and validation sets\n",
        "x_predict, x_p, y_label, y_l = train_test_split(x_predict, y_label, test_size=0.2, random_state=42)\n",
        "\n",
        "y_label_categorical = to_categorical(y_label, num_classes=3)\n",
        "y_l_categorical = to_categorical(y_l, num_classes=3)\n",
        "\n",
        "# Print the lengths of the training and validation sets\n",
        "print(len(x_predict), \"Training sequences\")\n",
        "print(len(x_p), \"Validation sequences\")\n",
        "\n",
        "print(len(y_label), \"Training sequences\")\n",
        "print(len(y_l), \"Validation sequences\")"
      ]
    },
    {
      "cell_type": "code",
      "execution_count": 30,
      "metadata": {
        "colab": {
          "base_uri": "https://localhost:8080/"
        },
        "id": "lW06AvQQgB3_",
        "outputId": "fe714c89-2065-41f0-a0cc-ec32539d16dd"
      },
      "outputs": [
        {
          "name": "stdout",
          "output_type": "stream",
          "text": [
            "Model: \"sequential_3\"\n",
            "_________________________________________________________________\n",
            " Layer (type)                Output Shape              Param #   \n",
            "=================================================================\n",
            " embedding_3 (Embedding)     (None, 200, 50)           900000    \n",
            "                                                                 \n",
            " lstm_3 (LSTM)               (None, 150)               120600    \n",
            "                                                                 \n",
            " dense_3 (Dense)             (None, 3)                 453       \n",
            "                                                                 \n",
            "=================================================================\n",
            "Total params: 1021053 (3.90 MB)\n",
            "Trainable params: 1021053 (3.90 MB)\n",
            "Non-trainable params: 0 (0.00 Byte)\n",
            "_________________________________________________________________\n"
          ]
        }
      ],
      "source": [
        "#creating new model\n",
        "\n",
        "embedding_dim = 50\n",
        "vocab_size = 18000\n",
        "max_length = 200\n",
        "\n",
        "m1 = Sequential()\n",
        "m1.add(Embedding(input_dim=vocab_size, output_dim=embedding_dim, input_length=max_length))\n",
        "m1.add(LSTM(units=150, dropout=0.3, recurrent_dropout=0.3))  # Adjust units and dropout\n",
        "m1.add(Dense(units=3, activation='softmax'))\n",
        "\n",
        "\n",
        "\n",
        "m1.compile(optimizer='adam', loss='categorical_crossentropy', metrics=['accuracy'])\n",
        "m1.summary()"
      ]
    },
    {
      "cell_type": "code",
      "execution_count": 31,
      "metadata": {
        "colab": {
          "background_save": true,
          "base_uri": "https://localhost:8080/"
        },
        "id": "NcNS5xmUgDeo",
        "outputId": "ebdf21be-c4bc-4907-b3fd-a0512d7ec027"
      },
      "outputs": [
        {
          "name": "stdout",
          "output_type": "stream",
          "text": [
            "Epoch 1/10\n",
            "114/114 [==============================] - 30s 251ms/step - loss: 1.0742 - accuracy: 0.4288 - val_loss: 1.0004 - val_accuracy: 0.5438\n",
            "Epoch 2/10\n",
            "114/114 [==============================] - 28s 249ms/step - loss: 0.7344 - accuracy: 0.6861 - val_loss: 0.7496 - val_accuracy: 0.6725\n",
            "Epoch 3/10\n",
            "114/114 [==============================] - 29s 255ms/step - loss: 0.4213 - accuracy: 0.8418 - val_loss: 0.7351 - val_accuracy: 0.7072\n",
            "Epoch 4/10\n",
            "114/114 [==============================] - 30s 261ms/step - loss: 0.2623 - accuracy: 0.9103 - val_loss: 0.7594 - val_accuracy: 0.7226\n",
            "Epoch 5/10\n",
            "114/114 [==============================] - 33s 287ms/step - loss: 0.1814 - accuracy: 0.9428 - val_loss: 0.8981 - val_accuracy: 0.7061\n",
            "Epoch 6/10\n",
            "114/114 [==============================] - 33s 286ms/step - loss: 0.1536 - accuracy: 0.9510 - val_loss: 0.9065 - val_accuracy: 0.7177\n",
            "Epoch 7/10\n",
            "114/114 [==============================] - 33s 287ms/step - loss: 0.1277 - accuracy: 0.9587 - val_loss: 0.8358 - val_accuracy: 0.7314\n",
            "Epoch 8/10\n",
            "114/114 [==============================] - 33s 287ms/step - loss: 0.1123 - accuracy: 0.9617 - val_loss: 0.9131 - val_accuracy: 0.7303\n",
            "Epoch 9/10\n",
            "114/114 [==============================] - 33s 289ms/step - loss: 0.1062 - accuracy: 0.9630 - val_loss: 0.9722 - val_accuracy: 0.7144\n",
            "Epoch 10/10\n",
            "114/114 [==============================] - 33s 287ms/step - loss: 0.0985 - accuracy: 0.9622 - val_loss: 0.9572 - val_accuracy: 0.7122\n",
            "57/57 [==============================] - 2s 36ms/step - loss: 0.9572 - accuracy: 0.7122\n",
            "Loss: 0.9571552276611328, Accuracy: 71.22%\n"
          ]
        }
      ],
      "source": [
        "# Train the model\n",
        "m1.fit(x_predict, y_label_categorical, epochs=10, batch_size=64, validation_data=(x_p, y_l_categorical))\n",
        "\n",
        "# Evaluate the model\n",
        "loss, accuracy = m1.evaluate(x_p, y_l_categorical)\n",
        "print(f'Loss: {loss}, Accuracy: {accuracy * 100:.2f}%')"
      ]
    }
  ],
  "metadata": {
    "colab": {
      "provenance": []
    },
    "kernelspec": {
      "display_name": "Python 3",
      "name": "python3"
    },
    "language_info": {
      "codemirror_mode": {
        "name": "ipython",
        "version": 3
      },
      "file_extension": ".py",
      "mimetype": "text/x-python",
      "name": "python",
      "nbconvert_exporter": "python",
      "pygments_lexer": "ipython3",
      "version": "3.11.2"
    }
  },
  "nbformat": 4,
  "nbformat_minor": 0
}
