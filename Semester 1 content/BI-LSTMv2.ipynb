{
 "cells": [
  {
   "cell_type": "code",
   "execution_count": 2,
   "metadata": {},
   "outputs": [
    {
     "name": "stdout",
     "output_type": "stream",
     "text": [
      "WARNING:tensorflow:From c:\\Users\\Sarah\\Desktop\\4th-year-solo-project\\.venv\\Lib\\site-packages\\keras\\src\\losses.py:2976: The name tf.losses.sparse_softmax_cross_entropy is deprecated. Please use tf.compat.v1.losses.sparse_softmax_cross_entropy instead.\n",
      "\n"
     ]
    }
   ],
   "source": [
    "import numpy as np\n",
    "from tensorflow import keras\n",
    "from tensorflow.keras import layers\n",
    "import pandas as pd\n"
   ]
  },
  {
   "cell_type": "code",
   "execution_count": 4,
   "metadata": {},
   "outputs": [
    {
     "name": "stdout",
     "output_type": "stream",
     "text": [
      "8739 Training\n",
      "803 Test\n",
      "343 Dev\n",
      "8739 combined\n"
     ]
    }
   ],
   "source": [
    "data_train = pd.read_json(\"train.jsonl\", lines=True)\n",
    "data_test = pd.read_json(\"test.jsonl\", lines=True)\n",
    "data_dev = pd.read_json(\"dev.jsonl\", lines=True)\n",
    "\n",
    "print(len(data_train), \"Training\")\n",
    "print(len(data_test), \"Test\")\n",
    "print(len(data_dev), \"Dev\")\n",
    "\n",
    "combined_data = pd.concat([data_train, data_dev], ignore_index=True)\n",
    "combined_data = data_train\n",
    "#combined_data.head()\n",
    "\n",
    "print(len(combined_data), \"combined\")"
   ]
  },
  {
   "cell_type": "code",
   "execution_count": 6,
   "metadata": {},
   "outputs": [
    {
     "name": "stdout",
     "output_type": "stream",
     "text": [
      "polarity\n",
      " 1    3028\n",
      " 0    3028\n",
      "-1    3028\n",
      "Name: count, dtype: int64\n",
      "polarity\n",
      " 1    319\n",
      " 0    319\n",
      "-1    319\n",
      "Name: count, dtype: int64\n"
     ]
    }
   ],
   "source": [
    "#resample data, oversampling\n",
    "import pandas as pd\n",
    "from sklearn.utils import resample\n",
    "\n",
    "def oversample_and_shuffle(df):\n",
    "    # Separate classes\n",
    "    df_class_minus_one = df[df['polarity'] == -1]\n",
    "    df_class_0 = df[df['polarity'] == 0]\n",
    "    df_class_1 = df[df['polarity'] == 1]\n",
    "\n",
    "    # Oversample minority classes\n",
    "    df_class_minus_one_oversampled = resample(df_class_minus_one, replace=True, n_samples=len(df_class_0), random_state=42)\n",
    "    df_class_1_oversampled = resample(df_class_1, replace=True, n_samples=len(df_class_0), random_state=42)\n",
    "\n",
    "    # Combine oversampled minority classes with majority class\n",
    "    df_oversampled = pd.concat([df_class_minus_one_oversampled, df_class_0, df_class_1_oversampled])\n",
    "\n",
    "    df_oversampled = df_oversampled.sample(frac=1, random_state=42)\n",
    "\n",
    "    # Display the counts after oversampling\n",
    "    print(df_oversampled['polarity'].value_counts())\n",
    "\n",
    "    return df_oversampled\n",
    "\n",
    "df = combined_data\n",
    "combined_data = oversample_and_shuffle(df)\n",
    "\n",
    "df = data_test\n",
    "data_test = oversample_and_shuffle(df)"
   ]
  },
  {
   "cell_type": "code",
   "execution_count": 7,
   "metadata": {},
   "outputs": [],
   "source": [
    "combined_data.head()\n",
    "# Specify the columns to be removed\n",
    "columns_to_remove = ['mention', 'from', 'to', 'id']\n",
    "\n",
    "# Use the drop method to remove the specified columns\n",
    "combined_data = combined_data.drop(columns=columns_to_remove)\n",
    "data_test = data_test.drop(columns=columns_to_remove)\n",
    "\n"
   ]
  },
  {
   "cell_type": "code",
   "execution_count": 8,
   "metadata": {},
   "outputs": [
    {
     "name": "stdout",
     "output_type": "stream",
     "text": [
      "WARNING:tensorflow:From c:\\Users\\Sarah\\Desktop\\4th-year-solo-project\\.venv\\Lib\\site-packages\\keras\\src\\backend.py:1398: The name tf.executing_eagerly_outside_functions is deprecated. Please use tf.compat.v1.executing_eagerly_outside_functions instead.\n",
      "\n",
      "Model: \"model\"\n",
      "_________________________________________________________________\n",
      " Layer (type)                Output Shape              Param #   \n",
      "=================================================================\n",
      " input_1 (InputLayer)        [(None, None)]            0         \n",
      "                                                                 \n",
      " embedding (Embedding)       (None, None, 100)         1800000   \n",
      "                                                                 \n",
      " bidirectional (Bidirection  (None, None, 128)         84480     \n",
      " al)                                                             \n",
      "                                                                 \n",
      " bidirectional_1 (Bidirecti  (None, 128)               98816     \n",
      " onal)                                                           \n",
      "                                                                 \n",
      " dense (Dense)               (None, 3)                 387       \n",
      "                                                                 \n",
      "=================================================================\n",
      "Total params: 1983683 (7.57 MB)\n",
      "Trainable params: 1983683 (7.57 MB)\n",
      "Non-trainable params: 0 (0.00 Byte)\n",
      "_________________________________________________________________\n"
     ]
    }
   ],
   "source": [
    "from tensorflow import keras\n",
    "from tensorflow.keras import layers\n",
    "from tensorflow.keras.optimizers import Adam\n",
    "\n",
    "embedding_dim = 100\n",
    "vocab_size = 18000\n",
    "max_length = 200\n",
    "\n",
    "inputs = keras.Input(shape=(None,), dtype=\"int64\")\n",
    "x = layers.Embedding(vocab_size, embedding_dim)(inputs)\n",
    "x = layers.Bidirectional(layers.LSTM(64, return_sequences=True))(x)\n",
    "x = layers.Bidirectional(layers.LSTM(64))(x)\n",
    "\n",
    "num_classes = 3\n",
    "outputs = layers.Dense(num_classes, activation=\"sigmoid\")(x)\n",
    "\n",
    "model = keras.Model(inputs, outputs)\n",
    "\n",
    "model.compile(optimizer=Adam(learning_rate=0.0001), loss='categorical_crossentropy', metrics=['accuracy'])\n",
    "early_stopping = keras.callbacks.EarlyStopping(monitor='val_loss', patience=3)\n",
    "\n",
    "model.summary()"
   ]
  },
  {
   "cell_type": "code",
   "execution_count": 9,
   "metadata": {},
   "outputs": [],
   "source": [
    "combined_data = combined_data.drop_duplicates(subset='sentence', keep='first')\n",
    "data_test = data_test.drop_duplicates(subset='sentence', keep='first')"
   ]
  },
  {
   "cell_type": "code",
   "execution_count": 10,
   "metadata": {},
   "outputs": [],
   "source": [
    "from tensorflow.keras.preprocessing.text import Tokenizer\n",
    "\n",
    "from tensorflow.keras.preprocessing.sequence import pad_sequences\n",
    "from tensorflow.keras.utils import to_categorical\n",
    "\n",
    "texts_train = combined_data['sentence']\n",
    "labels_train = combined_data['polarity']\n",
    "\n",
    "texts_test = data_test['sentence']\n",
    "labels_test = data_test['polarity']\n",
    "\n",
    "# Tokenize the text data\n",
    "tokenizer = Tokenizer(num_words=vocab_size)\n",
    "tokenizer.fit_on_texts(texts_train)\n",
    "sequences_train = tokenizer.texts_to_sequences(texts_train)\n",
    "\n",
    "tokenizer_test = Tokenizer(num_words=vocab_size)\n",
    "tokenizer_test.fit_on_texts(texts_test)\n",
    "sequences_test = tokenizer_test.texts_to_sequences(texts_test)\n",
    "\n",
    "maxlen = 200\n",
    "x_train = pad_sequences(sequences_train, maxlen=maxlen)\n",
    "x_val = pad_sequences(sequences_test, maxlen=maxlen)\n",
    "\n",
    "y_train = labels_train\n",
    "y_val = labels_test"
   ]
  },
  {
   "cell_type": "code",
   "execution_count": 11,
   "metadata": {},
   "outputs": [],
   "source": [
    "num_classes = len(np.unique(y_train))\n",
    "y_train_categorical = to_categorical(y_train, num_classes=num_classes)\n",
    "y_val_categorical = to_categorical(y_val, num_classes=num_classes)"
   ]
  },
  {
   "cell_type": "code",
   "execution_count": 12,
   "metadata": {},
   "outputs": [
    {
     "name": "stdout",
     "output_type": "stream",
     "text": [
      "5392 combined\n",
      "539 test\n",
      "16011 word index\n"
     ]
    }
   ],
   "source": [
    "print(len(combined_data), \"combined\")\n",
    "print(len(data_test), \"test\")\n",
    "print(len(tokenizer.word_index), \"word index\")"
   ]
  },
  {
   "cell_type": "code",
   "execution_count": 13,
   "metadata": {},
   "outputs": [
    {
     "name": "stdout",
     "output_type": "stream",
     "text": [
      "Epoch 1/10\n",
      "WARNING:tensorflow:From c:\\Users\\Sarah\\Desktop\\4th-year-solo-project\\.venv\\Lib\\site-packages\\keras\\src\\utils\\tf_utils.py:492: The name tf.ragged.RaggedTensorValue is deprecated. Please use tf.compat.v1.ragged.RaggedTensorValue instead.\n",
      "\n",
      "WARNING:tensorflow:From c:\\Users\\Sarah\\Desktop\\4th-year-solo-project\\.venv\\Lib\\site-packages\\keras\\src\\engine\\base_layer_utils.py:384: The name tf.executing_eagerly_outside_functions is deprecated. Please use tf.compat.v1.executing_eagerly_outside_functions instead.\n",
      "\n",
      "85/85 [==============================] - 17s 151ms/step - loss: 1.0384 - accuracy: 0.5167 - val_loss: 0.9879 - val_accuracy: 0.5529\n",
      "Epoch 2/10\n",
      "85/85 [==============================] - 11s 134ms/step - loss: 1.0009 - accuracy: 0.5347 - val_loss: 0.9826 - val_accuracy: 0.5529\n",
      "Epoch 3/10\n",
      "85/85 [==============================] - 11s 133ms/step - loss: 0.9877 - accuracy: 0.5347 - val_loss: 0.9803 - val_accuracy: 0.5529\n",
      "Epoch 4/10\n",
      "85/85 [==============================] - 12s 136ms/step - loss: 0.9468 - accuracy: 0.5475 - val_loss: 0.9954 - val_accuracy: 0.5306\n",
      "Epoch 5/10\n",
      "85/85 [==============================] - 11s 134ms/step - loss: 0.7934 - accuracy: 0.6434 - val_loss: 1.1269 - val_accuracy: 0.4879\n",
      "Epoch 6/10\n",
      "85/85 [==============================] - 11s 133ms/step - loss: 0.6163 - accuracy: 0.7142 - val_loss: 1.3385 - val_accuracy: 0.4731\n",
      "17/17 [==============================] - 0s 26ms/step - loss: 1.3385 - accuracy: 0.4731\n",
      "Loss: 1.3385272026062012, Accuracy: 47.31%\n"
     ]
    }
   ],
   "source": [
    "model.fit(x_train, y_train_categorical, epochs=10, batch_size=64, validation_data=(x_val, y_val_categorical), callbacks=[early_stopping])\n",
    "\n",
    "\n",
    "loss, accuracy = model.evaluate(x_val, y_val_categorical)\n",
    "print(f'Loss: {loss}, Accuracy: {accuracy * 100:.2f}%')\n"
   ]
  },
  {
   "cell_type": "code",
   "execution_count": 15,
   "metadata": {},
   "outputs": [
    {
     "name": "stdout",
     "output_type": "stream",
     "text": [
      "17/17 [==============================] - 0s 24ms/step\n",
      "Precision: 0.3392\n",
      "Recall: 0.3451\n"
     ]
    }
   ],
   "source": [
    "from sklearn.metrics import precision_score, recall_score\n",
    "\n",
    "\n",
    "# Predict on validation data\n",
    "y_val_pred_prob = model.predict(x_val)\n",
    "y_val_pred = np.argmax(y_val_pred_prob, axis=1)  # Convert probabilities to class labels\n",
    "\n",
    "y_val_true = np.argmax(y_val_categorical, axis=1)\n",
    "\n",
    "# Calculate precision and recall for each class\n",
    "precision = precision_score(y_val_true, y_val_pred, average='macro') \n",
    "recall = recall_score(y_val_true, y_val_pred, average='macro')  \n",
    "\n",
    "# Display the results\n",
    "print(f'Precision: {precision:.4f}')\n",
    "print(f'Recall: {recall:.4f}')\n",
    "\n"
   ]
  }
 ],
 "metadata": {
  "kernelspec": {
   "display_name": ".venv",
   "language": "python",
   "name": "python3"
  },
  "language_info": {
   "codemirror_mode": {
    "name": "ipython",
    "version": 3
   },
   "file_extension": ".py",
   "mimetype": "text/x-python",
   "name": "python",
   "nbconvert_exporter": "python",
   "pygments_lexer": "ipython3",
   "version": "3.11.2"
  }
 },
 "nbformat": 4,
 "nbformat_minor": 2
}
