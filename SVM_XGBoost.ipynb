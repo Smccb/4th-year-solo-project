{
 "cells": [
  {
   "cell_type": "code",
   "execution_count": 5,
   "metadata": {},
   "outputs": [
    {
     "name": "stdout",
     "output_type": "stream",
     "text": [
      "WARNING:tensorflow:From c:\\Users\\Sarah\\Desktop\\4th-year-solo-project\\.venv\\Lib\\site-packages\\keras\\src\\losses.py:2976: The name tf.losses.sparse_softmax_cross_entropy is deprecated. Please use tf.compat.v1.losses.sparse_softmax_cross_entropy instead.\n",
      "\n"
     ]
    }
   ],
   "source": [
    "#example based on https://keras.io/guides/working_with_rnns/\n",
    "import numpy as np\n",
    "import tensorflow as tf\n",
    "from tensorflow.keras.models import Sequential\n",
    "from tensorflow.keras.layers import Embedding, LSTM, Dense\n",
    "from tensorflow.keras.preprocessing.text import Tokenizer\n",
    "from tensorflow.keras.preprocessing.sequence import pad_sequences\n",
    "from tensorflow.keras.utils import to_categorical\n",
    "import pandas as pd"
   ]
  },
  {
   "cell_type": "code",
   "execution_count": 7,
   "metadata": {},
   "outputs": [],
   "source": [
    "from time import time\n",
    "\n",
    "#from sklearn.datasets import fetch_20newsgroups\n",
    "from sklearn.feature_extraction.text import TfidfVectorizer\n",
    "\n",
    "categories = [\n",
    "    \"neutral\",\n",
    "    \"negative\",\n",
    "    \"positive\",\n",
    "]\n",
    "\n",
    "data_train = pd.read_json(\"train.jsonl\", lines=True)"
   ]
  },
  {
   "cell_type": "code",
   "execution_count": 8,
   "metadata": {},
   "outputs": [
    {
     "data": {
      "text/plain": [
       "'              precision    recall  f1-score   support\\n\\n          -1       0.61      0.61      0.61       294\\n           0       0.72      0.60      0.65       386\\n           1       0.36      0.55      0.44       123\\n\\n    accuracy                           0.60       803\\n   macro avg       0.56      0.59      0.57       803\\nweighted avg       0.63      0.60      0.60       803\\n'"
      ]
     },
     "execution_count": 8,
     "metadata": {},
     "output_type": "execute_result"
    }
   ],
   "source": [
    "data_train = pd.read_json(\"train.jsonl\", lines=True)\n",
    "data_test = pd.read_json(\"test.jsonl\", lines=True)\n",
    "#data_train.head()\n",
    "data_test.head()\n",
    "\n",
    "x_train = data_train.sentence\n",
    "y_train = data_train.polarity\n",
    "\n",
    "x_test = data_test.sentence\n",
    "y_test = data_test.polarity\n",
    "\n",
    "\n",
    "vectorizer = TfidfVectorizer()\n",
    "x_train= vectorizer.fit_transform(x_train)\n",
    "x_test= vectorizer.transform(x_test)\n",
    "\n",
    "from sklearn.svm import SVC\n",
    "svc = SVC(random_state=1)\n",
    "\n",
    "svc.fit(x_train, y_train)\n",
    "predictions = svc.predict(x_test)\n",
    "\n",
    "from sklearn.metrics import classification_report\n",
    "classification_report(predictions, y_test)\n",
    "\n",
    "#print(x_train[0]) #results of sklearn SVM model training, 63% accuracy"
   ]
  },
  {
   "cell_type": "code",
   "execution_count": 10,
   "metadata": {},
   "outputs": [
    {
     "name": "stdout",
     "output_type": "stream",
     "text": [
      "[1 2 1 1 1 0 0 1 1 1 1 1 1 0 0 2 1 0 2 1 0 2 2 1 0 0 1 1 1 1 1 1 0 0 1 1 1\n",
      " 1 1 0 0 0 2 0 0 1 0 0 0 1 0 0 1 1 1 2 0 1 1 0 1 1 1 1 1 2 2 1 1 0 0 1 1 2\n",
      " 0 1 1 1 1 2 1 1 1 2 2 1 2 1 0 0 2 1 0 1 0 1 2 0 1 0 2 2 2 0 0 0 1 1 2 1 1\n",
      " 2 0 2 1 1 0 1 1 2 2 1 2 1 2 2 1 0 1 2 0 1 1 0 2 0 0 0 0 1 0 1 0 0 0 0 0 0\n",
      " 0 1 1 2 1 1 1 1 1 0 0 2 1 2 2 1 1 1 0 0 1 0 0 2 1 0 0 0 1 2 0 0 0 2 0 0 1\n",
      " 1 0 1 1 1 0 1 2 0 1 0 2 2 2 0 0 0 0 2 1 1 0 1 0 1 1 1 2 0 1 2 1 0 1 1 1 1\n",
      " 1 0 1 0 1 1 1 1 0 1 2 1 0 0 1 0 1 1 1 1 2 1 1 1 0 1 0 1 1 1 0 1 1 0 0 0 2\n",
      " 0 0 1 0 0 2 1 1 0 0 0 0 0 1 1 1 0 2 0 2 0 2 1 1 0 1 0 2 2 1 1 1 1 2 2 1 1\n",
      " 1 2 1 1 1 1 0 1 2 2 2 2 1 1 1 1 0 1 1 1 1 1 0 0 0 1 1 2 1 1 2 1 0 1 1 1 0\n",
      " 2 1 2 1 0 1 1 1 0 1 2 1 0 1 0 0 0 0 1 1 0 0 1 1 1 0 0 0 1 1 1 1 2 0 1 1 1\n",
      " 2 1 0 0 0 0 0 1 1 2 0 1 1 1 1 1 0 2 1 1 0 1 1 0 2 0 0 0 2 1 0 2 1 1 1 1 2\n",
      " 2 0 1 1 1 1 1 2 2 0 0 0 1 2 0 1 0 0 0 2 0 0 0 0 1 0 2 0 2 1 2 0 1 1 2 0 2\n",
      " 0 0 2 1 0 1 1 2 1 0 1 0 0 1 1 1 2 0 1 1 1 0 0 2 1 0 2 0 0 1 0 0 1 1 2 1 1\n",
      " 0 1 1 2 1 0 0 1 1 1 0 2 1 1 1 1 0 0 0 0 1 0 1 0 2 2 1 0 0 1 2 0 1 2 0 0 2\n",
      " 1 0 1 1 2 0 0 0 0 0 1 1 0 2 2 2 2 0 1 0 2 0 0 0 0 0 0 1 1 0 0 2 0 1 1 1 1\n",
      " 1 2 2 1 0 0 1 1 0 2 2 0 2 1 1 0 1 2 2 0 1 1 0 1 0 0 1 2 2 1 1 1 1 0 0 2 1\n",
      " 1 2 1 0 1 0 2 1 0 1 2 2 1 1 0 0 1 2 0 0 1 0 0 0 1 2 1 1 1 1 2 2 1 2 1 0 0\n",
      " 0 2 1 1 1 1 2 1 0 1 1 1 1 1 1 0 0 1 1 0 1 1 1 0 1 1 1 1 2 0 1 0 0 1 1 1 0\n",
      " 0 2 2 1 1 1 2 0 1 1 1 1 1 1 1 0 2 0 1 1 1 1 2 1 2 0 1 1 0 1 0 1 2 1 0 0 1\n",
      " 2 0 1 0 0 0 0 1 2 2 1 1 1 1 1 0 0 1 2 2 1 2 1 2 1 0 0 1 1 1 0 2 0 0 2 2 1\n",
      " 0 2 1 0 1 2 1 2 1 1 0 1 1 1 2 2 1 1 1 0 1 0 1 1 1 1 1 1 1 1 0 0 1 1 0 0 0\n",
      " 1 1 1 0 0 1 1 1 1 0 0 1 0 1 1 1 2 1 2 1 1 1 2 1 1 0]\n"
     ]
    }
   ],
   "source": [
    "import xgboost\n",
    "from sklearn.preprocessing import LabelEncoder\n",
    "\n",
    "xgb_dt = xgboost.XGBClassifier(random_state=1)\n",
    "encoder = LabelEncoder()\n",
    "y_train = encoder.fit_transform(y_train)\n",
    "y_test = encoder.transform(y_test)\n",
    "xgb_dt.fit(x_train, y_train)\n",
    "## then make predictions on the test portion (predict the labels of the rows from the test portion of X)\n",
    "predictions = xgb_dt.predict(x_test)\n",
    "print(predictions)"
   ]
  },
  {
   "cell_type": "code",
   "execution_count": 11,
   "metadata": {},
   "outputs": [
    {
     "data": {
      "text/plain": [
       "'              precision    recall  f1-score   support\\n\\n           0       0.54      0.59      0.56       269\\n           1       0.68      0.57      0.62       385\\n           2       0.38      0.48      0.42       149\\n\\n    accuracy                           0.56       803\\n   macro avg       0.53      0.54      0.53       803\\nweighted avg       0.58      0.56      0.56       803\\n'"
      ]
     },
     "execution_count": 11,
     "metadata": {},
     "output_type": "execute_result"
    }
   ],
   "source": [
    "classification_report(predictions, y_test) # results of xgboost model training"
   ]
  }
 ],
 "metadata": {
  "kernelspec": {
   "display_name": ".venv",
   "language": "python",
   "name": "python3"
  },
  "language_info": {
   "codemirror_mode": {
    "name": "ipython",
    "version": 3
   },
   "file_extension": ".py",
   "mimetype": "text/x-python",
   "name": "python",
   "nbconvert_exporter": "python",
   "pygments_lexer": "ipython3",
   "version": "3.11.2"
  }
 },
 "nbformat": 4,
 "nbformat_minor": 2
}
