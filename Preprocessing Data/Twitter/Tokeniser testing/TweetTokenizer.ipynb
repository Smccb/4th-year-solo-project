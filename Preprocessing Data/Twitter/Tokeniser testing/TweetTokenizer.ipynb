{
 "cells": [
  {
   "cell_type": "code",
   "execution_count": 2,
   "metadata": {},
   "outputs": [],
   "source": [
    "import numpy as np\n",
    "import tensorflow as tf\n",
    "\n",
    "from tensorflow.keras.models import Sequential\n",
    "from tensorflow.keras.layers import Embedding, LSTM, Dense\n",
    "from tensorflow.keras.preprocessing.text import Tokenizer\n",
    "from tensorflow.keras.preprocessing.sequence import pad_sequences\n",
    "from tensorflow.keras.utils import to_categorical\n",
    "import pandas as pd"
   ]
  },
  {
   "cell_type": "code",
   "execution_count": 3,
   "metadata": {},
   "outputs": [],
   "source": [
    "from sklearn.model_selection import train_test_split\n",
    "\n",
    "# Read the dataset\n",
    "dataset = pd.read_json(\"../data_without_hashtags.json\")\n",
    "\n",
    "# Split the dataset into training and testing sets\n",
    "X_train, X_test, y_train, y_test = train_test_split(dataset['text'], dataset['isSarcastic'], test_size=0.3, random_state=42)"
   ]
  },
  {
   "cell_type": "code",
   "execution_count": 4,
   "metadata": {},
   "outputs": [
    {
     "name": "stdout",
     "output_type": "stream",
     "text": [
      "Shape of X_train: (27846, 140)\n",
      "Shape of X_test: (11934, 140)\n"
     ]
    }
   ],
   "source": [
    "import pandas as pd\n",
    "from nltk.tokenize import TweetTokenizer\n",
    "from keras_preprocessing.sequence import pad_sequences\n",
    "\n",
    "# Read the dataset\n",
    "# dataset = pd.read_json(\"data_without_hashtags.json\")\n",
    "\n",
    "# Example data\n",
    "#X_train = [\"This is a tweet!\", \"Another tweet here.\"]\n",
    "#X_test = [\"Yet another tweet!\", \"And one more tweet.\"]\n",
    "\n",
    "# Define max_length\n",
    "max_length = 140\n",
    "\n",
    "# Initialize TweetTokenizer\n",
    "tweetTokenizer = TweetTokenizer()\n",
    "\n",
    "# Tokenize training text data\n",
    "X_train_tokenized = [tweetTokenizer.tokenize(text) for text in X_train]\n",
    "\n",
    "# Tokenize testing text data\n",
    "X_test_tokenized = [tweetTokenizer.tokenize(text) for text in X_test]\n",
    "\n",
    "# Create Tokenizer instance\n",
    "tokenizer = Tokenizer()\n",
    "\n",
    "# Fit tokenizer on training text data\n",
    "tokenizer.fit_on_texts(X_train_tokenized)\n",
    "\n",
    "# Convert text data to sequences\n",
    "X_train_sequences = tokenizer.texts_to_sequences(X_train_tokenized)\n",
    "X_test_sequences = tokenizer.texts_to_sequences(X_test_tokenized)\n",
    "\n",
    "# Pad sequences\n",
    "X_train = pad_sequences(X_train_sequences, maxlen=max_length)\n",
    "X_test = pad_sequences(X_test_sequences, maxlen=max_length)\n",
    "\n",
    "# Display shapes of resulting matrices\n",
    "print(\"Shape of X_train:\", X_train.shape)\n",
    "print(\"Shape of X_test:\", X_test.shape)\n"
   ]
  },
  {
   "cell_type": "code",
   "execution_count": 5,
   "metadata": {},
   "outputs": [
    {
     "name": "stdout",
     "output_type": "stream",
     "text": [
      "Model: \"sequential\"\n",
      "_________________________________________________________________\n",
      " Layer (type)                Output Shape              Param #   \n",
      "=================================================================\n",
      " embedding (Embedding)       (None, 140, 100)          3069100   \n",
      "                                                                 \n",
      " cu_dnnlstm (CuDNNLSTM)      (None, 150)               151200    \n",
      "                                                                 \n",
      " dense (Dense)               (None, 64)                9664      \n",
      "                                                                 \n",
      " dense_1 (Dense)             (None, 64)                4160      \n",
      "                                                                 \n",
      " dense_2 (Dense)             (None, 1)                 65        \n",
      "                                                                 \n",
      "=================================================================\n",
      "Total params: 3,234,189\n",
      "Trainable params: 3,234,189\n",
      "Non-trainable params: 0\n",
      "_________________________________________________________________\n"
     ]
    }
   ],
   "source": [
    "from keras.layers import CuDNNLSTM\n",
    "from keras.models import Sequential\n",
    "from keras.layers import Embedding, LSTM, Dense\n",
    "from keras.optimizers import Adam\n",
    "\n",
    "embedding_dim = 100\n",
    "\n",
    "# Define the vocabulary size based on the actual number of unique words in the training data\n",
    "vocab_size = len(tokenizer.word_index) + 1\n",
    "\n",
    "max_length = 140\n",
    "\n",
    "optimizer = Adam(learning_rate=0.000009)\n",
    "m1 = Sequential()\n",
    "m1.add(Embedding(input_dim=vocab_size, output_dim=embedding_dim, input_length=max_length))\n",
    "m1.add(CuDNNLSTM(units=150))\n",
    "m1.add(Dense(units=64))\n",
    "m1.add(Dense(units=64))\n",
    "m1.add(Dense(units=1, activation='sigmoid'))\n",
    "\n",
    "m1.compile(optimizer=optimizer, loss='binary_crossentropy', metrics=['accuracy'])\n",
    "m1.summary()"
   ]
  },
  {
   "cell_type": "code",
   "execution_count": 6,
   "metadata": {},
   "outputs": [
    {
     "name": "stdout",
     "output_type": "stream",
     "text": [
      "Epoch 1/20\n",
      "436/436 [==============================] - 12s 19ms/step - loss: 0.6906 - accuracy: 0.5335 - val_loss: 0.6880 - val_accuracy: 0.5350\n",
      "Epoch 2/20\n",
      "436/436 [==============================] - 8s 18ms/step - loss: 0.6870 - accuracy: 0.5353 - val_loss: 0.6852 - val_accuracy: 0.5351\n",
      "Epoch 3/20\n",
      "436/436 [==============================] - 8s 18ms/step - loss: 0.6834 - accuracy: 0.5453 - val_loss: 0.6806 - val_accuracy: 0.5617\n",
      "Epoch 4/20\n",
      "436/436 [==============================] - 8s 18ms/step - loss: 0.6766 - accuracy: 0.5874 - val_loss: 0.6726 - val_accuracy: 0.5925\n",
      "Epoch 5/20\n",
      "436/436 [==============================] - 8s 18ms/step - loss: 0.6617 - accuracy: 0.6272 - val_loss: 0.6532 - val_accuracy: 0.6357\n",
      "Epoch 6/20\n",
      "436/436 [==============================] - 8s 18ms/step - loss: 0.6154 - accuracy: 0.6803 - val_loss: 0.6013 - val_accuracy: 0.6850\n",
      "Epoch 7/20\n",
      "436/436 [==============================] - 8s 18ms/step - loss: 0.5517 - accuracy: 0.7286 - val_loss: 0.5721 - val_accuracy: 0.7076\n",
      "Epoch 8/20\n",
      "436/436 [==============================] - 8s 18ms/step - loss: 0.5101 - accuracy: 0.7573 - val_loss: 0.5599 - val_accuracy: 0.7193\n",
      "Epoch 9/20\n",
      "436/436 [==============================] - 8s 18ms/step - loss: 0.4804 - accuracy: 0.7761 - val_loss: 0.5425 - val_accuracy: 0.7348\n",
      "Epoch 10/20\n",
      "436/436 [==============================] - 8s 18ms/step - loss: 0.4553 - accuracy: 0.7941 - val_loss: 0.5327 - val_accuracy: 0.7429\n",
      "Epoch 11/20\n",
      "436/436 [==============================] - 8s 18ms/step - loss: 0.4327 - accuracy: 0.8065 - val_loss: 0.5266 - val_accuracy: 0.7481\n",
      "Epoch 12/20\n",
      "436/436 [==============================] - 8s 18ms/step - loss: 0.4127 - accuracy: 0.8180 - val_loss: 0.5261 - val_accuracy: 0.7472\n",
      "Epoch 13/20\n",
      "436/436 [==============================] - 8s 18ms/step - loss: 0.3945 - accuracy: 0.8282 - val_loss: 0.5153 - val_accuracy: 0.7571\n",
      "Epoch 14/20\n",
      "436/436 [==============================] - 8s 18ms/step - loss: 0.3769 - accuracy: 0.8384 - val_loss: 0.5121 - val_accuracy: 0.7631\n",
      "Epoch 15/20\n",
      "436/436 [==============================] - 8s 18ms/step - loss: 0.3616 - accuracy: 0.8452 - val_loss: 0.5123 - val_accuracy: 0.7644\n",
      "Epoch 16/20\n",
      "436/436 [==============================] - 8s 18ms/step - loss: 0.3470 - accuracy: 0.8516 - val_loss: 0.5193 - val_accuracy: 0.7623\n",
      "Epoch 17/20\n",
      "436/436 [==============================] - 8s 18ms/step - loss: 0.3338 - accuracy: 0.8577 - val_loss: 0.5146 - val_accuracy: 0.7687\n",
      "Epoch 18/20\n",
      "436/436 [==============================] - 8s 18ms/step - loss: 0.3204 - accuracy: 0.8645 - val_loss: 0.5159 - val_accuracy: 0.7681\n",
      "Epoch 19/20\n",
      "436/436 [==============================] - 8s 18ms/step - loss: 0.3085 - accuracy: 0.8705 - val_loss: 0.5189 - val_accuracy: 0.7679\n",
      "Epoch 20/20\n",
      "436/436 [==============================] - 8s 18ms/step - loss: 0.2978 - accuracy: 0.8750 - val_loss: 0.5202 - val_accuracy: 0.7706\n",
      "373/373 [==============================] - 2s 4ms/step - loss: 0.5202 - accuracy: 0.7706\n",
      "Loss: 0.520163357257843, Accuracy: 77.06%\n"
     ]
    }
   ],
   "source": [
    "# Train the model\n",
    "m1.fit(X_train, y_train, epochs=20, batch_size=64, validation_data=(X_test, y_test))\n",
    "\n",
    "# Evaluate the model\n",
    "loss, accuracy = m1.evaluate(X_test, y_test)\n",
    "print(f'Loss: {loss}, Accuracy: {accuracy * 100:.2f}%')"
   ]
  },
  {
   "cell_type": "code",
   "execution_count": 7,
   "metadata": {},
   "outputs": [
    {
     "name": "stdout",
     "output_type": "stream",
     "text": [
      "373/373 [==============================] - 2s 4ms/step\n",
      "Precision: 0.7571\n",
      "Recall: 0.7457\n"
     ]
    }
   ],
   "source": [
    "from sklearn.metrics import precision_score, recall_score\n",
    "\n",
    "# Predict on validation data\n",
    "y_val_pred_prob_m1 = m1.predict(X_test)\n",
    "y_val_pred_m1 = (y_val_pred_prob_m1 > 0.5).astype(int)  # Threshold for binary classification\n",
    "\n",
    "# Assuming y_test is in binary format (0 or 1)\n",
    "y_val_true_m1 = y_test\n",
    "\n",
    "# Calculate precision and recall for binary classification\n",
    "precision_m1 = precision_score(y_val_true_m1, y_val_pred_m1)\n",
    "recall_m1 = recall_score(y_val_true_m1, y_val_pred_m1)\n",
    "\n",
    "# print the results\n",
    "print(f'Precision: {precision_m1:.4f}')\n",
    "print(f'Recall: {recall_m1:.4f}')"
   ]
  }
 ],
 "metadata": {
  "kernelspec": {
   "display_name": "Python 3",
   "language": "python",
   "name": "python3"
  },
  "language_info": {
   "codemirror_mode": {
    "name": "ipython",
    "version": 3
   },
   "file_extension": ".py",
   "mimetype": "text/x-python",
   "name": "python",
   "nbconvert_exporter": "python",
   "pygments_lexer": "ipython3",
   "version": "3.10.13"
  }
 },
 "nbformat": 4,
 "nbformat_minor": 2
}
