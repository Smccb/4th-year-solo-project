{
  "cells": [
    {
      "cell_type": "code",
      "execution_count": 2,
      "metadata": {
        "id": "-X3mdwuC7a-a"
      },
      "outputs": [
        {
          "name": "stdout",
          "output_type": "stream",
          "text": [
            "WARNING:tensorflow:From c:\\Users\\Sarah\\Desktop\\4th-year-solo-project\\.venv\\Lib\\site-packages\\keras\\src\\losses.py:2976: The name tf.losses.sparse_softmax_cross_entropy is deprecated. Please use tf.compat.v1.losses.sparse_softmax_cross_entropy instead.\n",
            "\n"
          ]
        }
      ],
      "source": [
        "#example based on https://keras.io/guides/working_with_rnns/\n",
        "import numpy as np\n",
        "import tensorflow as tf\n",
        "from tensorflow.keras.models import Sequential\n",
        "from tensorflow.keras.layers import Embedding, LSTM, Dense\n",
        "from tensorflow.keras.preprocessing.text import Tokenizer\n",
        "from tensorflow.keras.preprocessing.sequence import pad_sequences\n",
        "from tensorflow.keras.utils import to_categorical\n",
        "import pandas as pd"
      ]
    },
    {
      "cell_type": "code",
      "execution_count": 4,
      "metadata": {
        "colab": {
          "base_uri": "https://localhost:8080/",
          "height": 53
        },
        "id": "eHITUVFMWbvv",
        "outputId": "dda6f08d-a26c-4746-885b-8e9ac00ec571"
      },
      "outputs": [],
      "source": [
        "# Load data\n",
        "#dataset link https://www.kaggle.com/datasets/fhamborg/news-articles-sentiment\n",
        "data_train = pd.read_json(\"train.jsonl\", lines=True)\n",
        "data_test = pd.read_json(\"test.jsonl\", lines=True)\n",
        "#data_train.head()\n",
        "data_test.head()\n",
        "\n",
        "x_train = data_train.sentence\n",
        "y_train = data_train.polarity\n",
        "\n",
        "x_test = data_test.sentence\n",
        "y_test = data_test.polarity"
      ]
    },
    {
      "cell_type": "code",
      "execution_count": 5,
      "metadata": {
        "colab": {
          "base_uri": "https://localhost:8080/"
        },
        "id": "6S7BKPiw5fqW",
        "outputId": "6b61defc-9480-45fa-90c8-1f69c090941a"
      },
      "outputs": [
        {
          "name": "stdout",
          "output_type": "stream",
          "text": [
            "8739 Training\n",
            "803 Test\n"
          ]
        }
      ],
      "source": [
        "print(len(data_train), \"Training\")\n",
        "print(len(data_test), \"Test\")\n",
        "\n",
        "# remove duplicates\n",
        "#data_train = data_train.drop_duplicates(subset='sentence', keep='first')\n",
        "#data_test = data_test.drop_duplicates(subset='sentence', keep='first')"
      ]
    },
    {
      "cell_type": "code",
      "execution_count": 7,
      "metadata": {
        "id": "NRjewLjJYPjU"
      },
      "outputs": [],
      "source": [
        "# Preparing sentence and label for training\n",
        "X_train = data_train['sentence']\n",
        "y_train = data_train['polarity']\n",
        "\n",
        "max_length = 200\n",
        "\n",
        "tokenizer = Tokenizer()\n",
        "tokenizer.fit_on_texts(X_train)\n",
        "X_train = tokenizer.texts_to_sequences(X_train)\n",
        "X_train = pad_sequences(X_train, maxlen=max_length)\n",
        "\n",
        "y_train_categorical = to_categorical(y_train, num_classes=3)"
      ]
    },
    {
      "cell_type": "code",
      "execution_count": 9,
      "metadata": {
        "colab": {
          "base_uri": "https://localhost:8080/"
        },
        "id": "WRBHB_VJvbwu",
        "outputId": "b8d5e539-1f1f-44b9-b80e-0ea4427463b0"
      },
      "outputs": [
        {
          "name": "stdout",
          "output_type": "stream",
          "text": [
            "19585\n"
          ]
        }
      ],
      "source": [
        "v_size = len(tokenizer.word_index) + 1\n",
        "print(v_size)"
      ]
    },
    {
      "cell_type": "code",
      "execution_count": 11,
      "metadata": {
        "id": "uK4sT67BaBxf"
      },
      "outputs": [],
      "source": [
        "# Testing data prep\n",
        "X_val = data_test['sentence']\n",
        "y_val = data_test['polarity']\n",
        "\n",
        "X_val = tokenizer.texts_to_sequences(X_val)\n",
        "X_val = pad_sequences(X_val, maxlen=max_length)\n",
        "\n",
        "# Convert labels to categorical\n",
        "y_val_categorical = to_categorical(y_val, num_classes=3)"
      ]
    },
    {
      "cell_type": "code",
      "execution_count": 12,
      "metadata": {
        "colab": {
          "base_uri": "https://localhost:8080/"
        },
        "id": "ZUmg-a08ZeME",
        "outputId": "53ba208b-0633-4cfb-8ac8-c5338551cb2d"
      },
      "outputs": [
        {
          "name": "stdout",
          "output_type": "stream",
          "text": [
            "Number of rows with polarity -1: 3316\n",
            "Number of rows with polarity 0: 3028\n",
            "Number of rows with polarity 1: 2395\n"
          ]
        }
      ],
      "source": [
        "#check dataset for all polarity options to see if there is an unbalanced level of training data\n",
        "\n",
        "df = pd.read_json('train.jsonl', lines=True)\n",
        "rows_with_precision_minus_one = df[df['polarity'] == -1]\n",
        "# Get the count of rows with precision -1\n",
        "count_precision_minus_one = len(rows_with_precision_minus_one)\n",
        "print(f\"Number of rows with polarity -1: {count_precision_minus_one}\")\n",
        "\n",
        "rows_with_precision_minus_one = df[df['polarity'] == 0]\n",
        "# Get the count of rows with precision 0\n",
        "count_precision_minus_one = len(rows_with_precision_minus_one)\n",
        "print(f\"Number of rows with polarity 0: {count_precision_minus_one}\")\n",
        "\n",
        "rows_with_precision_minus_one = df[df['polarity'] == 1]\n",
        "# Get the count of rows with precision 1\n",
        "count_precision_minus_one = len(rows_with_precision_minus_one)\n",
        "print(f\"Number of rows with polarity 1: {count_precision_minus_one}\")"
      ]
    },
    {
      "cell_type": "markdown",
      "metadata": {
        "id": "51U7lCl5Y66p"
      },
      "source": [
        "Slight bias will resamlpe the dataset os they have more similar spread of polarity\n"
      ]
    },
    {
      "cell_type": "code",
      "execution_count": 13,
      "metadata": {
        "colab": {
          "base_uri": "https://localhost:8080/"
        },
        "id": "Xr-5IFRDa1eg",
        "outputId": "778987a5-fe09-4fb2-ef05-0e1dc0a22bc7"
      },
      "outputs": [
        {
          "name": "stdout",
          "output_type": "stream",
          "text": [
            "polarity\n",
            " 1    3028\n",
            " 0    3028\n",
            "-1    3028\n",
            "Name: count, dtype: int64\n"
          ]
        }
      ],
      "source": [
        "#resample data, oversampling\n",
        "from sklearn.utils import resample\n",
        "import pandas as pd\n",
        "\n",
        "df = pd.read_json('train.jsonl', lines=True)\n",
        "\n",
        "# Separate classes\n",
        "df_class_minus_one = df[df['polarity'] == -1]\n",
        "df_class_0 = df[df['polarity'] == 0]\n",
        "df_class_1 = df[df['polarity'] == 1]\n",
        "\n",
        "# Oversample minority classes\n",
        "df_class_minus_one_oversampled = resample(df_class_minus_one, replace=True, n_samples=len(df_class_0), random_state=42)\n",
        "df_class_1_oversampled = resample(df_class_1, replace=True, n_samples=len(df_class_0), random_state=42)\n",
        "\n",
        "# Combine oversampled minority classes with majority class\n",
        "df_oversampled = pd.concat([df_class_minus_one_oversampled, df_class_0, df_class_1_oversampled])\n",
        "\n",
        "# Shuffle the classes\n",
        "df_oversampled = df_oversampled.sample(frac=1, random_state=42)\n",
        "\n",
        "# Display the counts after oversampling\n",
        "print(df_oversampled['polarity'].value_counts())\n"
      ]
    },
    {
      "cell_type": "code",
      "execution_count": 14,
      "metadata": {
        "id": "4r1PjBADbRBe"
      },
      "outputs": [],
      "source": [
        "# retrain a new model and tokenise and split the data\n",
        "max_length = 200\n",
        "\n",
        "x_predict = df_oversampled['sentence']\n",
        "y_label = df_oversampled['polarity']\n",
        "\n",
        "tokenizer = Tokenizer()\n",
        "tokenizer.fit_on_texts(x_predict)\n",
        "x_predict = tokenizer.texts_to_sequences(x_predict)\n",
        "x_predict = pad_sequences(x_predict, maxlen=max_length)"
      ]
    },
    {
      "cell_type": "code",
      "execution_count": 15,
      "metadata": {
        "colab": {
          "base_uri": "https://localhost:8080/"
        },
        "id": "l0SKvNCzb8PF",
        "outputId": "080b38f0-40cf-496e-85ff-f3bf31781840"
      },
      "outputs": [
        {
          "name": "stdout",
          "output_type": "stream",
          "text": [
            "7267 Training sequences\n",
            "1817 Validation sequences\n",
            "7267 Training sequences\n",
            "1817 Validation sequences\n"
          ]
        }
      ],
      "source": [
        "# splitting over sampled data into a training and testing sets\n",
        "from sklearn.model_selection import train_test_split\n",
        "\n",
        "# Split the data into training and validation sets\n",
        "x_predict, x_p, y_label, y_l = train_test_split(x_predict, y_label, test_size=0.2, random_state=42)\n",
        "\n",
        "y_label_categorical = to_categorical(y_label, num_classes=3)\n",
        "y_l_categorical = to_categorical(y_l, num_classes=3)\n",
        "\n",
        "# Print the lengths of the training and validation sets\n",
        "print(len(x_predict), \"Training sequences\")\n",
        "print(len(x_p), \"Validation sequences\")\n",
        "\n",
        "print(len(y_label), \"Training sequences\")\n",
        "print(len(y_l), \"Validation sequences\")"
      ]
    },
    {
      "cell_type": "code",
      "execution_count": 16,
      "metadata": {
        "colab": {
          "base_uri": "https://localhost:8080/"
        },
        "id": "lW06AvQQgB3_",
        "outputId": "fe714c89-2065-41f0-a0cc-ec32539d16dd"
      },
      "outputs": [
        {
          "name": "stdout",
          "output_type": "stream",
          "text": [
            "WARNING:tensorflow:From c:\\Users\\Sarah\\Desktop\\4th-year-solo-project\\.venv\\Lib\\site-packages\\keras\\src\\backend.py:873: The name tf.get_default_graph is deprecated. Please use tf.compat.v1.get_default_graph instead.\n",
            "\n",
            "WARNING:tensorflow:From c:\\Users\\Sarah\\Desktop\\4th-year-solo-project\\.venv\\Lib\\site-packages\\keras\\src\\optimizers\\__init__.py:309: The name tf.train.Optimizer is deprecated. Please use tf.compat.v1.train.Optimizer instead.\n",
            "\n",
            "Model: \"sequential\"\n",
            "_________________________________________________________________\n",
            " Layer (type)                Output Shape              Param #   \n",
            "=================================================================\n",
            " embedding (Embedding)       (None, 200, 50)           900000    \n",
            "                                                                 \n",
            " lstm (LSTM)                 (None, 150)               120600    \n",
            "                                                                 \n",
            " dense (Dense)               (None, 3)                 453       \n",
            "                                                                 \n",
            "=================================================================\n",
            "Total params: 1021053 (3.90 MB)\n",
            "Trainable params: 1021053 (3.90 MB)\n",
            "Non-trainable params: 0 (0.00 Byte)\n",
            "_________________________________________________________________\n"
          ]
        }
      ],
      "source": [
        "# creating new model\n",
        "\n",
        "embedding_dim = 50\n",
        "vocab_size = 18000\n",
        "max_length = 200\n",
        "\n",
        "m1 = Sequential()\n",
        "m1.add(Embedding(input_dim=vocab_size, output_dim=embedding_dim, input_length=max_length))\n",
        "m1.add(LSTM(units=150, dropout=0.3, recurrent_dropout=0.3))\n",
        "m1.add(Dense(units=3, activation='softmax'))\n",
        "\n",
        "m1.compile(optimizer='adam', loss='categorical_crossentropy', metrics=['accuracy'])\n",
        "m1.summary()"
      ]
    },
    {
      "cell_type": "code",
      "execution_count": 17,
      "metadata": {
        "colab": {
          "background_save": true,
          "base_uri": "https://localhost:8080/"
        },
        "id": "NcNS5xmUgDeo",
        "outputId": "ebdf21be-c4bc-4907-b3fd-a0512d7ec027"
      },
      "outputs": [
        {
          "name": "stdout",
          "output_type": "stream",
          "text": [
            "Epoch 1/10\n",
            "WARNING:tensorflow:From c:\\Users\\Sarah\\Desktop\\4th-year-solo-project\\.venv\\Lib\\site-packages\\keras\\src\\utils\\tf_utils.py:492: The name tf.ragged.RaggedTensorValue is deprecated. Please use tf.compat.v1.ragged.RaggedTensorValue instead.\n",
            "\n",
            "WARNING:tensorflow:From c:\\Users\\Sarah\\Desktop\\4th-year-solo-project\\.venv\\Lib\\site-packages\\keras\\src\\engine\\base_layer_utils.py:384: The name tf.executing_eagerly_outside_functions is deprecated. Please use tf.compat.v1.executing_eagerly_outside_functions instead.\n",
            "\n",
            "114/114 [==============================] - 23s 187ms/step - loss: 1.0360 - accuracy: 0.4615 - val_loss: 0.8920 - val_accuracy: 0.6026\n",
            "Epoch 2/10\n",
            "114/114 [==============================] - 25s 223ms/step - loss: 0.6676 - accuracy: 0.7233 - val_loss: 0.7364 - val_accuracy: 0.6802\n",
            "Epoch 3/10\n",
            "114/114 [==============================] - 26s 228ms/step - loss: 0.3979 - accuracy: 0.8512 - val_loss: 0.7519 - val_accuracy: 0.7155\n",
            "Epoch 4/10\n",
            "114/114 [==============================] - 26s 229ms/step - loss: 0.2474 - accuracy: 0.9137 - val_loss: 0.7870 - val_accuracy: 0.7248\n",
            "Epoch 5/10\n",
            "114/114 [==============================] - 27s 234ms/step - loss: 0.1821 - accuracy: 0.9403 - val_loss: 0.8402 - val_accuracy: 0.7144\n",
            "Epoch 6/10\n",
            "114/114 [==============================] - 27s 240ms/step - loss: 0.1584 - accuracy: 0.9514 - val_loss: 0.9264 - val_accuracy: 0.7133\n",
            "Epoch 7/10\n",
            "114/114 [==============================] - 27s 236ms/step - loss: 0.1309 - accuracy: 0.9571 - val_loss: 0.9191 - val_accuracy: 0.7177\n",
            "Epoch 8/10\n",
            "114/114 [==============================] - 27s 237ms/step - loss: 0.1203 - accuracy: 0.9587 - val_loss: 0.9150 - val_accuracy: 0.7105\n",
            "Epoch 9/10\n",
            "114/114 [==============================] - 27s 240ms/step - loss: 0.1094 - accuracy: 0.9631 - val_loss: 1.0184 - val_accuracy: 0.7298\n",
            "Epoch 10/10\n",
            "114/114 [==============================] - 29s 252ms/step - loss: 0.1054 - accuracy: 0.9626 - val_loss: 0.9514 - val_accuracy: 0.7303\n",
            "57/57 [==============================] - 1s 26ms/step - loss: 0.9514 - accuracy: 0.7303\n",
            "Loss: 0.951392650604248, Accuracy: 73.03%\n"
          ]
        }
      ],
      "source": [
        "# Train the model\n",
        "m1.fit(x_predict, y_label_categorical, epochs=10, batch_size=64, validation_data=(x_p, y_l_categorical))\n",
        "\n",
        "# Evaluate the model\n",
        "loss, accuracy = m1.evaluate(x_p, y_l_categorical)\n",
        "print(f'Loss: {loss}, Accuracy: {accuracy * 100:.2f}%')"
      ]
    },
    {
      "cell_type": "code",
      "execution_count": 21,
      "metadata": {},
      "outputs": [
        {
          "name": "stdout",
          "output_type": "stream",
          "text": [
            "57/57 [==============================] - 1s 21ms/step\n",
            "Precision: 0.7256\n",
            "Recall: 0.7286\n"
          ]
        }
      ],
      "source": [
        "from sklearn.metrics import precision_score, recall_score\n",
        "\n",
        "# Predict on validation data\n",
        "y_val_pred_prob_m1 = m1.predict(x_p)\n",
        "y_val_pred_m1 = np.argmax(y_val_pred_prob_m1, axis=1)\n",
        "\n",
        "y_val_true_m1 = np.argmax(y_l_categorical, axis=1)\n",
        "\n",
        "# Calculate precision and recall for each class\n",
        "precision_m1 = precision_score(y_val_true_m1, y_val_pred_m1, average='macro')\n",
        "recall_m1 = recall_score(y_val_true_m1, y_val_pred_m1, average='macro')\n",
        "\n",
        "# print the results\n",
        "print(f'Precision: {precision_m1:.4f}')\n",
        "print(f'Recall: {recall_m1:.4f}')\n",
        "\n"
      ]
    }
  ],
  "metadata": {
    "colab": {
      "provenance": []
    },
    "kernelspec": {
      "display_name": "Python 3",
      "name": "python3"
    },
    "language_info": {
      "codemirror_mode": {
        "name": "ipython",
        "version": 3
      },
      "file_extension": ".py",
      "mimetype": "text/x-python",
      "name": "python",
      "nbconvert_exporter": "python",
      "pygments_lexer": "ipython3",
      "version": "3.11.0"
    }
  },
  "nbformat": 4,
  "nbformat_minor": 0
}
