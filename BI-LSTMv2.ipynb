{
 "cells": [
  {
   "cell_type": "code",
   "execution_count": 101,
   "metadata": {},
   "outputs": [],
   "source": [
    "import numpy as np\n",
    "from tensorflow import keras\n",
    "from tensorflow.keras import layers\n",
    "import pandas as pd\n"
   ]
  },
  {
   "cell_type": "code",
   "execution_count": 102,
   "metadata": {},
   "outputs": [
    {
     "name": "stdout",
     "output_type": "stream",
     "text": [
      "8739 Training\n",
      "803 Test\n",
      "343 Dev\n",
      "8739 combined\n"
     ]
    }
   ],
   "source": [
    "data_train = pd.read_json(\"train.jsonl\", lines=True)\n",
    "data_test = pd.read_json(\"test.jsonl\", lines=True)\n",
    "data_dev = pd.read_json(\"dev.jsonl\", lines=True)\n",
    "\n",
    "print(len(data_train), \"Training\")\n",
    "print(len(data_test), \"Test\")\n",
    "print(len(data_dev), \"Dev\")\n",
    "\n",
    "combined_data = pd.concat([data_train, data_dev], ignore_index=True)\n",
    "combined_data = data_train\n",
    "# Print the combined DataFrame\n",
    "#combined_data.head()\n",
    "\n",
    "print(len(combined_data), \"combined\")"
   ]
  },
  {
   "cell_type": "code",
   "execution_count": 103,
   "metadata": {},
   "outputs": [
    {
     "name": "stdout",
     "output_type": "stream",
     "text": [
      "polarity\n",
      " 1    3028\n",
      " 0    3028\n",
      "-1    3028\n",
      "Name: count, dtype: int64\n",
      "polarity\n",
      " 1    319\n",
      " 0    319\n",
      "-1    319\n",
      "Name: count, dtype: int64\n"
     ]
    }
   ],
   "source": [
    "#resample data, oversampling\n",
    "import pandas as pd\n",
    "from sklearn.utils import resample\n",
    "\n",
    "def oversample_and_shuffle(df):\n",
    "    # Separate classes\n",
    "    df_class_minus_one = df[df['polarity'] == -1]\n",
    "    df_class_0 = df[df['polarity'] == 0]\n",
    "    df_class_1 = df[df['polarity'] == 1]\n",
    "\n",
    "    # Oversample minority classes (class -1 and class 1 in this case)\n",
    "    df_class_minus_one_oversampled = resample(df_class_minus_one, replace=True, n_samples=len(df_class_0), random_state=42)\n",
    "    df_class_1_oversampled = resample(df_class_1, replace=True, n_samples=len(df_class_0), random_state=42)\n",
    "\n",
    "    # Combine oversampled minority classes with majority class\n",
    "    df_oversampled = pd.concat([df_class_minus_one_oversampled, df_class_0, df_class_1_oversampled])\n",
    "\n",
    "    # Shuffle the dataframe to mix the classes\n",
    "    df_oversampled = df_oversampled.sample(frac=1, random_state=42)\n",
    "\n",
    "    # Display the counts after oversampling\n",
    "    print(df_oversampled['polarity'].value_counts())\n",
    "\n",
    "    return df_oversampled\n",
    "\n",
    "df = combined_data\n",
    "combined_data = oversample_and_shuffle(df)\n",
    "\n",
    "df = data_test\n",
    "data_test = oversample_and_shuffle(df)"
   ]
  },
  {
   "cell_type": "code",
   "execution_count": 104,
   "metadata": {},
   "outputs": [],
   "source": [
    "combined_data.head()\n",
    "# Specify the columns to be removed\n",
    "columns_to_remove = ['mention', 'from', 'to', 'id']\n",
    "\n",
    "# Use the drop method to remove the specified columns\n",
    "combined_data = combined_data.drop(columns=columns_to_remove)\n",
    "data_test = data_test.drop(columns=columns_to_remove)\n",
    "\n"
   ]
  },
  {
   "cell_type": "code",
   "execution_count": 127,
   "metadata": {},
   "outputs": [
    {
     "name": "stdout",
     "output_type": "stream",
     "text": [
      "Model: \"model_13\"\n",
      "_________________________________________________________________\n",
      " Layer (type)                Output Shape              Param #   \n",
      "=================================================================\n",
      " input_17 (InputLayer)       [(None, None)]            0         \n",
      "                                                                 \n",
      " embedding_16 (Embedding)    (None, None, 100)         1800000   \n",
      "                                                                 \n",
      " bidirectional_35 (Bidirect  (None, None, 128)         84480     \n",
      " ional)                                                          \n",
      "                                                                 \n",
      " bidirectional_36 (Bidirect  (None, 128)               98816     \n",
      " ional)                                                          \n",
      "                                                                 \n",
      " dense_13 (Dense)            (None, 3)                 387       \n",
      "                                                                 \n",
      "=================================================================\n",
      "Total params: 1983683 (7.57 MB)\n",
      "Trainable params: 1983683 (7.57 MB)\n",
      "Non-trainable params: 0 (0.00 Byte)\n",
      "_________________________________________________________________\n"
     ]
    }
   ],
   "source": [
    "from tensorflow import keras\n",
    "from tensorflow.keras import layers\n",
    "\n",
    "embedding_dim = 100\n",
    "vocab_size = 18000\n",
    "max_length = 200\n",
    "\n",
    "# Input for variable-length sequences of integers\n",
    "inputs = keras.Input(shape=(None,), dtype=\"int64\")\n",
    "\n",
    "# Embed each integer in a 50-dimensional vector (adjust embedding_dim to match your original model)\n",
    "x = layers.Embedding(vocab_size, embedding_dim)(inputs)\n",
    "#x = layers.BatchNormalization()(x)\n",
    "\n",
    "# Add 2 bidirectional LSTMs with similar units and dropout as your original model\n",
    "#x = layers.Bidirectional(layers.LSTM(150, dropout=0.3, recurrent_dropout=0.3, return_sequences=True))(x)\n",
    "#x = layers.Bidirectional(layers.LSTM(150))(x)\n",
    "\n",
    "x = layers.Bidirectional(layers.LSTM(64, return_sequences=True))(x)\n",
    "x = layers.Bidirectional(layers.LSTM(64))(x)\n",
    "\n",
    "\n",
    "# Add a classifier with output shape matching the number of classes (3 in this case)\n",
    "num_classes = 3  # Number of classes\n",
    "outputs = layers.Dense(num_classes, activation=\"sigmoid\")(x)\n",
    "\n",
    "model = keras.Model(inputs, outputs)\n",
    "\n",
    "from tensorflow.keras.optimizers import Adam\n",
    "\n",
    "model.compile(optimizer=Adam(learning_rate=0.0001), loss='categorical_crossentropy', metrics=['accuracy'])\n",
    "early_stopping = keras.callbacks.EarlyStopping(monitor='val_loss', patience=3)\n",
    "\n",
    "model.summary()"
   ]
  },
  {
   "cell_type": "code",
   "execution_count": 128,
   "metadata": {},
   "outputs": [],
   "source": [
    "combined_data = combined_data.drop_duplicates(subset='sentence', keep='first')\n",
    "data_test = data_test.drop_duplicates(subset='sentence', keep='first')"
   ]
  },
  {
   "cell_type": "code",
   "execution_count": 129,
   "metadata": {},
   "outputs": [],
   "source": [
    "from tensorflow.keras.preprocessing.text import Tokenizer\n",
    "\n",
    "from tensorflow.keras.preprocessing.sequence import pad_sequences\n",
    "from tensorflow.keras.utils import to_categorical\n",
    "\n",
    "texts_train = combined_data['sentence']\n",
    "labels_train = combined_data['polarity']\n",
    "\n",
    "texts_test = data_test['sentence']\n",
    "labels_test = data_test['polarity']\n",
    "\n",
    "# Tokenize the text data\n",
    "tokenizer = Tokenizer(num_words=vocab_size)\n",
    "tokenizer.fit_on_texts(texts_train)\n",
    "sequences_train = tokenizer.texts_to_sequences(texts_train)\n",
    "\n",
    "tokenizer_test = Tokenizer(num_words=vocab_size)\n",
    "tokenizer_test.fit_on_texts(texts_test)\n",
    "sequences_test = tokenizer_test.texts_to_sequences(texts_test)\n",
    "\n",
    "maxlen = 200\n",
    "x_train = pad_sequences(sequences_train, maxlen=maxlen)\n",
    "x_val = pad_sequences(sequences_test, maxlen=maxlen)\n",
    "\n",
    "y_train = labels_train\n",
    "y_val = labels_test"
   ]
  },
  {
   "cell_type": "code",
   "execution_count": 130,
   "metadata": {},
   "outputs": [],
   "source": [
    "num_classes = len(np.unique(y_train))\n",
    "y_train_categorical = to_categorical(y_train, num_classes=num_classes)\n",
    "y_val_categorical = to_categorical(y_val, num_classes=num_classes)"
   ]
  },
  {
   "cell_type": "code",
   "execution_count": 131,
   "metadata": {},
   "outputs": [
    {
     "name": "stdout",
     "output_type": "stream",
     "text": [
      "6170 combined\n",
      "613 test\n",
      "17271 word index\n"
     ]
    }
   ],
   "source": [
    "print(len(combined_data), \"combined\")\n",
    "print(len(data_test), \"test\")\n",
    "print(len(tokenizer.word_index), \"word index\")"
   ]
  },
  {
   "cell_type": "code",
   "execution_count": 132,
   "metadata": {},
   "outputs": [
    {
     "name": "stdout",
     "output_type": "stream",
     "text": [
      "Epoch 1/10\n",
      "97/97 [==============================] - 18s 152ms/step - loss: 1.0639 - accuracy: 0.4598 - val_loss: 1.0344 - val_accuracy: 0.4878\n",
      "Epoch 2/10\n",
      "97/97 [==============================] - 14s 139ms/step - loss: 1.0485 - accuracy: 0.4632 - val_loss: 1.0279 - val_accuracy: 0.4878\n",
      "Epoch 3/10\n",
      "97/97 [==============================] - 14s 139ms/step - loss: 1.0292 - accuracy: 0.4851 - val_loss: 1.0272 - val_accuracy: 0.5106\n",
      "Epoch 4/10\n",
      "97/97 [==============================] - 14s 141ms/step - loss: 0.9054 - accuracy: 0.5836 - val_loss: 1.1528 - val_accuracy: 0.4192\n",
      "Epoch 5/10\n",
      "97/97 [==============================] - 14s 140ms/step - loss: 0.7266 - accuracy: 0.6720 - val_loss: 1.3212 - val_accuracy: 0.4421\n",
      "Epoch 6/10\n",
      "97/97 [==============================] - 14s 140ms/step - loss: 0.5893 - accuracy: 0.7391 - val_loss: 1.5358 - val_accuracy: 0.4323\n",
      "20/20 [==============================] - 1s 35ms/step - loss: 1.5358 - accuracy: 0.4323\n",
      "Loss: 1.5357695817947388, Accuracy: 43.23%\n"
     ]
    }
   ],
   "source": [
    "model.fit(x_train, y_train_categorical, epochs=10, batch_size=64, validation_data=(x_val, y_val_categorical), callbacks=[early_stopping])\n",
    "\n",
    "\n",
    "loss, accuracy = model.evaluate(x_val, y_val_categorical)\n",
    "print(f'Loss: {loss}, Accuracy: {accuracy * 100:.2f}%')\n"
   ]
  }
 ],
 "metadata": {
  "kernelspec": {
   "display_name": ".venv",
   "language": "python",
   "name": "python3"
  },
  "language_info": {
   "codemirror_mode": {
    "name": "ipython",
    "version": 3
   },
   "file_extension": ".py",
   "mimetype": "text/x-python",
   "name": "python",
   "nbconvert_exporter": "python",
   "pygments_lexer": "ipython3",
   "version": "3.11.2"
  }
 },
 "nbformat": 4,
 "nbformat_minor": 2
}
