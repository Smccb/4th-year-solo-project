{
 "cells": [
  {
   "cell_type": "code",
   "execution_count": 1,
   "metadata": {},
   "outputs": [],
   "source": [
    "import numpy as np\n",
    "import tensorflow as tf\n",
    "\n",
    "from tensorflow.keras.models import Sequential\n",
    "from tensorflow.keras.layers import Embedding, LSTM, Dense\n",
    "from tensorflow.keras.preprocessing.text import Tokenizer\n",
    "from tensorflow.keras.preprocessing.sequence import pad_sequences\n",
    "from tensorflow.keras.utils import to_categorical\n",
    "import pandas as pd"
   ]
  },
  {
   "cell_type": "code",
   "execution_count": 3,
   "metadata": {},
   "outputs": [],
   "source": [
    "# Read the dataset\n",
    "dataset = pd.read_json(\"data_without_hashtags.json\")"
   ]
  },
  {
   "cell_type": "code",
   "execution_count": 4,
   "metadata": {},
   "outputs": [
    {
     "name": "stdout",
     "output_type": "stream",
     "text": [
      "Shape of X_train: (31824, 140)\n",
      "Shape of X_test: (7956, 140)\n"
     ]
    }
   ],
   "source": [
    "import pandas as pd\n",
    "from sklearn.model_selection import train_test_split\n",
    "from keras.preprocessing.text import Tokenizer\n",
    "from keras_preprocessing.sequence import pad_sequences\n",
    "from keras.utils import to_categorical\n",
    "\n",
    "# Read the dataset\n",
    "#dataset = pd.read_json(\"data_without_hashtags.json\")\n",
    "\n",
    "# Split the dataset into training and testing sets\n",
    "X_train, X_test, y_train, y_test = train_test_split(dataset['text'], dataset['isSarcastic'], test_size=0.2, random_state=42)\n",
    "\n",
    "# Tokenize and vectorize the training text data using Tokenizer and pad_sequences\n",
    "max_length = 140\n",
    "tokenizer = Tokenizer()\n",
    "tokenizer.fit_on_texts(X_train)\n",
    "X_train = tokenizer.texts_to_sequences(X_train)\n",
    "X_train = pad_sequences(X_train, maxlen=max_length)\n",
    "\n",
    "y_train_categorical = to_categorical(y_train, num_classes=2)\n",
    "\n",
    "# Display the shapes of the resulting matrices\n",
    "print(\"Shape of X_train:\", X_train.shape)\n",
    "\n",
    "# Tokenize and vectorize the testing text data using the same Tokenizer\n",
    "X_test = tokenizer.texts_to_sequences(X_test)\n",
    "X_test = pad_sequences(X_test, maxlen=max_length)\n",
    "\n",
    "# Display the shape of X_test\n",
    "print(\"Shape of X_test:\", X_test.shape)"
   ]
  },
  {
   "cell_type": "code",
   "execution_count": 6,
   "metadata": {},
   "outputs": [
    {
     "name": "stdout",
     "output_type": "stream",
     "text": [
      "Model: \"sequential\"\n",
      "_________________________________________________________________\n",
      " Layer (type)                Output Shape              Param #   \n",
      "=================================================================\n",
      " embedding (Embedding)       (None, 140, 100)          3221100   \n",
      "                                                                 \n",
      " cu_dnnlstm (CuDNNLSTM)      (None, 150)               151200    \n",
      "                                                                 \n",
      " dense (Dense)               (None, 64)                9664      \n",
      "                                                                 \n",
      " dense_1 (Dense)             (None, 64)                4160      \n",
      "                                                                 \n",
      " dense_2 (Dense)             (None, 1)                 65        \n",
      "                                                                 \n",
      "=================================================================\n",
      "Total params: 3,386,189\n",
      "Trainable params: 3,386,189\n",
      "Non-trainable params: 0\n",
      "_________________________________________________________________\n"
     ]
    }
   ],
   "source": [
    "from keras.models import Sequential\n",
    "from keras.layers import Embedding, CuDNNLSTM, Dense, Dropout\n",
    "from keras.callbacks import EarlyStopping\n",
    "from sklearn.metrics import classification_report\n",
    "from keras.optimizers import Adam\n",
    "\n",
    "embedding_dim = 100\n",
    "\n",
    "# Define the vocabulary size based on the actual number of unique words in the training data\n",
    "vocab_size = len(tokenizer.word_index) + 1\n",
    "\n",
    "max_length = 140\n",
    "\n",
    "optimizer = Adam(learning_rate=0.000009)\n",
    "m1 = Sequential()\n",
    "m1.add(Embedding(input_dim=vocab_size, output_dim=embedding_dim, input_length=max_length))\n",
    "m1.add(CuDNNLSTM(units=150))\n",
    "m1.add(Dense(units=64))\n",
    "m1.add(Dense(units=64))\n",
    "m1.add(Dense(units=1, activation='sigmoid'))\n",
    "\n",
    "m1.compile(optimizer=optimizer, loss='binary_crossentropy', metrics=['accuracy'])\n",
    "m1.summary()"
   ]
  },
  {
   "cell_type": "code",
   "execution_count": 9,
   "metadata": {},
   "outputs": [
    {
     "name": "stderr",
     "output_type": "stream",
     "text": [
      "C:\\Users\\Sarah\\AppData\\Local\\Temp\\ipykernel_25336\\2700761065.py:18: DeprecationWarning: KerasClassifier is deprecated, use Sci-Keras (https://github.com/adriangb/scikeras) instead. See https://www.adriangb.com/scikeras/stable/migration.html for help migrating.\n",
      "  model = KerasClassifier(build_fn=create_model, epochs=20, batch_size=64, verbose=0)\n"
     ]
    },
    {
     "name": "stdout",
     "output_type": "stream",
     "text": [
      "Fitting 5 folds for each of 10 candidates, totalling 50 fits\n",
      "199/199 [==============================] - 1s 3ms/step\n",
      "199/199 [==============================] - 1s 3ms/step\n",
      "199/199 [==============================] - 1s 3ms/step\n",
      "199/199 [==============================] - 1s 3ms/step\n",
      "199/199 [==============================] - 1s 3ms/step\n",
      "199/199 [==============================] - 1s 3ms/step\n",
      "199/199 [==============================] - 1s 3ms/step\n",
      "199/199 [==============================] - 1s 3ms/step\n",
      "199/199 [==============================] - 1s 3ms/step\n",
      "199/199 [==============================] - 1s 3ms/step\n",
      "199/199 [==============================] - 1s 4ms/step\n",
      "199/199 [==============================] - 1s 4ms/step\n",
      "199/199 [==============================] - 1s 4ms/step\n",
      "199/199 [==============================] - 1s 4ms/step\n",
      "199/199 [==============================] - 1s 4ms/step\n",
      "199/199 [==============================] - 1s 3ms/step\n",
      "199/199 [==============================] - 1s 3ms/step\n",
      "199/199 [==============================] - 1s 3ms/step\n",
      "199/199 [==============================] - 1s 3ms/step\n",
      "199/199 [==============================] - 1s 3ms/step\n",
      "199/199 [==============================] - 1s 4ms/step\n",
      "199/199 [==============================] - 1s 4ms/step\n",
      "199/199 [==============================] - 1s 4ms/step\n",
      "199/199 [==============================] - 1s 4ms/step\n",
      "199/199 [==============================] - 1s 4ms/step\n",
      "199/199 [==============================] - 1s 3ms/step\n",
      "199/199 [==============================] - 1s 3ms/step\n",
      "199/199 [==============================] - 1s 3ms/step\n",
      "199/199 [==============================] - 1s 3ms/step\n",
      "199/199 [==============================] - 1s 3ms/step\n",
      "199/199 [==============================] - 1s 3ms/step\n",
      "199/199 [==============================] - 1s 3ms/step\n",
      "199/199 [==============================] - 1s 3ms/step\n",
      "199/199 [==============================] - 1s 3ms/step\n",
      "199/199 [==============================] - 1s 3ms/step\n",
      "199/199 [==============================] - 1s 3ms/step\n",
      "199/199 [==============================] - 1s 3ms/step\n",
      "199/199 [==============================] - 1s 3ms/step\n",
      "199/199 [==============================] - 1s 3ms/step\n",
      "199/199 [==============================] - 1s 3ms/step\n",
      "199/199 [==============================] - 1s 4ms/step\n",
      "199/199 [==============================] - 1s 4ms/step\n",
      "199/199 [==============================] - 1s 4ms/step\n",
      "199/199 [==============================] - 1s 4ms/step\n",
      "199/199 [==============================] - 1s 4ms/step\n",
      "199/199 [==============================] - 1s 4ms/step\n",
      "199/199 [==============================] - 1s 4ms/step\n",
      "199/199 [==============================] - 1s 4ms/step\n",
      "199/199 [==============================] - 1s 4ms/step\n",
      "199/199 [==============================] - 1s 4ms/step\n",
      "Best: 0.753991 using {'embedding_dim': 100, 'learning_rate': 1.927457211768945e-05, 'units': 50}\n"
     ]
    }
   ],
   "source": [
    "from sklearn.model_selection import RandomizedSearchCV, StratifiedKFold\n",
    "from scipy.stats import uniform\n",
    "from keras.wrappers.scikit_learn import KerasClassifier\n",
    "\n",
    "# Define your Keras model as a function\n",
    "def create_model(learning_rate=0.001, embedding_dim=100, units=150):\n",
    "    model = Sequential()\n",
    "    model.add(Embedding(input_dim=vocab_size, output_dim=embedding_dim, input_length=max_length))\n",
    "    model.add(CuDNNLSTM(units=units))\n",
    "    model.add(Dense(units=64))\n",
    "    model.add(Dense(units=64))\n",
    "    model.add(Dense(units=1, activation='sigmoid'))\n",
    "    optimizer = Adam(learning_rate=learning_rate)\n",
    "    model.compile(optimizer=optimizer, loss='binary_crossentropy', metrics=['accuracy'])\n",
    "    return model\n",
    "\n",
    "# Wrap the Keras model using KerasClassifier\n",
    "model = KerasClassifier(build_fn=create_model, epochs=20, batch_size=64, verbose=0)\n",
    "\n",
    "\n",
    "parameters = {\n",
    "    'learning_rate': uniform(0.00001, 0.00009),  # Corrected range\n",
    "    'embedding_dim': [10, 15, 20, 50, 100],\n",
    "    'units': [50, 100, 150, 200]\n",
    "}\n",
    "\n",
    "# Create Random Search\n",
    "random_search = RandomizedSearchCV(estimator=model, param_distributions=parameters, n_iter=10, cv=StratifiedKFold(), scoring='accuracy', verbose=1)\n",
    "\n",
    "# Perform Random Search\n",
    "random_result = random_search.fit(X_train, y_train)\n",
    "\n",
    "# Print results\n",
    "print(\"Best: %f using %s\" % (random_result.best_score_, random_result.best_params_))\n"
   ]
  },
  {
   "cell_type": "code",
   "execution_count": null,
   "metadata": {},
   "outputs": [],
   "source": [
    "# Train the model\n",
    "m1.fit(X_train, y_train, epochs=20, batch_size=64, validation_data=(X_test, y_test))\n",
    "\n",
    "# Evaluate the model\n",
    "loss, accuracy = m1.evaluate(X_test, y_test)\n",
    "print(f'Loss: {loss}, Accuracy: {accuracy * 100:.2f}%')"
   ]
  },
  {
   "cell_type": "code",
   "execution_count": null,
   "metadata": {},
   "outputs": [],
   "source": [
    "from sklearn.metrics import precision_score, recall_score\n",
    "\n",
    "# Predict on validation data\n",
    "y_val_pred_prob_m1 = m1.predict(X_test)\n",
    "y_val_pred_m1 = (y_val_pred_prob_m1 > 0.5).astype(int)  # Threshold for binary classification\n",
    "\n",
    "# Assuming y_test is in binary format (0 or 1)\n",
    "y_val_true_m1 = y_test\n",
    "\n",
    "# Calculate precision and recall for binary classification\n",
    "precision_m1 = precision_score(y_val_true_m1, y_val_pred_m1)\n",
    "recall_m1 = recall_score(y_val_true_m1, y_val_pred_m1)\n",
    "\n",
    "# print the results\n",
    "print(f'Precision: {precision_m1:.4f}')\n",
    "print(f'Recall: {recall_m1:.4f}')"
   ]
  }
 ],
 "metadata": {
  "kernelspec": {
   "display_name": "Python 3",
   "language": "python",
   "name": "python3"
  },
  "language_info": {
   "codemirror_mode": {
    "name": "ipython",
    "version": 3
   },
   "file_extension": ".py",
   "mimetype": "text/x-python",
   "name": "python",
   "nbconvert_exporter": "python",
   "pygments_lexer": "ipython3",
   "version": "3.10.13"
  }
 },
 "nbformat": 4,
 "nbformat_minor": 2
}
