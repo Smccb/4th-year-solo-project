{
 "cells": [
  {
   "cell_type": "code",
   "execution_count": 101,
   "metadata": {},
   "outputs": [],
   "source": [
    "import numpy as np\n",
    "from tensorflow import keras\n",
    "from tensorflow.keras import layers\n",
    "import pandas as pd\n"
   ]
  },
  {
   "cell_type": "code",
   "execution_count": 102,
   "metadata": {},
   "outputs": [
    {
     "name": "stdout",
     "output_type": "stream",
     "text": [
      "8739 Training\n",
      "803 Test\n",
      "343 Dev\n",
      "8739 combined\n"
     ]
    }
   ],
   "source": [
    "data_train = pd.read_json(\"train.jsonl\", lines=True)\n",
    "data_test = pd.read_json(\"test.jsonl\", lines=True)\n",
    "data_dev = pd.read_json(\"dev.jsonl\", lines=True)\n",
    "\n",
    "print(len(data_train), \"Training\")\n",
    "print(len(data_test), \"Test\")\n",
    "print(len(data_dev), \"Dev\")\n",
    "\n",
    "combined_data = pd.concat([data_train, data_dev], ignore_index=True)\n",
    "combined_data = data_train\n",
    "# Print the combined DataFrame\n",
    "#combined_data.head()\n",
    "\n",
    "print(len(combined_data), \"combined\")"
   ]
  },
  {
   "cell_type": "code",
   "execution_count": 103,
   "metadata": {},
   "outputs": [
    {
     "name": "stdout",
     "output_type": "stream",
     "text": [
      "polarity\n",
      " 1    3028\n",
      " 0    3028\n",
      "-1    3028\n",
      "Name: count, dtype: int64\n",
      "polarity\n",
      " 1    319\n",
      " 0    319\n",
      "-1    319\n",
      "Name: count, dtype: int64\n"
     ]
    }
   ],
   "source": [
    "#resample data, oversampling\n",
    "import pandas as pd\n",
    "from sklearn.utils import resample\n",
    "\n",
    "def oversample_and_shuffle(df):\n",
    "    # Separate classes\n",
    "    df_class_minus_one = df[df['polarity'] == -1]\n",
    "    df_class_0 = df[df['polarity'] == 0]\n",
    "    df_class_1 = df[df['polarity'] == 1]\n",
    "\n",
    "    # Oversample minority classes (class -1 and class 1 in this case)\n",
    "    df_class_minus_one_oversampled = resample(df_class_minus_one, replace=True, n_samples=len(df_class_0), random_state=42)\n",
    "    df_class_1_oversampled = resample(df_class_1, replace=True, n_samples=len(df_class_0), random_state=42)\n",
    "\n",
    "    # Combine oversampled minority classes with majority class\n",
    "    df_oversampled = pd.concat([df_class_minus_one_oversampled, df_class_0, df_class_1_oversampled])\n",
    "\n",
    "    # Shuffle the dataframe to mix the classes\n",
    "    df_oversampled = df_oversampled.sample(frac=1, random_state=42)\n",
    "\n",
    "    # Display the counts after oversampling\n",
    "    print(df_oversampled['polarity'].value_counts())\n",
    "\n",
    "    return df_oversampled\n",
    "\n",
    "df = combined_data\n",
    "combined_data = oversample_and_shuffle(df)\n",
    "\n",
    "df = data_test\n",
    "data_test = oversample_and_shuffle(df)"
   ]
  },
  {
   "cell_type": "code",
   "execution_count": 104,
   "metadata": {},
   "outputs": [],
   "source": [
    "combined_data.head()\n",
    "# Specify the columns to be removed\n",
    "columns_to_remove = ['mention', 'from', 'to', 'id']\n",
    "\n",
    "# Use the drop method to remove the specified columns\n",
    "combined_data = combined_data.drop(columns=columns_to_remove)\n",
    "data_test = data_test.drop(columns=columns_to_remove)\n",
    "\n"
   ]
  },
  {
   "cell_type": "code",
   "execution_count": 105,
   "metadata": {},
   "outputs": [
    {
     "name": "stdout",
     "output_type": "stream",
     "text": [
      "Model: \"model_9\"\n",
      "_________________________________________________________________\n",
      " Layer (type)                Output Shape              Param #   \n",
      "=================================================================\n",
      " input_13 (InputLayer)       [(None, 200)]             0         \n",
      "                                                                 \n",
      " embedding_12 (Embedding)    (None, 200, 100)          1800000   \n",
      "                                                                 \n",
      " batch_normalization_6 (Bat  (None, 200, 100)          400       \n",
      " chNormalization)                                                \n",
      "                                                                 \n",
      " bidirectional_27 (Bidirect  (None, 200, 300)          301200    \n",
      " ional)                                                          \n",
      "                                                                 \n",
      " bidirectional_28 (Bidirect  (None, 300)               541200    \n",
      " ional)                                                          \n",
      "                                                                 \n",
      " dense_9 (Dense)             (None, 3)                 903       \n",
      "                                                                 \n",
      "=================================================================\n",
      "Total params: 2643703 (10.08 MB)\n",
      "Trainable params: 2643503 (10.08 MB)\n",
      "Non-trainable params: 200 (800.00 Byte)\n",
      "_________________________________________________________________\n"
     ]
    }
   ],
   "source": [
    "from tensorflow import keras\n",
    "from tensorflow.keras import layers\n",
    "\n",
    "embedding_dim = 100\n",
    "vocab_size = 18000\n",
    "max_length = 200\n",
    "\n",
    "# Input for variable-length sequences of integers\n",
    "inputs = keras.Input(shape=(max_length,), dtype=\"int64\")\n",
    "\n",
    "# Embed each integer in a 50-dimensional vector (adjust embedding_dim to match your original model)\n",
    "x = layers.Embedding(vocab_size, embedding_dim)(inputs)\n",
    "x = layers.BatchNormalization()(x)\n",
    "\n",
    "# Add 2 bidirectional LSTMs with similar units and dropout as your original model\n",
    "x = layers.Bidirectional(layers.LSTM(150, dropout=0.3, recurrent_dropout=0.3, return_sequences=True))(x)\n",
    "x = layers.Bidirectional(layers.LSTM(150))(x)\n",
    "\n",
    "\n",
    "# Add a classifier with output shape matching the number of classes (3 in this case)\n",
    "num_classes = 3  # Number of classes\n",
    "outputs = layers.Dense(num_classes, activation=\"softmax\")(x)\n",
    "\n",
    "model = keras.Model(inputs, outputs)\n",
    "\n",
    "from tensorflow.keras.optimizers import Adam\n",
    "\n",
    "from tensorflow.keras.optimizers import Adam\n",
    "\n",
    "model.compile(optimizer=Adam(learning_rate=0.0001), loss='categorical_crossentropy', metrics=['accuracy'])\n",
    "early_stopping = keras.callbacks.EarlyStopping(monitor='val_loss', patience=3)\n",
    "\n",
    "\n",
    "# Compile model with metrics\n",
    "#model.compile(optimizer='adam', loss='categorical_crossentropy', metrics=['accuracy'])\n",
    "model.summary()"
   ]
  },
  {
   "cell_type": "code",
   "execution_count": 106,
   "metadata": {},
   "outputs": [],
   "source": [
    "#combined_data = combined_data.drop_duplicates(subset='sentence', keep='first')\n",
    "#data_test = data_test.drop_duplicates(subset='sentence', keep='first')"
   ]
  },
  {
   "cell_type": "code",
   "execution_count": 107,
   "metadata": {},
   "outputs": [],
   "source": [
    "from tensorflow.keras.preprocessing.text import Tokenizer\n",
    "\n",
    "from tensorflow.keras.preprocessing.sequence import pad_sequences\n",
    "from tensorflow.keras.utils import to_categorical\n",
    "\n",
    "texts_train = combined_data['sentence']\n",
    "labels_train = combined_data['polarity']\n",
    "\n",
    "texts_test = data_test['sentence']\n",
    "labels_test = data_test['polarity']\n",
    "\n",
    "# Tokenize the text data\n",
    "tokenizer = Tokenizer(num_words=vocab_size)\n",
    "tokenizer.fit_on_texts(texts_train)\n",
    "sequences_train = tokenizer.texts_to_sequences(texts_train)\n",
    "\n",
    "tokenizer_test = Tokenizer(num_words=vocab_size)\n",
    "tokenizer_test.fit_on_texts(texts_test)\n",
    "sequences_test = tokenizer_test.texts_to_sequences(texts_test)\n",
    "\n",
    "maxlen = 200\n",
    "x_train = pad_sequences(sequences_train, maxlen=maxlen)\n",
    "x_val = pad_sequences(sequences_test, maxlen=maxlen)\n",
    "\n",
    "y_train = labels_train\n",
    "y_val = labels_test"
   ]
  },
  {
   "cell_type": "code",
   "execution_count": 108,
   "metadata": {},
   "outputs": [],
   "source": [
    "num_classes = len(np.unique(y_train))\n",
    "y_train_categorical = to_categorical(y_train, num_classes=num_classes)\n",
    "y_val_categorical = to_categorical(y_val, num_classes=num_classes)"
   ]
  },
  {
   "cell_type": "code",
   "execution_count": 109,
   "metadata": {},
   "outputs": [
    {
     "name": "stdout",
     "output_type": "stream",
     "text": [
      "9084 combined\n",
      "957 test\n",
      "17271 word index\n"
     ]
    }
   ],
   "source": [
    "print(len(combined_data), \"combined\")\n",
    "print(len(data_test), \"test\")\n",
    "print(len(tokenizer.word_index), \"word index\")"
   ]
  },
  {
   "cell_type": "code",
   "execution_count": 110,
   "metadata": {},
   "outputs": [
    {
     "name": "stdout",
     "output_type": "stream",
     "text": [
      "Epoch 1/10\n",
      "142/142 [==============================] - 304s 2s/step - loss: 1.0809 - accuracy: 0.4000 - val_loss: 1.0955 - val_accuracy: 0.3814\n",
      "Epoch 2/10\n",
      "142/142 [==============================] - 298s 2s/step - loss: 0.9060 - accuracy: 0.5686 - val_loss: 1.0887 - val_accuracy: 0.4389\n",
      "Epoch 3/10\n",
      "142/142 [==============================] - 298s 2s/step - loss: 0.6664 - accuracy: 0.7149 - val_loss: 1.1138 - val_accuracy: 0.3908\n",
      "Epoch 4/10\n",
      "142/142 [==============================] - 297s 2s/step - loss: 0.4965 - accuracy: 0.7996 - val_loss: 1.3769 - val_accuracy: 0.3856\n",
      "Epoch 5/10\n",
      "142/142 [==============================] - 298s 2s/step - loss: 0.3854 - accuracy: 0.8546 - val_loss: 1.9601 - val_accuracy: 0.3636\n",
      "30/30 [==============================] - 7s 239ms/step - loss: 1.9601 - accuracy: 0.3636\n",
      "Loss: 1.9601343870162964, Accuracy: 36.36%\n"
     ]
    }
   ],
   "source": [
    "model.fit(x_train, y_train_categorical, epochs=10, batch_size=64, validation_data=(x_val, y_val_categorical), callbacks=[early_stopping])\n",
    "\n",
    "\n",
    "# Evaluate the model\n",
    "loss, accuracy = model.evaluate(x_val, y_val_categorical)\n",
    "print(f'Loss: {loss}, Accuracy: {accuracy * 100:.2f}%')\n"
   ]
  }
 ],
 "metadata": {
  "kernelspec": {
   "display_name": ".venv",
   "language": "python",
   "name": "python3"
  },
  "language_info": {
   "codemirror_mode": {
    "name": "ipython",
    "version": 3
   },
   "file_extension": ".py",
   "mimetype": "text/x-python",
   "name": "python",
   "nbconvert_exporter": "python",
   "pygments_lexer": "ipython3",
   "version": "3.11.2"
  }
 },
 "nbformat": 4,
 "nbformat_minor": 2
}
