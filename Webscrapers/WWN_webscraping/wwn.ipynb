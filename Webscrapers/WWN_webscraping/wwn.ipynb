{
 "cells": [
  {
   "cell_type": "code",
   "execution_count": 7,
   "metadata": {},
   "outputs": [
    {
     "name": "stdout",
     "output_type": "stream",
     "text": [
      "200\n"
     ]
    }
   ],
   "source": [
    "import requests\n",
    "from bs4 import BeautifulSoup\n",
    "\n",
    "url = 'https://www.reddit.com/r/WaterfordWhispersNews/'\n",
    "\n",
    "# Send a GET request to the URL\n",
    "response = requests.get(url)\n",
    "\n",
    "# Check if the request was successful (status code 200)\n",
    "if response.status_code == 200:\n",
    "    print(response.status_code)\n",
    "    # Parse the HTML content of the page\n",
    "    soup = BeautifulSoup(response.text, 'html.parser')\n",
    "\n",
    "    # Find the elements containing the information you want\n",
    "    # For example, let's extract the titles of the posts\n",
    "    post_titles = soup.find_all('h3', class_='s1te7y45-5 gMTNmq')\n",
    "\n",
    "    # Print the titles\n",
    "    for title in post_titles:\n",
    "        print(title.text)\n",
    "else:\n",
    "    print(f\"Failed to retrieve the page. Status code: {response.status_code}\")\n"
   ]
  },
  {
   "cell_type": "code",
   "execution_count": 1,
   "metadata": {},
   "outputs": [
    {
     "ename": "ModuleNotFoundError",
     "evalue": "No module named 'bs4'",
     "output_type": "error",
     "traceback": [
      "\u001b[1;31m---------------------------------------------------------------------------\u001b[0m",
      "\u001b[1;31mModuleNotFoundError\u001b[0m                       Traceback (most recent call last)",
      "Cell \u001b[1;32mIn[1], line 1\u001b[0m\n\u001b[1;32m----> 1\u001b[0m \u001b[38;5;28;01mfrom\u001b[39;00m \u001b[38;5;21;01mbs4\u001b[39;00m \u001b[38;5;28;01mimport\u001b[39;00m BeautifulSoup\n\u001b[0;32m      2\u001b[0m \u001b[38;5;28;01mfrom\u001b[39;00m \u001b[38;5;21;01mselenium\u001b[39;00m \u001b[38;5;28;01mimport\u001b[39;00m webdriver\n\u001b[0;32m      3\u001b[0m \u001b[38;5;28;01mimport\u001b[39;00m \u001b[38;5;21;01mjson\u001b[39;00m\n",
      "\u001b[1;31mModuleNotFoundError\u001b[0m: No module named 'bs4'"
     ]
    }
   ],
   "source": [
    "from bs4 import BeautifulSoup\n",
    "from selenium import webdriver\n",
    "import json\n",
    "import time\n",
    "import unicodedata\n",
    "\n",
    "def remove_unicode_escape(text):\n",
    "    return ''.join(char for char in unicodedata.normalize('NFKD', text) if not unicodedata.combining(char))\n",
    "\n",
    "url = \"https://www.reddit.com/r/WaterfordWhispersNews/\"\n",
    "\n",
    "# Set up a headless browser\n",
    "options = webdriver.ChromeOptions()\n",
    "options.headless = True\n",
    "driver = webdriver.Chrome(options=options)\n",
    "\n",
    "# Navigate to the URL\n",
    "driver.get(url)\n",
    "\n",
    "# Simulate scrolling\n",
    "for _ in range(5):\n",
    "    driver.execute_script(\"window.scrollTo(0, document.body.scrollHeight);\")\n",
    "    time.sleep(2)\n",
    "\n",
    "# Get the updated HTML content after scrolling\n",
    "html_content = driver.page_source\n",
    "\n",
    "# exit browser\n",
    "driver.quit()\n",
    "\n",
    "soup = BeautifulSoup(html_content, 'html.parser')\n",
    "\n",
    "# Find all a tags with the class\n",
    "a_tags = soup.find_all('a', {'class': 'absolute inset-0'})\n",
    "\n",
    "result_list = []\n",
    "\n",
    "# Set a limit for testing purposes\n",
    "limit = 2000\n",
    "\n",
    "for a_tag in a_tags[:limit]:\n",
    "    # Extract the href\n",
    "    link = remove_unicode_escape(a_tag.get('href', ''))\n",
    "\n",
    "    # Extract the aria-label\n",
    "    name = remove_unicode_escape(a_tag.get('aria-label', ''))\n",
    "\n",
    "    # Create a dictionary for the current link and name\n",
    "    result_dict = {'link': link, 'name': name, 'isSarcastic': 1}\n",
    "\n",
    "    # Append the dictionary to the result list\n",
    "    result_list.append(result_dict)\n",
    "\n",
    "# Print the result list for testing\n",
    "print(result_list)\n",
    "\n",
    "# Write the result list to a JSON file\n",
    "with open('output1_WWN.json', 'w') as json_file:\n",
    "    json.dump(result_list, json_file, indent=2)\n"
   ]
  }
 ],
 "metadata": {
  "kernelspec": {
   "display_name": ".venv",
   "language": "python",
   "name": "python3"
  },
  "language_info": {
   "codemirror_mode": {
    "name": "ipython",
    "version": 3
   },
   "file_extension": ".py",
   "mimetype": "text/x-python",
   "name": "python",
   "nbconvert_exporter": "python",
   "pygments_lexer": "ipython3",
   "version": "3.10.14"
  }
 },
 "nbformat": 4,
 "nbformat_minor": 2
}
