{
 "cells": [
  {
   "cell_type": "code",
   "execution_count": 3,
   "metadata": {},
   "outputs": [
    {
     "name": "stdout",
     "output_type": "stream",
     "text": [
      "Collecting feedparser\n",
      "  Downloading feedparser-6.0.11-py3-none-any.whl.metadata (2.4 kB)\n",
      "Collecting sgmllib3k (from feedparser)\n",
      "  Downloading sgmllib3k-1.0.0.tar.gz (5.8 kB)\n",
      "  Preparing metadata (setup.py): started\n",
      "  Preparing metadata (setup.py): finished with status 'done'\n",
      "Downloading feedparser-6.0.11-py3-none-any.whl (81 kB)\n",
      "   ---------------------------------------- 0.0/81.3 kB ? eta -:--:--\n",
      "   ---------------------------------------- 0.0/81.3 kB ? eta -:--:--\n",
      "   ---------------------------------------- 0.0/81.3 kB ? eta -:--:--\n",
      "   ---------------------------------------- 0.0/81.3 kB ? eta -:--:--\n",
      "   ---------------------------------------- 0.0/81.3 kB ? eta -:--:--\n",
      "   ------------------------------ --------- 61.4/81.3 kB ? eta -:--:--\n",
      "   ---------------------------------------- 81.3/81.3 kB 1.5 MB/s eta 0:00:00\n",
      "Building wheels for collected packages: sgmllib3k\n",
      "  Building wheel for sgmllib3k (setup.py): started\n",
      "  Building wheel for sgmllib3k (setup.py): finished with status 'done'\n",
      "  Created wheel for sgmllib3k: filename=sgmllib3k-1.0.0-py3-none-any.whl size=6061 sha256=a6a5dd1b9323eac2ab8b7b2e2f23919d8e7fec236f57a6efbf74314af349a671\n",
      "  Stored in directory: c:\\users\\yogad\\appdata\\local\\pip\\cache\\wheels\\3b\\25\\2a\\105d6a15df6914f4d15047691c6c28f9052cc1173e40285d03\n",
      "Successfully built sgmllib3k\n",
      "Installing collected packages: sgmllib3k, feedparser\n",
      "Successfully installed feedparser-6.0.11 sgmllib3k-1.0.0\n"
     ]
    }
   ],
   "source": [
    "%pip install feedparser"
   ]
  },
  {
   "cell_type": "code",
   "execution_count": 1,
   "metadata": {},
   "outputs": [
    {
     "name": "stdout",
     "output_type": "stream",
     "text": [
      "Scraping complete. Data saved to rte_news.json.\n"
     ]
    }
   ],
   "source": [
    "\n",
    "import feedparser\n",
    "import json\n",
    "\n",
    "def scrape_rte_news():\n",
    "    # URL of the RTE News RSS feed\n",
    "    rss_url = \"https://www.rte.ie/feeds/rss/?index=/news/\"\n",
    "\n",
    "    # Parse the RSS feed\n",
    "    feed = feedparser.parse(rss_url)\n",
    "\n",
    "    # Create a list to store the scraped data\n",
    "    data = []\n",
    "\n",
    "    # Iterate over the entries in the RSS feed\n",
    "    for entry in feed.entries:\n",
    "        # Extract title and link\n",
    "        title = entry.title\n",
    "        link = entry.link\n",
    "\n",
    "        # Set sarcastic flag to 0 for RTE News articles\n",
    "        sarcastic = 0\n",
    "\n",
    "        # Create a dictionary to hold the data\n",
    "        article_data = {\n",
    "            'title': title,\n",
    "            'link': link,\n",
    "            'isSarcastic': sarcastic\n",
    "        }\n",
    "\n",
    "        # Append the dictionary to the data list\n",
    "        data.append(article_data)\n",
    "\n",
    "    # Save the data to a JSON file\n",
    "    with open('rte_news1.json', 'w') as json_file:\n",
    "        json.dump(data, json_file, indent=2)\n",
    "\n",
    "    print(\"Scraping complete. Data saved to rte_news.json.\")\n",
    "\n",
    "# Call the function to start scraping\n",
    "scrape_rte_news()\n"
   ]
  }
 ],
 "metadata": {
  "kernelspec": {
   "display_name": ".venv",
   "language": "python",
   "name": "python3"
  },
  "language_info": {
   "codemirror_mode": {
    "name": "ipython",
    "version": 3
   },
   "file_extension": ".py",
   "mimetype": "text/x-python",
   "name": "python",
   "nbconvert_exporter": "python",
   "pygments_lexer": "ipython3",
   "version": "3.11.0"
  }
 },
 "nbformat": 4,
 "nbformat_minor": 2
}
