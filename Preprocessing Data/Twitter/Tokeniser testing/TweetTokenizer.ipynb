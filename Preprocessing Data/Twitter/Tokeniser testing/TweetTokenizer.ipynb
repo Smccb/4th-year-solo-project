{
 "cells": [
  {
   "cell_type": "code",
   "execution_count": 12,
   "metadata": {},
   "outputs": [],
   "source": [
    "import numpy as np\n",
    "import tensorflow as tf\n",
    "\n",
    "from tensorflow.keras.models import Sequential\n",
    "from tensorflow.keras.layers import Embedding, LSTM, Dense\n",
    "from tensorflow.keras.preprocessing.text import Tokenizer\n",
    "from tensorflow.keras.preprocessing.sequence import pad_sequences\n",
    "from tensorflow.keras.utils import to_categorical\n",
    "import pandas as pd"
   ]
  },
  {
   "cell_type": "code",
   "execution_count": 19,
   "metadata": {},
   "outputs": [],
   "source": [
    "from sklearn.model_selection import train_test_split\n",
    "\n",
    "# Read the dataset\n",
    "dataset = pd.read_json(\"../data_without_hashtags.json\")\n",
    "\n",
    "# Split the dataset into training and testing sets\n",
    "X_train, X_test, y_train, y_test = train_test_split(dataset['text'], dataset['isSarcastic'], test_size=0.2, random_state=42)"
   ]
  },
  {
   "cell_type": "code",
   "execution_count": 20,
   "metadata": {},
   "outputs": [
    {
     "name": "stdout",
     "output_type": "stream",
     "text": [
      "Shape of X_train: (31824, 140)\n",
      "Shape of X_test: (7956, 140)\n"
     ]
    }
   ],
   "source": [
    "import pandas as pd\n",
    "from nltk.tokenize import TweetTokenizer\n",
    "from keras_preprocessing.sequence import pad_sequences\n",
    "\n",
    "# Read the dataset\n",
    "# dataset = pd.read_json(\"data_without_hashtags.json\")\n",
    "\n",
    "# Example data\n",
    "#X_train = [\"This is a tweet!\", \"Another tweet here.\"]\n",
    "#X_test = [\"Yet another tweet!\", \"And one more tweet.\"]\n",
    "\n",
    "# Define max_length\n",
    "max_length = 140\n",
    "\n",
    "# Initialize TweetTokenizer\n",
    "tweetTokenizer = TweetTokenizer()\n",
    "\n",
    "# Tokenize training text data\n",
    "X_train_tokenized = [tweetTokenizer.tokenize(text) for text in X_train]\n",
    "\n",
    "# Tokenize testing text data\n",
    "X_test_tokenized = [tweetTokenizer.tokenize(text) for text in X_test]\n",
    "\n",
    "# Create Tokenizer instance\n",
    "tokenizer = Tokenizer()\n",
    "\n",
    "# Fit tokenizer on training text data\n",
    "tokenizer.fit_on_texts(X_train_tokenized)\n",
    "\n",
    "# Convert text data to sequences\n",
    "X_train_sequences = tokenizer.texts_to_sequences(X_train_tokenized)\n",
    "X_test_sequences = tokenizer.texts_to_sequences(X_test_tokenized)\n",
    "\n",
    "# Pad sequences\n",
    "X_train = pad_sequences(X_train_sequences, maxlen=max_length)\n",
    "X_test = pad_sequences(X_test_sequences, maxlen=max_length)\n",
    "\n",
    "# Display shapes of resulting matrices\n",
    "print(\"Shape of X_train:\", X_train.shape)\n",
    "print(\"Shape of X_test:\", X_test.shape)\n"
   ]
  },
  {
   "cell_type": "code",
   "execution_count": 21,
   "metadata": {},
   "outputs": [
    {
     "name": "stdout",
     "output_type": "stream",
     "text": [
      "Model: \"sequential_4\"\n",
      "_________________________________________________________________\n",
      " Layer (type)                Output Shape              Param #   \n",
      "=================================================================\n",
      " embedding_4 (Embedding)     (None, 140, 100)          3342900   \n",
      "                                                                 \n",
      " cu_dnnlstm_4 (CuDNNLSTM)    (None, 150)               151200    \n",
      "                                                                 \n",
      " dense_6 (Dense)             (None, 64)                9664      \n",
      "                                                                 \n",
      " dense_7 (Dense)             (None, 64)                4160      \n",
      "                                                                 \n",
      " dense_8 (Dense)             (None, 1)                 65        \n",
      "                                                                 \n",
      "=================================================================\n",
      "Total params: 3,507,989\n",
      "Trainable params: 3,507,989\n",
      "Non-trainable params: 0\n",
      "_________________________________________________________________\n"
     ]
    }
   ],
   "source": [
    "from keras.layers import CuDNNLSTM\n",
    "from keras.models import Sequential\n",
    "from keras.layers import Embedding, LSTM, Dense\n",
    "from keras.optimizers import Adam\n",
    "\n",
    "embedding_dim = 100\n",
    "\n",
    "# Define the vocabulary size based on the actual number of unique words in the training data\n",
    "vocab_size = len(tokenizer.word_index) + 1\n",
    "\n",
    "max_length = 140\n",
    "\n",
    "optimizer = Adam(learning_rate=0.000009)\n",
    "m1 = Sequential()\n",
    "m1.add(Embedding(input_dim=vocab_size, output_dim=embedding_dim, input_length=max_length))\n",
    "m1.add(CuDNNLSTM(units=150))\n",
    "m1.add(Dense(units=64))\n",
    "m1.add(Dense(units=64))\n",
    "m1.add(Dense(units=1, activation='sigmoid'))\n",
    "\n",
    "m1.compile(optimizer=optimizer, loss='binary_crossentropy', metrics=['accuracy'])\n",
    "m1.summary()"
   ]
  },
  {
   "cell_type": "code",
   "execution_count": 22,
   "metadata": {},
   "outputs": [
    {
     "name": "stdout",
     "output_type": "stream",
     "text": [
      "Epoch 1/20\n",
      "498/498 [==============================] - 13s 25ms/step - loss: 0.6903 - accuracy: 0.5348 - val_loss: 0.6878 - val_accuracy: 0.5368\n",
      "Epoch 2/20\n",
      "498/498 [==============================] - 12s 24ms/step - loss: 0.6867 - accuracy: 0.5354 - val_loss: 0.6844 - val_accuracy: 0.5377\n",
      "Epoch 3/20\n",
      "498/498 [==============================] - 12s 25ms/step - loss: 0.6821 - accuracy: 0.5555 - val_loss: 0.6791 - val_accuracy: 0.5626\n",
      "Epoch 4/20\n",
      "498/498 [==============================] - 13s 25ms/step - loss: 0.6733 - accuracy: 0.5967 - val_loss: 0.6682 - val_accuracy: 0.6083\n",
      "Epoch 5/20\n",
      "498/498 [==============================] - 12s 25ms/step - loss: 0.6506 - accuracy: 0.6419 - val_loss: 0.6354 - val_accuracy: 0.6471\n",
      "Epoch 6/20\n",
      "498/498 [==============================] - 12s 25ms/step - loss: 0.5860 - accuracy: 0.7046 - val_loss: 0.5956 - val_accuracy: 0.6844\n",
      "Epoch 7/20\n",
      "498/498 [==============================] - 12s 25ms/step - loss: 0.5330 - accuracy: 0.7418 - val_loss: 0.5553 - val_accuracy: 0.7166\n",
      "Epoch 8/20\n",
      "498/498 [==============================] - 12s 25ms/step - loss: 0.4967 - accuracy: 0.7656 - val_loss: 0.5433 - val_accuracy: 0.7276\n",
      "Epoch 9/20\n",
      "498/498 [==============================] - 12s 25ms/step - loss: 0.4680 - accuracy: 0.7845 - val_loss: 0.5240 - val_accuracy: 0.7407\n",
      "Epoch 10/20\n",
      "498/498 [==============================] - 12s 25ms/step - loss: 0.4436 - accuracy: 0.7985 - val_loss: 0.5141 - val_accuracy: 0.7474\n",
      "Epoch 11/20\n",
      "498/498 [==============================] - 13s 25ms/step - loss: 0.4224 - accuracy: 0.8114 - val_loss: 0.5060 - val_accuracy: 0.7538\n",
      "Epoch 12/20\n",
      "498/498 [==============================] - 12s 25ms/step - loss: 0.4022 - accuracy: 0.8215 - val_loss: 0.5016 - val_accuracy: 0.7547\n",
      "Epoch 13/20\n",
      "498/498 [==============================] - 13s 26ms/step - loss: 0.3849 - accuracy: 0.8315 - val_loss: 0.4953 - val_accuracy: 0.7609\n",
      "Epoch 14/20\n",
      "498/498 [==============================] - 13s 25ms/step - loss: 0.3684 - accuracy: 0.8396 - val_loss: 0.4931 - val_accuracy: 0.7672\n",
      "Epoch 15/20\n",
      "498/498 [==============================] - 12s 25ms/step - loss: 0.3534 - accuracy: 0.8483 - val_loss: 0.4938 - val_accuracy: 0.7671\n",
      "Epoch 16/20\n",
      "498/498 [==============================] - 12s 25ms/step - loss: 0.3397 - accuracy: 0.8550 - val_loss: 0.4941 - val_accuracy: 0.7709\n",
      "Epoch 17/20\n",
      "498/498 [==============================] - 12s 25ms/step - loss: 0.3264 - accuracy: 0.8617 - val_loss: 0.4944 - val_accuracy: 0.7717\n",
      "Epoch 18/20\n",
      "498/498 [==============================] - 12s 25ms/step - loss: 0.3139 - accuracy: 0.8680 - val_loss: 0.4965 - val_accuracy: 0.7736\n",
      "Epoch 19/20\n",
      "498/498 [==============================] - 12s 25ms/step - loss: 0.3021 - accuracy: 0.8727 - val_loss: 0.5039 - val_accuracy: 0.7704\n",
      "Epoch 20/20\n",
      "498/498 [==============================] - 12s 25ms/step - loss: 0.2906 - accuracy: 0.8795 - val_loss: 0.5114 - val_accuracy: 0.7705\n",
      "249/249 [==============================] - 1s 5ms/step - loss: 0.5114 - accuracy: 0.7706\n",
      "Loss: 0.5113967061042786, Accuracy: 77.06%\n"
     ]
    }
   ],
   "source": [
    "# Train the model\n",
    "m1.fit(X_train, y_train, epochs=20, batch_size=64, validation_data=(X_test, y_test))\n",
    "\n",
    "# Evaluate the model\n",
    "loss, accuracy = m1.evaluate(X_test, y_test)\n",
    "print(f'Loss: {loss}, Accuracy: {accuracy * 100:.2f}%')"
   ]
  },
  {
   "cell_type": "code",
   "execution_count": 23,
   "metadata": {},
   "outputs": [
    {
     "name": "stdout",
     "output_type": "stream",
     "text": [
      "249/249 [==============================] - 1s 5ms/step\n",
      "Precision: 0.7863\n",
      "Recall: 0.6931\n"
     ]
    }
   ],
   "source": [
    "from sklearn.metrics import precision_score, recall_score\n",
    "\n",
    "# Predict on validation data\n",
    "y_val_pred_prob_m1 = m1.predict(X_test)\n",
    "y_val_pred_m1 = (y_val_pred_prob_m1 > 0.5).astype(int)  # Threshold for binary classification\n",
    "\n",
    "# Assuming y_test is in binary format (0 or 1)\n",
    "y_val_true_m1 = y_test\n",
    "\n",
    "# Calculate precision and recall for binary classification\n",
    "precision_m1 = precision_score(y_val_true_m1, y_val_pred_m1)\n",
    "recall_m1 = recall_score(y_val_true_m1, y_val_pred_m1)\n",
    "\n",
    "# print the results\n",
    "print(f'Precision: {precision_m1:.4f}')\n",
    "print(f'Recall: {recall_m1:.4f}')"
   ]
  }
 ],
 "metadata": {
  "kernelspec": {
   "display_name": "Python 3",
   "language": "python",
   "name": "python3"
  },
  "language_info": {
   "codemirror_mode": {
    "name": "ipython",
    "version": 3
   },
   "file_extension": ".py",
   "mimetype": "text/x-python",
   "name": "python",
   "nbconvert_exporter": "python",
   "pygments_lexer": "ipython3",
   "version": "3.10.13"
  }
 },
 "nbformat": 4,
 "nbformat_minor": 2
}
