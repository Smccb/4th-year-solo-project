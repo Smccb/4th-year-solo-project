{
 "cells": [
  {
   "cell_type": "code",
   "execution_count": 1,
   "metadata": {},
   "outputs": [
    {
     "name": "stdout",
     "output_type": "stream",
     "text": [
      "robots.txt content:\n",
      "User-agent: *\n",
      "Disallow: /wp-admin/\n",
      "Allow: /wp-admin/admin-ajax.php\n",
      "\n",
      "Sitemap: https://waterfordwhispersnews.com/wp-sitemap.xml\n",
      "\n"
     ]
    }
   ],
   "source": [
    "import requests\n",
    "\n",
    "def check_robots_txt(url):\n",
    "    robots_url = f\"{url}/robots.txt\"\n",
    "    response = requests.get(robots_url)\n",
    "\n",
    "    if response.status_code == 200:\n",
    "        print(\"robots.txt content:\")\n",
    "        print(response.text)\n",
    "    else:\n",
    "        print(f\"Failed to fetch robots.txt. Status code: {response.status_code}\")\n",
    "\n",
    "if __name__ == \"__main__\":\n",
    "    website_url = \"https://waterfordwhispersnews.com\"\n",
    "    check_robots_txt(website_url)\n"
   ]
  },
  {
   "cell_type": "code",
   "execution_count": 5,
   "metadata": {},
   "outputs": [],
   "source": [
    "import requests\n",
    "from bs4 import BeautifulSoup\n",
    "import json\n",
    "\n",
    "def scrape_waterford_whispers():\n",
    "    url = \"https://waterfordwhispersnews.com/category/breaking-news/\"\n",
    "    response = requests.get(url)\n",
    "    \n",
    "    if response.status_code == 200:\n",
    "        soup = BeautifulSoup(response.text, 'html.parser')\n",
    "        articles = soup.find_all('article')\n",
    "\n",
    "        data = []\n",
    "        for article in articles:\n",
    "            headline = article.find('h2').text\n",
    "            link = article.find('a')['href']\n",
    "            sarcastic_value = 1\n",
    "\n",
    "            # Create a unique ID for each entry\n",
    "            entry_id = hash(f\"{headline}{link}\")\n",
    "\n",
    "            data.append({\n",
    "                'id': entry_id,\n",
    "                'headline': headline,\n",
    "                'link': link,\n",
    "                'sarcastic_value': sarcastic_value\n",
    "            })\n",
    "\n",
    "        # Save data to a JSON file\n",
    "        with open('waterford_whispers_data.json', 'w') as json_file:\n",
    "            json.dump(data, json_file, indent=2)\n",
    "\n",
    "    else:\n",
    "        print(f\"Failed to fetch the page. Status code: {response.status_code}\")\n",
    "\n",
    "if __name__ == \"__main__\":\n",
    "    scrape_waterford_whispers()\n"
   ]
  },
  {
   "cell_type": "code",
   "execution_count": 8,
   "metadata": {},
   "outputs": [],
   "source": [
    "import requests\n",
    "from bs4 import BeautifulSoup\n",
    "import json\n",
    "\n",
    "def scrape_waterford_whispers():\n",
    "    url = \"https://waterfordwhispersnews.com/category/breaking-news/\"\n",
    "    response = requests.get(url)\n",
    "    \n",
    "    if response.status_code == 200:\n",
    "        soup = BeautifulSoup(response.text, 'html.parser')\n",
    "        \n",
    "        data = []\n",
    "        \n",
    "        # Initial articles on the page\n",
    "        initial_articles = soup.find_all('article')\n",
    "        data.extend(extract_data_from_articles(initial_articles))\n",
    "\n",
    "        # Fetch additional articles through AJAX calls (you need to inspect the network requests in your browser to find the correct endpoint)\n",
    "        # Example:\n",
    "        # ajax_url = \"https://waterfordwhispersnews.com/wp-admin/admin-ajax.php\"\n",
    "        # ajax_data = {'action': 'load_more_posts', 'page': 2}\n",
    "        # ajax_response = requests.post(ajax_url, data=ajax_data)\n",
    "        # additional_articles = BeautifulSoup(ajax_response.text, 'html.parser').find_all('article')\n",
    "        # data.extend(extract_data_from_articles(additional_articles))\n",
    "\n",
    "        # Save data to a JSON file\n",
    "        with open('waterford_whispers_data.json', 'w') as json_file:\n",
    "            json.dump(data, json_file, indent=2)\n",
    "\n",
    "    else:\n",
    "        print(f\"Failed to fetch the page. Status code: {response.status_code}\")\n",
    "\n",
    "def extract_data_from_articles(articles):\n",
    "    extracted_data = []\n",
    "    for article in articles:\n",
    "        headline = article.find('h2').text\n",
    "        link = article.find('a')['href']\n",
    "        sarcastic_value = 1\n",
    "\n",
    "        # Create a unique ID for each entry\n",
    "        entry_id = hash(f\"{headline}{link}\")\n",
    "\n",
    "        extracted_data.append({\n",
    "            'id': entry_id,\n",
    "            'headline': headline,\n",
    "            'link': link,\n",
    "            'sarcastic_value': sarcastic_value\n",
    "        })\n",
    "    return extracted_data\n",
    "\n",
    "if __name__ == \"__main__\":\n",
    "    scrape_waterford_whispers()\n"
   ]
  },
  {
   "cell_type": "code",
   "execution_count": 12,
   "metadata": {},
   "outputs": [
    {
     "name": "stdout",
     "output_type": "stream",
     "text": [
      "Failed to fetch the sitemap. Status code: 202\n"
     ]
    },
    {
     "ename": "UnboundLocalError",
     "evalue": "cannot access local variable 'urls' where it is not associated with a value",
     "output_type": "error",
     "traceback": [
      "\u001b[1;31m---------------------------------------------------------------------------\u001b[0m",
      "\u001b[1;31mUnboundLocalError\u001b[0m                         Traceback (most recent call last)",
      "Cell \u001b[1;32mIn[12], line 20\u001b[0m\n\u001b[0;32m     17\u001b[0m     \u001b[38;5;28;01mreturn\u001b[39;00m urls\n\u001b[0;32m     19\u001b[0m \u001b[38;5;28;01mif\u001b[39;00m \u001b[38;5;18m__name__\u001b[39m \u001b[38;5;241m==\u001b[39m \u001b[38;5;124m\"\u001b[39m\u001b[38;5;124m__main__\u001b[39m\u001b[38;5;124m\"\u001b[39m:\n\u001b[1;32m---> 20\u001b[0m     urls \u001b[38;5;241m=\u001b[39m \u001b[43mscrape_waterford_whispers\u001b[49m\u001b[43m(\u001b[49m\u001b[43m)\u001b[49m\n\u001b[0;32m     22\u001b[0m     \u001b[38;5;28;01mif\u001b[39;00m urls:\n\u001b[0;32m     23\u001b[0m         \u001b[38;5;28;01mfor\u001b[39;00m url \u001b[38;5;129;01min\u001b[39;00m urls:\n",
      "Cell \u001b[1;32mIn[12], line 17\u001b[0m, in \u001b[0;36mscrape_waterford_whispers\u001b[1;34m()\u001b[0m\n\u001b[0;32m     13\u001b[0m \u001b[38;5;28;01melse\u001b[39;00m:\n\u001b[0;32m     14\u001b[0m     \u001b[38;5;28mprint\u001b[39m(\u001b[38;5;124mf\u001b[39m\u001b[38;5;124m\"\u001b[39m\u001b[38;5;124mFailed to fetch the sitemap. Status code: \u001b[39m\u001b[38;5;132;01m{\u001b[39;00mresponse\u001b[38;5;241m.\u001b[39mstatus_code\u001b[38;5;132;01m}\u001b[39;00m\u001b[38;5;124m\"\u001b[39m)\n\u001b[1;32m---> 17\u001b[0m \u001b[38;5;28;01mreturn\u001b[39;00m \u001b[43murls\u001b[49m\n",
      "\u001b[1;31mUnboundLocalError\u001b[0m: cannot access local variable 'urls' where it is not associated with a value"
     ]
    }
   ],
   "source": [
    "import requests\n",
    "from bs4 import BeautifulSoup\n",
    "\n",
    "def scrape_waterford_whispers():\n",
    "    sitemap_url = \"https://waterfordwhispersnews.com/wp-sitemap-posts-post-1.xml\"\n",
    "    response = requests.get(sitemap_url)\n",
    "    \n",
    "    if response.status_code == 200:\n",
    "        soup = BeautifulSoup(response.text, 'html.parser')\n",
    "        urls = soup.find_all('loc')\n",
    "        return urls\n",
    "    \n",
    "    else:\n",
    "        print(f\"Failed to fetch the sitemap. Status code: {response.status_code}\")\n",
    "\n",
    "\n",
    "    return None\n",
    "\n",
    "if __name__ == \"__main__\":\n",
    "    urls = scrape_waterford_whispers()\n",
    "    \n",
    "    if urls:\n",
    "        for url in urls:\n",
    "            print(url)\n",
    "    else:\n",
    "        print(\"Failed to fetch URLs from the sitemap.\")\n"
   ]
  },
  {
   "cell_type": "code",
   "execution_count": null,
   "metadata": {},
   "outputs": [],
   "source": []
  }
 ],
 "metadata": {
  "kernelspec": {
   "display_name": ".venv",
   "language": "python",
   "name": "python3"
  },
  "language_info": {
   "codemirror_mode": {
    "name": "ipython",
    "version": 3
   },
   "file_extension": ".py",
   "mimetype": "text/x-python",
   "name": "python",
   "nbconvert_exporter": "python",
   "pygments_lexer": "ipython3",
   "version": "3.11.0"
  }
 },
 "nbformat": 4,
 "nbformat_minor": 2
}
