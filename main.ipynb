{
 "cells": [
  {
   "cell_type": "code",
   "execution_count": 31,
   "metadata": {},
   "outputs": [
    {
     "ename": "EOFError",
     "evalue": "Ran out of input",
     "output_type": "error",
     "traceback": [
      "\u001b[1;31m---------------------------------------------------------------------------\u001b[0m",
      "\u001b[1;31mEOFError\u001b[0m                                  Traceback (most recent call last)",
      "Cell \u001b[1;32mIn[31], line 7\u001b[0m\n\u001b[0;32m      5\u001b[0m \u001b[38;5;66;03m#testing out pickled model\u001b[39;00m\n\u001b[0;32m      6\u001b[0m \u001b[38;5;28;01mwith\u001b[39;00m \u001b[38;5;28mopen\u001b[39m(\u001b[38;5;124m'\u001b[39m\u001b[38;5;124mmodel_pickle\u001b[39m\u001b[38;5;124m'\u001b[39m,\u001b[38;5;124m'\u001b[39m\u001b[38;5;124mrb\u001b[39m\u001b[38;5;124m'\u001b[39m) \u001b[38;5;28;01mas\u001b[39;00m file:\n\u001b[1;32m----> 7\u001b[0m     mp \u001b[38;5;241m=\u001b[39m \u001b[43mpickle\u001b[49m\u001b[38;5;241;43m.\u001b[39;49m\u001b[43mload\u001b[49m\u001b[43m(\u001b[49m\u001b[43mfile\u001b[49m\u001b[43m)\u001b[49m\n\u001b[0;32m     10\u001b[0m \u001b[38;5;66;03m#user_input = \"Nice job. I loved how you read every single word directly from the slides.\"\u001b[39;00m\n\u001b[0;32m     11\u001b[0m     \n\u001b[0;32m     12\u001b[0m \u001b[38;5;66;03m# Example usage:\u001b[39;00m\n\u001b[0;32m     13\u001b[0m user_input \u001b[38;5;241m=\u001b[39m \u001b[38;5;28minput\u001b[39m(\u001b[38;5;124m\"\u001b[39m\u001b[38;5;124mEnter a sentence: \u001b[39m\u001b[38;5;124m\"\u001b[39m)\n",
      "\u001b[1;31mEOFError\u001b[0m: Ran out of input"
     ]
    }
   ],
   "source": [
    "import pickle\n",
    "from keras.preprocessing.text import Tokenizer\n",
    "from keras.preprocessing.sequence import pad_sequences\n",
    "\n",
    "#testing out pickled model\n",
    "with open('model_pickle','rb') as file:\n",
    "    mp = pickle.load(file)\n",
    "\n",
    "\n",
    "#user_input = \"Nice job. I loved how you read every single word directly from the slides.\"\n",
    "    \n",
    "# Example usage:\n",
    "user_input = input(\"Enter a sentence: \")\n",
    "\n",
    "# Tokenize and vectorize the training text data using Tokenizer and pad_sequences\n",
    "max_length = 92\n",
    "tokenizer = Tokenizer()\n",
    "\n",
    "# Function to preprocess user input and make a prediction\n",
    "def predict_sarcasm(user_input, model, tokenizer, max_length, threshold=0.5):\n",
    "    # Tokenize and preprocess user input\n",
    "    user_input_sequence = tokenizer.texts_to_sequences([user_input])\n",
    "    user_input_padded = pad_sequences(user_input_sequence, maxlen=max_length)\n",
    "\n",
    "    # Make prediction\n",
    "    prediction_prob = model.predict(user_input_padded)\n",
    "    predicted_label = 1 if prediction_prob[0, 0] > threshold else 0\n",
    "\n",
    "    return predicted_label, prediction_prob\n",
    "\n",
    "# Call the predict_sarcasm function with a custom threshold (e.g., 0.3)\n",
    "predicted_label, predicted_prob = predict_sarcasm(user_input, mp, tokenizer, max_length, threshold=0.3)\n",
    "\n",
    "# Display the prediction\n",
    "if predicted_label == 1:\n",
    "    print(\"The model predicts that the input is sarcastic.\")\n",
    "else:\n",
    "    print(\"The model predicts that the input is not sarcastic.\")\n",
    "\n",
    "# Optional: Display the predicted probabilities\n",
    "print(\"Predicted Probabilities:\", predicted_prob)\n",
    "print(\"User input\", user_input)"
   ]
  },
  {
   "cell_type": "code",
   "execution_count": 30,
   "metadata": {},
   "outputs": [
    {
     "name": "stdout",
     "output_type": "stream",
     "text": [
      "1/1 [==============================] - 0s 34ms/step\n",
      "The model predicts that the input is sarcastic.\n",
      "Predicted Probabilities: [[0.5398273]]\n",
      "User input US approves plan to strike Iranian targets in Syria and Iraq, officials say\n"
     ]
    }
   ],
   "source": [
    "#adding in a inconclusive results output because it did not meet minimum threshold\n",
    "max_length = 92\n",
    "tokenizer = Tokenizer()\n",
    "\n",
    "# Function to preprocess user input and make a prediction\n",
    "def predict_sarcasm(user_input, model, tokenizer, max_length, threshold=0.5):\n",
    "    # Tokenize and preprocess user input\n",
    "    user_input_sequence = tokenizer.texts_to_sequences([user_input])\n",
    "    user_input_padded = pad_sequences(user_input_sequence, maxlen=max_length)\n",
    "\n",
    "    # Make prediction\n",
    "    prediction_prob = model.predict(user_input_padded)\n",
    "    predicted_label = 1 if prediction_prob[0, 0] > threshold else 0\n",
    "\n",
    "    return predicted_label, prediction_prob\n",
    "\n",
    "# Call the predict_sarcasm function with a custom threshold (e.g., 0.3)\n",
    "predicted_label, predicted_prob = predict_sarcasm(user_input, mp, tokenizer, max_length, threshold=0.3)\n",
    "\n",
    "# Display the prediction\n",
    "if predicted_label == 1:\n",
    "    print(\"The model predicts that the input is sarcastic.\")\n",
    "elif predicted_label == 0:\n",
    "    print(\"The model predicts that the input is not sarcastic.\")\n",
    "\n",
    "else:\n",
    "    print(\"The model is inconclusive.\")\n",
    "\n",
    "# Optional: Display the predicted probabilities\n",
    "print(\"Predicted Probabilities:\", predicted_prob)\n",
    "print(\"User input\", user_input)"
   ]
  }
 ],
 "metadata": {
  "kernelspec": {
   "display_name": ".venv",
   "language": "python",
   "name": "python3"
  },
  "language_info": {
   "codemirror_mode": {
    "name": "ipython",
    "version": 3
   },
   "file_extension": ".py",
   "mimetype": "text/x-python",
   "name": "python",
   "nbconvert_exporter": "python",
   "pygments_lexer": "ipython3",
   "version": "3.11.0"
  }
 },
 "nbformat": 4,
 "nbformat_minor": 2
}
