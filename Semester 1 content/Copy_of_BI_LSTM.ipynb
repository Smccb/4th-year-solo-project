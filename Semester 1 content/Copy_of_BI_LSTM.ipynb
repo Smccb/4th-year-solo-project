{
  "cells": [
    {
      "cell_type": "code",
      "execution_count": 6,
      "metadata": {
        "id": "MImG3wt45Lo8"
      },
      "outputs": [],
      "source": [
        "#example on keras documentation https://keras.io/examples/nlp/bidirectional_lstm_imdb/\n",
        "#dataset https://www.kaggle.com/datasets/thedevastator/new-dataset-for-text-classification-ag-news\n",
        "import numpy as np\n",
        "from tensorflow import keras\n",
        "from tensorflow.keras import layers\n",
        "\n",
        "max_features = 20000  # Only consider the top 20k words\n",
        "maxlen = 200  # Only consider the first 200 words of each news article review\n"
      ]
    },
    {
      "cell_type": "code",
      "execution_count": 7,
      "metadata": {
        "colab": {
          "base_uri": "https://localhost:8080/"
        },
        "id": "WxYSM5akN3mM",
        "outputId": "b8745d53-5d43-4be0-ea63-548102b02b40"
      },
      "outputs": [
        {
          "name": "stdout",
          "output_type": "stream",
          "text": [
            "WARNING:tensorflow:From c:\\Users\\Sarah\\Desktop\\4th-year-solo-project\\.venv\\Lib\\site-packages\\keras\\src\\backend.py:1398: The name tf.executing_eagerly_outside_functions is deprecated. Please use tf.compat.v1.executing_eagerly_outside_functions instead.\n",
            "\n",
            "Model: \"model\"\n",
            "_________________________________________________________________\n",
            " Layer (type)                Output Shape              Param #   \n",
            "=================================================================\n",
            " input_1 (InputLayer)        [(None, None)]            0         \n",
            "                                                                 \n",
            " embedding (Embedding)       (None, None, 128)         2560000   \n",
            "                                                                 \n",
            " bidirectional (Bidirection  (None, None, 128)         98816     \n",
            " al)                                                             \n",
            "                                                                 \n",
            " bidirectional_1 (Bidirecti  (None, 128)               98816     \n",
            " onal)                                                           \n",
            "                                                                 \n",
            " dense (Dense)               (None, 1)                 129       \n",
            "                                                                 \n",
            "=================================================================\n",
            "Total params: 2757761 (10.52 MB)\n",
            "Trainable params: 2757761 (10.52 MB)\n",
            "Non-trainable params: 0 (0.00 Byte)\n",
            "_________________________________________________________________\n"
          ]
        }
      ],
      "source": [
        "#example on keras documentation https://keras.io/examples/nlp/bidirectional_lstm_imdb/\n",
        "# Input for variable-length sequences of integers\n",
        "inputs = keras.Input(shape=(None,), dtype=\"int32\")\n",
        "# Embed each integer in a 128-dimensional vector\n",
        "x = layers.Embedding(max_features, 128)(inputs)\n",
        "# Add 2 bidirectional LSTMs\n",
        "x = layers.Bidirectional(layers.LSTM(64, return_sequences=True))(x)\n",
        "x = layers.Bidirectional(layers.LSTM(64))(x)\n",
        "# Add a classifier\n",
        "outputs = layers.Dense(1, activation=\"sigmoid\")(x)\n",
        "model = keras.Model(inputs, outputs)\n",
        "model.summary()"
      ]
    },
    {
      "cell_type": "code",
      "execution_count": 8,
      "metadata": {
        "colab": {
          "base_uri": "https://localhost:8080/",
          "height": 206
        },
        "id": "L6vGH5YW36y-",
        "outputId": "6f344885-3c76-4b9a-aa92-2ef26030b834"
      },
      "outputs": [
        {
          "data": {
            "text/html": [
              "<div>\n",
              "<style scoped>\n",
              "    .dataframe tbody tr th:only-of-type {\n",
              "        vertical-align: middle;\n",
              "    }\n",
              "\n",
              "    .dataframe tbody tr th {\n",
              "        vertical-align: top;\n",
              "    }\n",
              "\n",
              "    .dataframe thead th {\n",
              "        text-align: right;\n",
              "    }\n",
              "</style>\n",
              "<table border=\"1\" class=\"dataframe\">\n",
              "  <thead>\n",
              "    <tr style=\"text-align: right;\">\n",
              "      <th></th>\n",
              "      <th>text</th>\n",
              "      <th>label</th>\n",
              "    </tr>\n",
              "  </thead>\n",
              "  <tbody>\n",
              "    <tr>\n",
              "      <th>0</th>\n",
              "      <td>Wall St. Bears Claw Back Into the Black (Reute...</td>\n",
              "      <td>2</td>\n",
              "    </tr>\n",
              "    <tr>\n",
              "      <th>1</th>\n",
              "      <td>Carlyle Looks Toward Commercial Aerospace (Reu...</td>\n",
              "      <td>2</td>\n",
              "    </tr>\n",
              "    <tr>\n",
              "      <th>2</th>\n",
              "      <td>Oil and Economy Cloud Stocks' Outlook (Reuters...</td>\n",
              "      <td>2</td>\n",
              "    </tr>\n",
              "    <tr>\n",
              "      <th>3</th>\n",
              "      <td>Iraq Halts Oil Exports from Main Southern Pipe...</td>\n",
              "      <td>2</td>\n",
              "    </tr>\n",
              "    <tr>\n",
              "      <th>4</th>\n",
              "      <td>Oil prices soar to all-time record, posing new...</td>\n",
              "      <td>2</td>\n",
              "    </tr>\n",
              "  </tbody>\n",
              "</table>\n",
              "</div>"
            ],
            "text/plain": [
              "                                                text  label\n",
              "0  Wall St. Bears Claw Back Into the Black (Reute...      2\n",
              "1  Carlyle Looks Toward Commercial Aerospace (Reu...      2\n",
              "2  Oil and Economy Cloud Stocks' Outlook (Reuters...      2\n",
              "3  Iraq Halts Oil Exports from Main Southern Pipe...      2\n",
              "4  Oil prices soar to all-time record, posing new...      2"
            ]
          },
          "execution_count": 8,
          "metadata": {},
          "output_type": "execute_result"
        }
      ],
      "source": [
        "#check number of uniqie words in dataset to update vocab size later\n",
        "import pandas as pd\n",
        "data = pd.read_csv(\"train.csv\", nrows = 1000)\n",
        "data.head()\n",
        "#data.info()"
      ]
    },
    {
      "cell_type": "code",
      "execution_count": 9,
      "metadata": {
        "colab": {
          "base_uri": "https://localhost:8080/"
        },
        "id": "3C9vbZIK9Uu-",
        "outputId": "11374c7a-ef52-4133-9c53-c2a073fd2482"
      },
      "outputs": [
        {
          "name": "stdout",
          "output_type": "stream",
          "text": [
            "Model: \"model_1\"\n",
            "_________________________________________________________________\n",
            " Layer (type)                Output Shape              Param #   \n",
            "=================================================================\n",
            " input_2 (InputLayer)        [(None, None)]            0         \n",
            "                                                                 \n",
            " embedding_1 (Embedding)     (None, None, 128)         2560000   \n",
            "                                                                 \n",
            " bidirectional_2 (Bidirecti  (None, None, 128)         98816     \n",
            " onal)                                                           \n",
            "                                                                 \n",
            " bidirectional_3 (Bidirecti  (None, 128)               98816     \n",
            " onal)                                                           \n",
            "                                                                 \n",
            " dense_1 (Dense)             (None, 4)                 516       \n",
            "                                                                 \n",
            "=================================================================\n",
            "Total params: 2758148 (10.52 MB)\n",
            "Trainable params: 2758148 (10.52 MB)\n",
            "Non-trainable params: 0 (0.00 Byte)\n",
            "_________________________________________________________________\n"
          ]
        }
      ],
      "source": [
        "#budilding model\n",
        "from tensorflow import keras\n",
        "from tensorflow.keras import layers\n",
        "\n",
        "# vocab size\n",
        "max_features = 20000\n",
        "\n",
        "inputs = keras.Input(shape=(None,), dtype=\"int32\")\n",
        "\n",
        "x = layers.Embedding(max_features, 128)(inputs)\n",
        "\n",
        "# Add 2 bidirectional LSTMs\n",
        "x = layers.Bidirectional(layers.LSTM(64, return_sequences=True))(x)\n",
        "x = layers.Bidirectional(layers.LSTM(64))(x)\n",
        "\n",
        "num_classes = 4  # Number of classes\n",
        "outputs = layers.Dense(num_classes, activation=\"softmax\")(x)\n",
        "\n",
        "model = keras.Model(inputs, outputs)\n",
        "model.summary()"
      ]
    },
    {
      "cell_type": "code",
      "execution_count": 10,
      "metadata": {
        "colab": {
          "base_uri": "https://localhost:8080/",
          "height": 206
        },
        "id": "mFVNZATg-AZi",
        "outputId": "f3be055b-4099-4bac-949d-9b8ed3a992df"
      },
      "outputs": [
        {
          "data": {
            "text/html": [
              "<div>\n",
              "<style scoped>\n",
              "    .dataframe tbody tr th:only-of-type {\n",
              "        vertical-align: middle;\n",
              "    }\n",
              "\n",
              "    .dataframe tbody tr th {\n",
              "        vertical-align: top;\n",
              "    }\n",
              "\n",
              "    .dataframe thead th {\n",
              "        text-align: right;\n",
              "    }\n",
              "</style>\n",
              "<table border=\"1\" class=\"dataframe\">\n",
              "  <thead>\n",
              "    <tr style=\"text-align: right;\">\n",
              "      <th></th>\n",
              "      <th>text</th>\n",
              "      <th>label</th>\n",
              "    </tr>\n",
              "  </thead>\n",
              "  <tbody>\n",
              "    <tr>\n",
              "      <th>0</th>\n",
              "      <td>Wall St. Bears Claw Back Into the Black (Reute...</td>\n",
              "      <td>2</td>\n",
              "    </tr>\n",
              "    <tr>\n",
              "      <th>1</th>\n",
              "      <td>Carlyle Looks Toward Commercial Aerospace (Reu...</td>\n",
              "      <td>2</td>\n",
              "    </tr>\n",
              "    <tr>\n",
              "      <th>2</th>\n",
              "      <td>Oil and Economy Cloud Stocks' Outlook (Reuters...</td>\n",
              "      <td>2</td>\n",
              "    </tr>\n",
              "    <tr>\n",
              "      <th>3</th>\n",
              "      <td>Iraq Halts Oil Exports from Main Southern Pipe...</td>\n",
              "      <td>2</td>\n",
              "    </tr>\n",
              "    <tr>\n",
              "      <th>4</th>\n",
              "      <td>Oil prices soar to all-time record, posing new...</td>\n",
              "      <td>2</td>\n",
              "    </tr>\n",
              "  </tbody>\n",
              "</table>\n",
              "</div>"
            ],
            "text/plain": [
              "                                                text  label\n",
              "0  Wall St. Bears Claw Back Into the Black (Reute...      2\n",
              "1  Carlyle Looks Toward Commercial Aerospace (Reu...      2\n",
              "2  Oil and Economy Cloud Stocks' Outlook (Reuters...      2\n",
              "3  Iraq Halts Oil Exports from Main Southern Pipe...      2\n",
              "4  Oil prices soar to all-time record, posing new...      2"
            ]
          },
          "execution_count": 10,
          "metadata": {},
          "output_type": "execute_result"
        }
      ],
      "source": [
        "#used https://www.kaggle.com/code/ybrenning/simple-feature-extractor-bert-model#Loading-the-Dataset and labs from data analysis for help\n",
        "import pandas as pd\n",
        "data = pd.read_csv(\"train.csv\", nrows = 1000) #could also direct to kaggle website and not enter the name directly\n",
        "data.head()\n",
        "#df.shape"
      ]
    },
    {
      "cell_type": "code",
      "execution_count": 11,
      "metadata": {
        "colab": {
          "base_uri": "https://localhost:8080/"
        },
        "id": "QwRXG8n1_XOk",
        "outputId": "05213dbb-a55e-4c1f-c719-70d4c121d24a"
      },
      "outputs": [
        {
          "data": {
            "text/plain": [
              "<bound method NDFrame.tail of                                                   text  label\n",
              "0    Wall St. Bears Claw Back Into the Black (Reute...      2\n",
              "1    Carlyle Looks Toward Commercial Aerospace (Reu...      2\n",
              "2    Oil and Economy Cloud Stocks' Outlook (Reuters...      2\n",
              "3    Iraq Halts Oil Exports from Main Southern Pipe...      2\n",
              "4    Oil prices soar to all-time record, posing new...      2\n",
              "..                                                 ...    ...\n",
              "995  U.S. Stocks Rebound as Oil Prices Ease  NEW YO...      2\n",
              "996  Dollar Rises Vs Euro After Asset Data  NEW YOR...      2\n",
              "997  Bikes Bring Internet to Indian Villagers (AP) ...      3\n",
              "998  Celebrity Chefs Are Everywhere in Vegas By ADA...      3\n",
              "999  Entertainment World Wary of Microsoft Technolo...      3\n",
              "\n",
              "[1000 rows x 2 columns]>"
            ]
          },
          "execution_count": 11,
          "metadata": {},
          "output_type": "execute_result"
        }
      ],
      "source": [
        "data.tail"
      ]
    },
    {
      "cell_type": "code",
      "execution_count": 12,
      "metadata": {},
      "outputs": [
        {
          "data": {
            "text/html": [
              "<div>\n",
              "<style scoped>\n",
              "    .dataframe tbody tr th:only-of-type {\n",
              "        vertical-align: middle;\n",
              "    }\n",
              "\n",
              "    .dataframe tbody tr th {\n",
              "        vertical-align: top;\n",
              "    }\n",
              "\n",
              "    .dataframe thead th {\n",
              "        text-align: right;\n",
              "    }\n",
              "</style>\n",
              "<table border=\"1\" class=\"dataframe\">\n",
              "  <thead>\n",
              "    <tr style=\"text-align: right;\">\n",
              "      <th></th>\n",
              "      <th>text</th>\n",
              "      <th>label</th>\n",
              "    </tr>\n",
              "  </thead>\n",
              "  <tbody>\n",
              "    <tr>\n",
              "      <th>0</th>\n",
              "      <td>Wall St. Bears Claw Back Into the Black (Reute...</td>\n",
              "      <td>2</td>\n",
              "    </tr>\n",
              "    <tr>\n",
              "      <th>1</th>\n",
              "      <td>Carlyle Looks Toward Commercial Aerospace (Reu...</td>\n",
              "      <td>2</td>\n",
              "    </tr>\n",
              "    <tr>\n",
              "      <th>2</th>\n",
              "      <td>Oil and Economy Cloud Stocks' Outlook (Reuters...</td>\n",
              "      <td>2</td>\n",
              "    </tr>\n",
              "    <tr>\n",
              "      <th>3</th>\n",
              "      <td>Iraq Halts Oil Exports from Main Southern Pipe...</td>\n",
              "      <td>2</td>\n",
              "    </tr>\n",
              "    <tr>\n",
              "      <th>4</th>\n",
              "      <td>Oil prices soar to all-time record, posing new...</td>\n",
              "      <td>2</td>\n",
              "    </tr>\n",
              "  </tbody>\n",
              "</table>\n",
              "</div>"
            ],
            "text/plain": [
              "                                                text  label\n",
              "0  Wall St. Bears Claw Back Into the Black (Reute...      2\n",
              "1  Carlyle Looks Toward Commercial Aerospace (Reu...      2\n",
              "2  Oil and Economy Cloud Stocks' Outlook (Reuters...      2\n",
              "3  Iraq Halts Oil Exports from Main Southern Pipe...      2\n",
              "4  Oil prices soar to all-time record, posing new...      2"
            ]
          },
          "execution_count": 12,
          "metadata": {},
          "output_type": "execute_result"
        }
      ],
      "source": [
        "data.head()"
      ]
    },
    {
      "cell_type": "code",
      "execution_count": 5,
      "metadata": {
        "colab": {
          "base_uri": "https://localhost:8080/"
        },
        "id": "qFN8zv0J_f6T",
        "outputId": "a64f2091-63c1-40a3-9bfb-c9f333df7b14"
      },
      "outputs": [
        {
          "data": {
            "text/plain": [
              "(1000, 2)"
            ]
          },
          "execution_count": 5,
          "metadata": {},
          "output_type": "execute_result"
        }
      ],
      "source": [
        "data.shape"
      ]
    },
    {
      "cell_type": "code",
      "execution_count": 13,
      "metadata": {
        "colab": {
          "base_uri": "https://localhost:8080/"
        },
        "id": "dyXySn-C_iHt",
        "outputId": "b08ac0f8-c069-4230-ef58-ce8add35854f"
      },
      "outputs": [
        {
          "data": {
            "text/plain": [
              "text     object\n",
              "label     int64\n",
              "dtype: object"
            ]
          },
          "execution_count": 13,
          "metadata": {},
          "output_type": "execute_result"
        }
      ],
      "source": [
        "data.dtypes"
      ]
    },
    {
      "cell_type": "code",
      "execution_count": 14,
      "metadata": {
        "colab": {
          "base_uri": "https://localhost:8080/"
        },
        "id": "9BTDqxroAs9X",
        "outputId": "9c3a8056-6564-4a60-b0bc-83c8e87eb247"
      },
      "outputs": [
        {
          "name": "stdout",
          "output_type": "stream",
          "text": [
            "800 Training sequences\n",
            "200 Validation sequences\n"
          ]
        }
      ],
      "source": [
        "#load data\n",
        "\n",
        "from tensorflow.keras.preprocessing.text import Tokenizer\n",
        "\n",
        "from tensorflow.keras.preprocessing.sequence import pad_sequences\n",
        "from tensorflow.keras.utils import to_categorical\n",
        "#getting text and label using pandas\n",
        "texts = data['text']\n",
        "labels = data['label']\n",
        "\n",
        "#Tokenize\n",
        "tokenizer = Tokenizer(num_words=max_features)\n",
        "tokenizer.fit_on_texts(texts)\n",
        "sequences = tokenizer.texts_to_sequences(texts)\n",
        "\n",
        "#padding sequences to a fixed length\n",
        "\n",
        "maxlen = 200\n",
        "X = pad_sequences(sequences, maxlen=maxlen)\n",
        "\n",
        "Y = labels  #label encoding\n",
        "\n",
        "#split your data into training and validation sets\n",
        "from sklearn.model_selection import train_test_split\n",
        "x_train, x_val, y_train, y_val = train_test_split(X, Y, test_size=0.2, random_state=42)\n",
        "\n",
        "print(len(x_train), \"Training sequences\")\n",
        "print(len(x_val), \"Validation sequences\")\n"
      ]
    },
    {
      "cell_type": "code",
      "execution_count": 15,
      "metadata": {
        "colab": {
          "base_uri": "https://localhost:8080/"
        },
        "id": "pO3AKXWrC5az",
        "outputId": "498a92bd-d7c3-42ef-cc91-1cff38b438a2"
      },
      "outputs": [
        {
          "name": "stdout",
          "output_type": "stream",
          "text": [
            "WARNING:tensorflow:From c:\\Users\\Sarah\\Desktop\\4th-year-solo-project\\.venv\\Lib\\site-packages\\keras\\src\\optimizers\\__init__.py:309: The name tf.train.Optimizer is deprecated. Please use tf.compat.v1.train.Optimizer instead.\n",
            "\n",
            "Epoch 1/10\n",
            "WARNING:tensorflow:From c:\\Users\\Sarah\\Desktop\\4th-year-solo-project\\.venv\\Lib\\site-packages\\keras\\src\\utils\\tf_utils.py:492: The name tf.ragged.RaggedTensorValue is deprecated. Please use tf.compat.v1.ragged.RaggedTensorValue instead.\n",
            "\n",
            "WARNING:tensorflow:From c:\\Users\\Sarah\\Desktop\\4th-year-solo-project\\.venv\\Lib\\site-packages\\keras\\src\\engine\\base_layer_utils.py:384: The name tf.executing_eagerly_outside_functions is deprecated. Please use tf.compat.v1.executing_eagerly_outside_functions instead.\n",
            "\n",
            "25/25 [==============================] - 7s 129ms/step - loss: 1.2998 - accuracy: 0.4525 - val_loss: 1.2331 - val_accuracy: 0.4850\n",
            "Epoch 2/10\n",
            "25/25 [==============================] - 2s 85ms/step - loss: 0.9790 - accuracy: 0.5825 - val_loss: 1.0258 - val_accuracy: 0.5200\n",
            "Epoch 3/10\n",
            "25/25 [==============================] - 2s 83ms/step - loss: 0.6316 - accuracy: 0.6913 - val_loss: 0.8610 - val_accuracy: 0.6600\n",
            "Epoch 4/10\n",
            "25/25 [==============================] - 2s 82ms/step - loss: 0.4320 - accuracy: 0.8413 - val_loss: 0.7366 - val_accuracy: 0.7600\n",
            "Epoch 5/10\n",
            "25/25 [==============================] - 2s 84ms/step - loss: 0.1664 - accuracy: 0.9663 - val_loss: 0.6296 - val_accuracy: 0.8000\n",
            "Epoch 6/10\n",
            "25/25 [==============================] - 2s 85ms/step - loss: 0.0586 - accuracy: 0.9887 - val_loss: 0.6472 - val_accuracy: 0.7900\n",
            "Epoch 7/10\n",
            "25/25 [==============================] - 2s 83ms/step - loss: 0.0409 - accuracy: 0.9937 - val_loss: 0.6664 - val_accuracy: 0.7950\n",
            "Epoch 8/10\n",
            "25/25 [==============================] - 2s 83ms/step - loss: 0.0323 - accuracy: 0.9925 - val_loss: 0.6231 - val_accuracy: 0.7600\n",
            "Epoch 9/10\n",
            "25/25 [==============================] - 2s 84ms/step - loss: 0.0250 - accuracy: 0.9925 - val_loss: 0.6137 - val_accuracy: 0.7850\n",
            "Epoch 10/10\n",
            "25/25 [==============================] - 2s 84ms/step - loss: 0.0269 - accuracy: 0.9937 - val_loss: 0.7044 - val_accuracy: 0.7950\n",
            "7/7 [==============================] - 0s 25ms/step - loss: 0.7044 - accuracy: 0.7950\n",
            "Loss: 0.7043758630752563, Accuracy: 79.50%\n"
          ]
        }
      ],
      "source": [
        "#compile model with metrics\n",
        "model.compile(optimizer=\"adam\", loss=\"sparse_categorical_crossentropy\", metrics=[\"accuracy\"])\n",
        "\n",
        "#training model on data\n",
        "model.fit(x_train, y_train, batch_size=32, epochs=10, validation_data=(x_val, y_val))\n",
        "loss, accuracy = model.evaluate(x_val, y_val)\n",
        "print(f'Loss: {loss}, Accuracy: {accuracy * 100:.2f}%')"
      ]
    }
  ],
  "metadata": {
    "colab": {
      "provenance": []
    },
    "kernelspec": {
      "display_name": "Python 3",
      "name": "python3"
    },
    "language_info": {
      "codemirror_mode": {
        "name": "ipython",
        "version": 3
      },
      "file_extension": ".py",
      "mimetype": "text/x-python",
      "name": "python",
      "nbconvert_exporter": "python",
      "pygments_lexer": "ipython3",
      "version": "3.11.2"
    }
  },
  "nbformat": 4,
  "nbformat_minor": 0
}
